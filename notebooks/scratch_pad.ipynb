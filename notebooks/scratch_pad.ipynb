{
 "cells": [
  {
   "cell_type": "code",
   "execution_count": 7,
   "id": "09f4a0ce",
   "metadata": {},
   "outputs": [],
   "source": [
    "import numpy as np\n",
    "import matplotlib.pyplot as plt\n"
   ]
  },
  {
   "cell_type": "markdown",
   "id": "d0e1bf20",
   "metadata": {},
   "source": [
    "## Image Overlay"
   ]
  },
  {
   "cell_type": "code",
   "execution_count": 25,
   "id": "e6850df3",
   "metadata": {},
   "outputs": [],
   "source": [
    "## quick POC to try how image overlays would work. \n",
    "pixels = np.ones(shape=(10,10,1))\n",
    "canvas = np.zeros(shape=(100,100,1))\n",
    "temp = np.zeros(shape=(28,28))"
   ]
  },
  {
   "cell_type": "code",
   "execution_count": null,
   "id": "93d99aa0",
   "metadata": {},
   "outputs": [],
   "source": [
    "## lets see if we can render canvas as image\n",
    "## helper function to plot the mnist data instances\n",
    "def plot_canvas(canvas_data):\n",
    "    plt.imshow(canvas_data)  # Use 'gray' colormap to render grayscale\n",
    "    plt.axis(\"off\") # Remove axes for better visualization    \n",
    "    plt.show()"
   ]
  },
  {
   "cell_type": "code",
   "execution_count": 27,
   "id": "1c62755d",
   "metadata": {},
   "outputs": [
    {
     "data": {
      "image/png": "[encoded data removed]",
      "text/plain": [
       "<Figure size 640x480 with 1 Axes>"
      ]
     },
     "metadata": {},
     "output_type": "display_data"
    }
   ],
   "source": [
    "## lets say we want to put the pixels on top, left corner of canvas so \n",
    "plot_canvas(canvas)"
   ]
  },
  {
   "cell_type": "code",
   "execution_count": 30,
   "id": "1e13f0b9",
   "metadata": {},
   "outputs": [
    {
     "data": {
      "image/png": "[encoded data removed]",
      "text/plain": [
       "<Figure size 640x480 with 1 Axes>"
      ]
     },
     "metadata": {},
     "output_type": "display_data"
    }
   ],
   "source": [
    "## lets overlay the pixels which should be a white blob on top left corner of canvas\n",
    "canvas[0:10,0:10] = pixels\n",
    "plot_canvas(canvas)"
   ]
  },
  {
   "cell_type": "code",
   "execution_count": 2,
   "id": "ca241061",
   "metadata": {},
   "outputs": [
    {
     "data": {
      "text/plain": [
       "1"
      ]
     },
     "execution_count": 2,
     "metadata": {},
     "output_type": "execute_result"
    }
   ],
   "source": [
    "temp1 = [1,2,3,4]\n",
    "[a,b,c,d] = temp1\n",
    "a"
   ]
  },
  {
   "cell_type": "code",
   "execution_count": 8,
   "id": "6c3bf4b8",
   "metadata": {},
   "outputs": [
    {
     "data": {
      "text/plain": [
       "7"
      ]
     },
     "execution_count": 8,
     "metadata": {},
     "output_type": "execute_result"
    }
   ],
   "source": [
    "import numpy as np\n",
    "np.random.randint(0, high=100)"
   ]
  },
  {
   "cell_type": "code",
   "execution_count": null,
   "id": "35b24b54",
   "metadata": {},
   "outputs": [],
   "source": []
  }
 ],
 "metadata": {
  "kernelspec": {
   "display_name": "venv",
   "language": "python",
   "name": "python3"
  },
  "language_info": {
   "codemirror_mode": {
    "name": "ipython",
    "version": 3
   },
   "file_extension": ".py",
   "mimetype": "text/x-python",
   "name": "python",
   "nbconvert_exporter": "python",
   "pygments_lexer": "ipython3",
   "version": "3.12.2"
  }
 },
 "nbformat": 4,
 "nbformat_minor": 5
}
