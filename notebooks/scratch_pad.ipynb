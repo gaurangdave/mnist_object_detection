{
 "cells": [
  {
   "cell_type": "code",
   "execution_count": 1,
   "id": "09f4a0ce",
   "metadata": {},
   "outputs": [],
   "source": [
    "import numpy as np\n",
    "import matplotlib.pyplot as plt\n"
   ]
  },
  {
   "cell_type": "markdown",
   "id": "d0e1bf20",
   "metadata": {},
   "source": [
    "## Image Overlay"
   ]
  },
  {
   "cell_type": "code",
   "execution_count": 2,
   "id": "e6850df3",
   "metadata": {},
   "outputs": [],
   "source": [
    "## quick POC to try how image overlays would work. \n",
    "pixels = np.ones(shape=(10,10,1))\n",
    "canvas = np.zeros(shape=(100,100,1))\n",
    "temp = np.zeros(shape=(28,28))"
   ]
  },
  {
   "cell_type": "code",
   "execution_count": 3,
   "id": "93d99aa0",
   "metadata": {},
   "outputs": [],
   "source": [
    "## lets see if we can render canvas as image\n",
    "## helper function to plot the mnist data instances\n",
    "def plot_canvas(canvas_data):\n",
    "    plt.imshow(canvas_data)  # Use 'gray' colormap to render grayscale\n",
    "    plt.axis(\"off\") # Remove axes for better visualization    \n",
    "    plt.show()"
   ]
  },
  {
   "cell_type": "code",
   "execution_count": 4,
   "id": "1c62755d",
   "metadata": {},
   "outputs": [
    {
     "data": {
      "image/png": "[encoded data removed]",
      "text/plain": [
       "<Figure size 640x480 with 1 Axes>"
      ]
     },
     "metadata": {},
     "output_type": "display_data"
    }
   ],
   "source": [
    "## lets say we want to put the pixels on top, left corner of canvas so \n",
    "plot_canvas(canvas)"
   ]
  },
  {
   "cell_type": "code",
   "execution_count": 5,
   "id": "1e13f0b9",
   "metadata": {},
   "outputs": [
    {
     "data": {
      "image/png": "[encoded data removed]",
      "text/plain": [
       "<Figure size 640x480 with 1 Axes>"
      ]
     },
     "metadata": {},
     "output_type": "display_data"
    }
   ],
   "source": [
    "## lets overlay the pixels which should be a white blob on top left corner of canvas\n",
    "canvas[0:10,0:10] = pixels\n",
    "plot_canvas(canvas)"
   ]
  },
  {
   "cell_type": "code",
   "execution_count": 6,
   "id": "ca241061",
   "metadata": {},
   "outputs": [
    {
     "data": {
      "text/plain": [
       "1"
      ]
     },
     "execution_count": 6,
     "metadata": {},
     "output_type": "execute_result"
    }
   ],
   "source": [
    "temp1 = [1,2,3,4]\n",
    "[a,b,c,d] = temp1\n",
    "a"
   ]
  },
  {
   "cell_type": "code",
   "execution_count": 7,
   "id": "6c3bf4b8",
   "metadata": {},
   "outputs": [
    {
     "data": {
      "text/plain": [
       "90"
      ]
     },
     "execution_count": 7,
     "metadata": {},
     "output_type": "execute_result"
    }
   ],
   "source": [
    "import numpy as np\n",
    "np.random.randint(0, high=100)"
   ]
  },
  {
   "cell_type": "code",
   "execution_count": 8,
   "id": "35b24b54",
   "metadata": {},
   "outputs": [
    {
     "data": {
      "text/plain": [
       "'/home/gaurangdave/workspace/mnist_object_detection/notebooks'"
      ]
     },
     "execution_count": 8,
     "metadata": {},
     "output_type": "execute_result"
    }
   ],
   "source": [
    "import os \n",
    "dir_path = os.getcwd()\n",
    "dir_path\n"
   ]
  },
  {
   "cell_type": "code",
   "execution_count": 9,
   "id": "da8999c4",
   "metadata": {},
   "outputs": [
    {
     "name": "stderr",
     "output_type": "stream",
     "text": [
      "2025-09-10 12:59:07.466728: E external/local_xla/xla/stream_executor/cuda/cuda_fft.cc:467] Unable to register cuFFT factory: Attempting to register factory for plugin cuFFT when one has already been registered\n",
      "WARNING: All log messages before absl::InitializeLog() is called are written to STDERR\n",
      "E0000 00:00:1757534347.512794   32186 cuda_dnn.cc:8579] Unable to register cuDNN factory: Attempting to register factory for plugin cuDNN when one has already been registered\n",
      "E0000 00:00:1757534347.534221   32186 cuda_blas.cc:1407] Unable to register cuBLAS factory: Attempting to register factory for plugin cuBLAS when one has already been registered\n",
      "W0000 00:00:1757534347.641754   32186 computation_placer.cc:177] computation placer already registered. Please check linkage and avoid linking the same target more than once.\n",
      "W0000 00:00:1757534347.641837   32186 computation_placer.cc:177] computation placer already registered. Please check linkage and avoid linking the same target more than once.\n",
      "W0000 00:00:1757534347.641840   32186 computation_placer.cc:177] computation placer already registered. Please check linkage and avoid linking the same target more than once.\n",
      "W0000 00:00:1757534347.641842   32186 computation_placer.cc:177] computation placer already registered. Please check linkage and avoid linking the same target more than once.\n",
      "2025-09-10 12:59:07.669359: I tensorflow/core/platform/cpu_feature_guard.cc:210] This TensorFlow binary is optimized to use available CPU instructions in performance-critical operations.\n",
      "To enable the following instructions: AVX2 FMA, in other operations, rebuild TensorFlow with the appropriate compiler flags.\n",
      "WARNING: CPU random generator seem to be failing, disabling hardware random number generation\n",
      "WARNING: RDRND generated: 0xffffffff 0xffffffff 0xffffffff 0xffffffff\n",
      "I0000 00:00:1757534353.090742   32186 gpu_device.cc:2019] Created device /job:localhost/replica:0/task:0/device:GPU:0 with 6053 MB memory:  -> device: 0, name: NVIDIA GeForce RTX 2080 SUPER, pci bus id: 0000:2e:00.0, compute capability: 7.5\n"
     ]
    },
    {
     "data": {
      "text/plain": [
       "<tf.Tensor: shape=(3,), dtype=int32, numpy=array([20, 66, 50], dtype=int32)>"
      ]
     },
     "execution_count": 9,
     "metadata": {},
     "output_type": "execute_result"
    }
   ],
   "source": [
    "import tensorflow as tf\n",
    "\n",
    "# The \"warehouse\" of scores\n",
    "params = tf.constant([[10, 20, 30, 40],\n",
    "                      [50, 60, 70, 80],\n",
    "                      [90, 11, 22, 33],\n",
    "                      [44, 55, 66, 77]])\n",
    "\n",
    "# The list of \"GPS coordinates\"\n",
    "indices = tf.constant([[0, 1],   # Get the score at (row=0, col=1)\n",
    "                       [3, 2],   # Get the score at (row=3, col=2)\n",
    "                       [1, 0]])  # Get the score at (row=1, col=0)\n",
    "\n",
    "\n",
    "tf.gather_nd(params=params, indices=indices)"
   ]
  },
  {
   "cell_type": "code",
   "execution_count": 10,
   "id": "9f0e1c29",
   "metadata": {},
   "outputs": [
    {
     "data": {
      "text/plain": [
       "<tf.Tensor: shape=(2, 4), dtype=int32, numpy=\n",
       "array([[90, 11, 22, 33],\n",
       "       [10, 20, 30, 40]], dtype=int32)>"
      ]
     },
     "execution_count": 10,
     "metadata": {},
     "output_type": "execute_result"
    }
   ],
   "source": [
    "import tensorflow as tf\n",
    "\n",
    "# The same \"warehouse\" of scores\n",
    "params = tf.constant([[10, 20, 30, 40],\n",
    "                      [50, 60, 70, 80],\n",
    "                      [90, 11, 22, 33],\n",
    "                      [44, 55, 66, 77]])\n",
    "\n",
    "# The list of row indices you want to select\n",
    "indices = tf.constant([[2],   # Get the entire row at index 2\n",
    "                       [0]])  # Get the entire row at index 0\n",
    "\n",
    "tf.gather_nd(params=params, indices=indices)"
   ]
  },
  {
   "cell_type": "code",
   "execution_count": 11,
   "id": "525b7739",
   "metadata": {},
   "outputs": [
    {
     "data": {
      "text/plain": [
       "<tf.Tensor: shape=(3, 4), dtype=int32, numpy=\n",
       "array([[ 90,  11,  22,  33],\n",
       "       [110, 120, 130, 140],\n",
       "       [244, 255, 266, 277]], dtype=int32)>"
      ]
     },
     "execution_count": 11,
     "metadata": {},
     "output_type": "execute_result"
    }
   ],
   "source": [
    "import tensorflow as tf\n",
    "\n",
    "# A batch of 3 matrices, shape (3, 4, 4)\n",
    "params = tf.constant([\n",
    "  [[10, 20, 30, 40],   # Matrix 0\n",
    "   [50, 60, 70, 80],\n",
    "   [90, 11, 22, 33],\n",
    "   [44, 55, 66, 77]],\n",
    "\n",
    "  [[110, 120, 130, 140], # Matrix 1\n",
    "   [150, 160, 170, 180],\n",
    "   [190, 111, 122, 133],\n",
    "   [144, 155, 166, 177]],\n",
    "\n",
    "  [[210, 220, 230, 240], # Matrix 2\n",
    "   [250, 260, 270, 280],\n",
    "   [290, 211, 222, 233],\n",
    "   [244, 255, 266, 277]]\n",
    "])\n",
    "\n",
    "# The list of row indices to gather.\n",
    "# We want to get row 2 from Matrix 0, row 0 from Matrix 1, and row 3 from Matrix 2.\n",
    "indices = tf.constant([[2],   # Row index for Matrix 0\n",
    "                       [0],   # Row index for Matrix 1\n",
    "                       [3]])  # Row index for Matrix 2\n",
    "\n",
    "\n",
    "tf.gather_nd(params=params, indices=indices, batch_dims=1)"
   ]
  },
  {
   "cell_type": "markdown",
   "id": "01ca584b",
   "metadata": {},
   "source": [
    "# TensorFlow Experiments"
   ]
  },
  {
   "cell_type": "code",
   "execution_count": 12,
   "id": "d20abc81",
   "metadata": {},
   "outputs": [],
   "source": [
    "my_tensor = tf.constant([[0, 5, 0],\n",
    " [0, 8, 2],\n",
    " [0, 3, 0]])"
   ]
  },
  {
   "cell_type": "code",
   "execution_count": 13,
   "id": "125b7a1e",
   "metadata": {},
   "outputs": [
    {
     "data": {
      "text/plain": [
       "<tf.Tensor: shape=(3, 3), dtype=int32, numpy=\n",
       "array([[0, 5, 0],\n",
       "       [0, 8, 2],\n",
       "       [0, 3, 0]], dtype=int32)>"
      ]
     },
     "execution_count": 13,
     "metadata": {},
     "output_type": "execute_result"
    }
   ],
   "source": [
    "my_tensor"
   ]
  },
  {
   "cell_type": "code",
   "execution_count": 14,
   "id": "9480e7d6",
   "metadata": {},
   "outputs": [
    {
     "data": {
      "text/plain": [
       "<tf.Tensor: shape=(3, 1), dtype=int32, numpy=\n",
       "array([[ 5],\n",
       "       [10],\n",
       "       [ 3]], dtype=int32)>"
      ]
     },
     "execution_count": 14,
     "metadata": {},
     "output_type": "execute_result"
    }
   ],
   "source": [
    "tf.reduce_sum(my_tensor, keepdims=True, axis=1)"
   ]
  },
  {
   "cell_type": "code",
   "execution_count": 15,
   "id": "8d96bbec",
   "metadata": {},
   "outputs": [
    {
     "data": {
      "text/plain": [
       "<tf.Tensor: shape=(1, 3), dtype=int32, numpy=array([[ 0, 16,  2]], dtype=int32)>"
      ]
     },
     "execution_count": 15,
     "metadata": {},
     "output_type": "execute_result"
    }
   ],
   "source": [
    "tf.reduce_sum(my_tensor, keepdims=True, axis=0)"
   ]
  },
  {
   "cell_type": "markdown",
   "id": "419d1fcd",
   "metadata": {},
   "source": [
    "## Generation 1,28 and 28,1 tensors "
   ]
  },
  {
   "cell_type": "code",
   "execution_count": 16,
   "id": "62744412",
   "metadata": {},
   "outputs": [
    {
     "data": {
      "text/plain": [
       "<tf.Tensor: shape=(5, 2), dtype=int32, numpy=\n",
       "array([[ 5,  0],\n",
       "       [13,  0],\n",
       "       [22,  0],\n",
       "       [24,  0],\n",
       "       [24,  0]], dtype=int32)>"
      ]
     },
     "execution_count": 16,
     "metadata": {},
     "output_type": "execute_result"
    }
   ],
   "source": [
    "active_row_indices = tf.random.uniform(shape=(5,1),minval=0,maxval=28, dtype=tf.int32)\n",
    "row_zeros = tf.zeros(shape=(5,1), dtype=tf.int32)\n",
    "\n",
    "active_row_indices = tf.concat(values = [active_row_indices,row_zeros], axis=1)\n",
    "active_row_indices"
   ]
  },
  {
   "cell_type": "code",
   "execution_count": 17,
   "id": "0896b256",
   "metadata": {},
   "outputs": [],
   "source": [
    "## create tensors\n",
    "\n",
    "# A column tensor of shape (28, 1). Think of it as a vertical strip.\n",
    "# Each element represents the \"activity\" of a single row.\n",
    "active_rows = tf.zeros(shape=(28,1), dtype=tf.float32)\n",
    "\n",
    "# A row tensor of shape (1, 28). Think of it as a horizontal strip.\n",
    "# Each element represents the \"activity\" of a single column.\n",
    "active_cols = tf.zeros(shape=(1,28), dtype=tf.float32)\n",
    "\n",
    "\n",
    "## generate random indices to update\n",
    "\n",
    "# To update 5 specific rows in `active_rows`, we need 5 indices.\n",
    "# The shape is (5, 1) because `active_rows` is a 2D tensor, but since it only has\n",
    "# one column, TensorFlow lets us use a simpler index with just one coordinate (the row number).\n",
    "active_row_indices = tf.random.uniform(shape=(5,1), minval=0, maxval=28, dtype=tf.int32)\n",
    "\n",
    "\n",
    "# To update 5 specific columns in `active_cols`, we still need 5 indices.\n",
    "# We create a (5, 1) tensor of random column numbers first.\n",
    "active_col_indices_random = tf.random.uniform(shape=(5,1), minval=0, maxval=28, dtype=tf.int32)\n",
    "# We also need a (5, 1) tensor of row numbers. Since `active_cols` only has one row, this is always 0.\n",
    "column_zeros = tf.zeros(shape=(5,1), dtype=tf.int32)\n",
    "# We concatenate them to create the final indices.\n",
    "# The shape is (5, 2) because we are providing 5 full (row, column) coordinates\n",
    "# to precisely identify each element in the 2D `active_cols` tensor.\n",
    "active_col_indices = tf.concat(values=[column_zeros, active_col_indices_random], axis=1)\n",
    "\n",
    "\n",
    "## create update tensor\n",
    "\n",
    "# --- INTUITION FOR `row_updates` ---\n",
    "# We are updating 5 rows. Each `index` in `active_row_indices` points to a slice of\n",
    "# `active_rows`. The shape of this slice is (1,).\n",
    "# Therefore, our `updates` tensor must provide 5 \"packages\", where each package has a shape of (1,).\n",
    "# The final shape is (num_updates, slice_shape_part_1) -> (5, 1).\n",
    "row_updates = tf.ones(shape=(5,1), dtype=tf.float32)\n",
    "\n",
    "# --- INTUITION FOR `col_updates` ---\n",
    "# We are updating 5 columns. Each `(row, col)` coordinate in `active_col_indices` points\n",
    "# to a single SCALAR element within `active_cols`. The shape of this slice is ().\n",
    "# Therefore, our `updates` tensor must provide 5 \"packages\", where each package is a scalar.\n",
    "# A list of 5 scalars is a 1D tensor of shape [5].\n",
    "col_updates = tf.ones(shape=[5], dtype=tf.float32)\n",
    "\n",
    "\n",
    "# Perform the updates\n",
    "updated_rows = tf.tensor_scatter_nd_update(active_rows, active_row_indices, updates=row_updates)\n",
    "updated_cols = tf.tensor_scatter_nd_update(active_cols, active_col_indices, updates=col_updates)"
   ]
  },
  {
   "cell_type": "code",
   "execution_count": 18,
   "id": "a3cc635d",
   "metadata": {},
   "outputs": [
    {
     "data": {
      "text/plain": [
       "<tf.Tensor: shape=(), dtype=int32, numpy=3>"
      ]
     },
     "execution_count": 18,
     "metadata": {},
     "output_type": "execute_result"
    }
   ],
   "source": [
    "@tf.function\n",
    "def cond_prototype(tens_1, tens_2):\n",
    "    if tens_1 > tens_2:\n",
    "        return tens_1\n",
    "    else:\n",
    "        return tens_2\n",
    "    \n",
    "    \n",
    "# cond_prototype(tf.constant(3),tf.constant(2))\n",
    "cond_prototype(3,2)\n"
   ]
  },
  {
   "cell_type": "code",
   "execution_count": null,
   "id": "db64817b",
   "metadata": {},
   "outputs": [],
   "source": []
  }
 ],
 "metadata": {
  "kernelspec": {
   "display_name": "venv",
   "language": "python",
   "name": "python3"
  },
  "language_info": {
   "codemirror_mode": {
    "name": "ipython",
    "version": 3
   },
   "file_extension": ".py",
   "mimetype": "text/x-python",
   "name": "python",
   "nbconvert_exporter": "python",
   "pygments_lexer": "ipython3",
   "version": "3.12.2"
  }
 },
 "nbformat": 4,
 "nbformat_minor": 5
}
