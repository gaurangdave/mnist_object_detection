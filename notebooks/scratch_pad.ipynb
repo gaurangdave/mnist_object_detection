{
 "cells": [
  {
   "cell_type": "code",
   "execution_count": 7,
   "id": "09f4a0ce",
   "metadata": {},
   "outputs": [],
   "source": [
    "import numpy as np\n",
    "import matplotlib.pyplot as plt\n"
   ]
  },
  {
   "cell_type": "markdown",
   "id": "d0e1bf20",
   "metadata": {},
   "source": [
    "## Image Overlay"
   ]
  },
  {
   "cell_type": "code",
   "execution_count": 25,
   "id": "e6850df3",
   "metadata": {},
   "outputs": [],
   "source": [
    "## quick POC to try how image overlays would work. \n",
    "pixels = np.ones(shape=(10,10,1))\n",
    "canvas = np.zeros(shape=(100,100,1))\n",
    "temp = np.zeros(shape=(28,28))"
   ]
  },
  {
   "cell_type": "code",
   "execution_count": null,
   "id": "93d99aa0",
   "metadata": {},
   "outputs": [],
   "source": [
    "## lets see if we can render canvas as image\n",
    "## helper function to plot the mnist data instances\n",
    "def plot_canvas(canvas_data):\n",
    "    plt.imshow(canvas_data)  # Use 'gray' colormap to render grayscale\n",
    "    plt.axis(\"off\") # Remove axes for better visualization    \n",
    "    plt.show()"
   ]
  },
  {
   "cell_type": "code",
   "execution_count": 27,
   "id": "1c62755d",
   "metadata": {},
   "outputs": [
    {
     "data": {
      "image/png": "[encoded data removed]",
      "text/plain": [
       "<Figure size 640x480 with 1 Axes>"
      ]
     },
     "metadata": {},
     "output_type": "display_data"
    }
   ],
   "source": [
    "## lets say we want to put the pixels on top, left corner of canvas so \n",
    "plot_canvas(canvas)"
   ]
  },
  {
   "cell_type": "code",
   "execution_count": 30,
   "id": "1e13f0b9",
   "metadata": {},
   "outputs": [
    {
     "data": {
      "image/png": "[encoded data removed]",
      "text/plain": [
       "<Figure size 640x480 with 1 Axes>"
      ]
     },
     "metadata": {},
     "output_type": "display_data"
    }
   ],
   "source": [
    "## lets overlay the pixels which should be a white blob on top left corner of canvas\n",
    "canvas[0:10,0:10] = pixels\n",
    "plot_canvas(canvas)"
   ]
  },
  {
   "cell_type": "code",
   "execution_count": 2,
   "id": "ca241061",
   "metadata": {},
   "outputs": [
    {
     "data": {
      "text/plain": [
       "1"
      ]
     },
     "execution_count": 2,
     "metadata": {},
     "output_type": "execute_result"
    }
   ],
   "source": [
    "temp1 = [1,2,3,4]\n",
    "[a,b,c,d] = temp1\n",
    "a"
   ]
  },
  {
   "cell_type": "code",
   "execution_count": 8,
   "id": "6c3bf4b8",
   "metadata": {},
   "outputs": [
    {
     "data": {
      "text/plain": [
       "7"
      ]
     },
     "execution_count": 8,
     "metadata": {},
     "output_type": "execute_result"
    }
   ],
   "source": [
    "import numpy as np\n",
    "np.random.randint(0, high=100)"
   ]
  },
  {
   "cell_type": "code",
   "execution_count": 2,
   "id": "35b24b54",
   "metadata": {},
   "outputs": [
    {
     "data": {
      "text/plain": [
       "'/home/gaurangdave/workspace/mnist_object_detection/notebooks'"
      ]
     },
     "execution_count": 2,
     "metadata": {},
     "output_type": "execute_result"
    }
   ],
   "source": [
    "import os \n",
    "dir_path = os.getcwd()\n",
    "dir_path\n"
   ]
  },
  {
   "cell_type": "code",
   "execution_count": 4,
   "id": "da8999c4",
   "metadata": {},
   "outputs": [
    {
     "data": {
      "text/plain": [
       "<tf.Tensor: shape=(3,), dtype=int32, numpy=array([20, 66, 50], dtype=int32)>"
      ]
     },
     "execution_count": 4,
     "metadata": {},
     "output_type": "execute_result"
    }
   ],
   "source": [
    "import tensorflow as tf\n",
    "\n",
    "# The \"warehouse\" of scores\n",
    "params = tf.constant([[10, 20, 30, 40],\n",
    "                      [50, 60, 70, 80],\n",
    "                      [90, 11, 22, 33],\n",
    "                      [44, 55, 66, 77]])\n",
    "\n",
    "# The list of \"GPS coordinates\"\n",
    "indices = tf.constant([[0, 1],   # Get the score at (row=0, col=1)\n",
    "                       [3, 2],   # Get the score at (row=3, col=2)\n",
    "                       [1, 0]])  # Get the score at (row=1, col=0)\n",
    "\n",
    "\n",
    "tf.gather_nd(params=params, indices=indices)"
   ]
  },
  {
   "cell_type": "code",
   "execution_count": 5,
   "id": "9f0e1c29",
   "metadata": {},
   "outputs": [
    {
     "data": {
      "text/plain": [
       "<tf.Tensor: shape=(2, 4), dtype=int32, numpy=\n",
       "array([[90, 11, 22, 33],\n",
       "       [10, 20, 30, 40]], dtype=int32)>"
      ]
     },
     "execution_count": 5,
     "metadata": {},
     "output_type": "execute_result"
    }
   ],
   "source": [
    "import tensorflow as tf\n",
    "\n",
    "# The same \"warehouse\" of scores\n",
    "params = tf.constant([[10, 20, 30, 40],\n",
    "                      [50, 60, 70, 80],\n",
    "                      [90, 11, 22, 33],\n",
    "                      [44, 55, 66, 77]])\n",
    "\n",
    "# The list of row indices you want to select\n",
    "indices = tf.constant([[2],   # Get the entire row at index 2\n",
    "                       [0]])  # Get the entire row at index 0\n",
    "\n",
    "tf.gather_nd(params=params, indices=indices)"
   ]
  },
  {
   "cell_type": "code",
   "execution_count": 7,
   "id": "525b7739",
   "metadata": {},
   "outputs": [
    {
     "data": {
      "text/plain": [
       "<tf.Tensor: shape=(3, 4), dtype=int32, numpy=\n",
       "array([[ 90,  11,  22,  33],\n",
       "       [110, 120, 130, 140],\n",
       "       [244, 255, 266, 277]], dtype=int32)>"
      ]
     },
     "execution_count": 7,
     "metadata": {},
     "output_type": "execute_result"
    }
   ],
   "source": [
    "import tensorflow as tf\n",
    "\n",
    "# A batch of 3 matrices, shape (3, 4, 4)\n",
    "params = tf.constant([\n",
    "  [[10, 20, 30, 40],   # Matrix 0\n",
    "   [50, 60, 70, 80],\n",
    "   [90, 11, 22, 33],\n",
    "   [44, 55, 66, 77]],\n",
    "\n",
    "  [[110, 120, 130, 140], # Matrix 1\n",
    "   [150, 160, 170, 180],\n",
    "   [190, 111, 122, 133],\n",
    "   [144, 155, 166, 177]],\n",
    "\n",
    "  [[210, 220, 230, 240], # Matrix 2\n",
    "   [250, 260, 270, 280],\n",
    "   [290, 211, 222, 233],\n",
    "   [244, 255, 266, 277]]\n",
    "])\n",
    "\n",
    "# The list of row indices to gather.\n",
    "# We want to get row 2 from Matrix 0, row 0 from Matrix 1, and row 3 from Matrix 2.\n",
    "indices = tf.constant([[2],   # Row index for Matrix 0\n",
    "                       [0],   # Row index for Matrix 1\n",
    "                       [3]])  # Row index for Matrix 2\n",
    "\n",
    "\n",
    "tf.gather_nd(params=params, indices=indices, batch_dims=1)"
   ]
  },
  {
   "cell_type": "code",
   "execution_count": null,
   "id": "749f3f73",
   "metadata": {},
   "outputs": [],
   "source": []
  }
 ],
 "metadata": {
  "kernelspec": {
   "display_name": "venv",
   "language": "python",
   "name": "python3"
  },
  "language_info": {
   "codemirror_mode": {
    "name": "ipython",
    "version": 3
   },
   "file_extension": ".py",
   "mimetype": "text/x-python",
   "name": "python",
   "nbconvert_exporter": "python",
   "pygments_lexer": "ipython3",
   "version": "3.12.2"
  }
 },
 "nbformat": 4,
 "nbformat_minor": 5
}
