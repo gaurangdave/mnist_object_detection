{
 "cells": [
  {
   "cell_type": "markdown",
   "id": "256456c8",
   "metadata": {},
   "source": [
    "# Evaluate Models\n",
    "* In this notebooks we'll implement the inference and post inference part of the pipeline. \n",
    "* Along with that we'll also try and implement functions to validate the predictions visually. "
   ]
  },
  {
   "cell_type": "code",
   "execution_count": null,
   "id": "07647789",
   "metadata": {},
   "outputs": [],
   "source": []
  },
  {
   "cell_type": "markdown",
   "id": "8fd1f0b1",
   "metadata": {},
   "source": [
    "## Imports"
   ]
  },
  {
   "cell_type": "markdown",
   "id": "0c75ca44",
   "metadata": {},
   "source": [
    "## Import Scripts "
   ]
  },
  {
   "cell_type": "markdown",
   "id": "fdd97808",
   "metadata": {},
   "source": [
    "## Test Data Pipeline"
   ]
  },
  {
   "cell_type": "markdown",
   "id": "ac8e08c5",
   "metadata": {},
   "source": [
    "## Model Inference"
   ]
  },
  {
   "cell_type": "markdown",
   "id": "186dd7ea",
   "metadata": {},
   "source": [
    "## Post Processing"
   ]
  },
  {
   "cell_type": "markdown",
   "id": "175cdf2b",
   "metadata": {},
   "source": [
    "## Visualize Results"
   ]
  },
  {
   "cell_type": "markdown",
   "id": "3ce6eecd",
   "metadata": {},
   "source": []
  }
 ],
 "metadata": {
  "language_info": {
   "name": "python"
  }
 },
 "nbformat": 4,
 "nbformat_minor": 5
}
