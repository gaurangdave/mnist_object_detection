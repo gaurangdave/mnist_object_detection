{
 "cells": [
  {
   "cell_type": "markdown",
   "id": "1b335c0b",
   "metadata": {},
   "source": [
    "# Training & Evaluation\n",
    "* In this notebook we are going to 2 kinds of object detection models,\n",
    "    * An Object Detection CNN from scratch, the hypothesis is that since the dataset is simple, we won't need an expert model for object detection. A simple CNN should be able to give us a descent accuracy.\n",
    "    * Object detection using transfer learning - This is going to more of a hands on experience of transfer learning. "
   ]
  },
  {
   "cell_type": "markdown",
   "id": "ec4838cf",
   "metadata": {},
   "source": [
    "## Import Libraries"
   ]
  },
  {
   "cell_type": "code",
   "execution_count": 1,
   "id": "a0af58b0",
   "metadata": {},
   "outputs": [
    {
     "name": "stderr",
     "output_type": "stream",
     "text": [
      "2025-07-28 10:26:33.995490: E external/local_xla/xla/stream_executor/cuda/cuda_fft.cc:467] Unable to register cuFFT factory: Attempting to register factory for plugin cuFFT when one has already been registered\n",
      "WARNING: All log messages before absl::InitializeLog() is called are written to STDERR\n",
      "E0000 00:00:1753723594.020636   98177 cuda_dnn.cc:8579] Unable to register cuDNN factory: Attempting to register factory for plugin cuDNN when one has already been registered\n",
      "E0000 00:00:1753723594.027859   98177 cuda_blas.cc:1407] Unable to register cuBLAS factory: Attempting to register factory for plugin cuBLAS when one has already been registered\n",
      "W0000 00:00:1753723594.049422   98177 computation_placer.cc:177] computation placer already registered. Please check linkage and avoid linking the same target more than once.\n",
      "W0000 00:00:1753723594.049451   98177 computation_placer.cc:177] computation placer already registered. Please check linkage and avoid linking the same target more than once.\n",
      "W0000 00:00:1753723594.049453   98177 computation_placer.cc:177] computation placer already registered. Please check linkage and avoid linking the same target more than once.\n",
      "W0000 00:00:1753723594.049455   98177 computation_placer.cc:177] computation placer already registered. Please check linkage and avoid linking the same target more than once.\n",
      "2025-07-28 10:26:34.058331: I tensorflow/core/platform/cpu_feature_guard.cc:210] This TensorFlow binary is optimized to use available CPU instructions in performance-critical operations.\n",
      "To enable the following instructions: AVX2 FMA, in other operations, rebuild TensorFlow with the appropriate compiler flags.\n",
      "WARNING: CPU random generator seem to be failing, disabling hardware random number generation\n",
      "WARNING: RDRND generated: 0xffffffff 0xffffffff 0xffffffff 0xffffffff\n"
     ]
    }
   ],
   "source": [
    "## import libraries\n",
    "import pandas as pd\n",
    "import numpy as np\n",
    "from pathlib import Path\n",
    "import tensorflow as tf\n",
    "import matplotlib.pyplot as plt"
   ]
  },
  {
   "cell_type": "code",
   "execution_count": 2,
   "id": "d221c8ea",
   "metadata": {},
   "outputs": [
    {
     "name": "stdout",
     "output_type": "stream",
     "text": [
      "Num GPUs Available:  1\n"
     ]
    }
   ],
   "source": [
    "## validate tensorflow \n",
    "print(\"Num GPUs Available: \", len(tf.config.list_physical_devices('GPU')))"
   ]
  },
  {
   "cell_type": "markdown",
   "id": "00e49fdf",
   "metadata": {},
   "source": [
    "## Constants"
   ]
  },
  {
   "cell_type": "code",
   "execution_count": 3,
   "id": "f0c523f2",
   "metadata": {},
   "outputs": [],
   "source": [
    "data_dir = Path(\"..\",\"data\")\n",
    "models_dir = Path(\"..\",\"models\")"
   ]
  },
  {
   "cell_type": "markdown",
   "id": "2c628582",
   "metadata": {},
   "source": [
    "## Import Scripts"
   ]
  },
  {
   "cell_type": "code",
   "execution_count": 4,
   "id": "733001cb",
   "metadata": {},
   "outputs": [],
   "source": [
    "import os\n",
    "import sys\n",
    "# Build an absolute path from this notebook's parent directory\n",
    "module_path = os.path.abspath(os.path.join('..'))\n",
    "\n",
    "# Add to sys.path if not already present\n",
    "if module_path not in sys.path:\n",
    "    sys.path.append(module_path)\n",
    "    \n",
    "from src import data_generator\n",
    "\n",
    "## logic to auto reload scripts without restarting the kernel\n",
    "%load_ext autoreload\n",
    "%autoreload 2"
   ]
  },
  {
   "cell_type": "markdown",
   "id": "5ac63cdf",
   "metadata": {},
   "source": [
    "## Training Object Detection CNN"
   ]
  },
  {
   "cell_type": "markdown",
   "id": "acf21a93",
   "metadata": {},
   "source": [
    "### Step 1: Import Data"
   ]
  },
  {
   "cell_type": "code",
   "execution_count": 5,
   "id": "a181f855",
   "metadata": {},
   "outputs": [],
   "source": [
    "data = pd.read_csv(Path(data_dir,\"raw\",\"raw_mnist_data.csv\"))"
   ]
  },
  {
   "cell_type": "markdown",
   "id": "c4aab81f",
   "metadata": {},
   "source": [
    "### Step 2: Split Data"
   ]
  },
  {
   "cell_type": "code",
   "execution_count": 6,
   "id": "1e66e460",
   "metadata": {},
   "outputs": [
    {
     "data": {
      "text/plain": [
       "((70000, 784), (70000,))"
      ]
     },
     "execution_count": 6,
     "metadata": {},
     "output_type": "execute_result"
    }
   ],
   "source": [
    "raw_images = data.drop(columns=[\"class\"])\n",
    "raw_labels = data[\"class\"]\n",
    "raw_images.shape, raw_labels.shape"
   ]
  },
  {
   "cell_type": "markdown",
   "id": "b3a1f691",
   "metadata": {},
   "source": [
    "### Step 3: Initialize Map Pipeline"
   ]
  },
  {
   "cell_type": "code",
   "execution_count": 7,
   "id": "0f3b52c2",
   "metadata": {},
   "outputs": [
    {
     "name": "stderr",
     "output_type": "stream",
     "text": [
      "I0000 00:00:1753723604.413542   98177 gpu_device.cc:2019] Created device /job:localhost/replica:0/task:0/device:GPU:0 with 6055 MB memory:  -> device: 0, name: NVIDIA GeForce RTX 2080 SUPER, pci bus id: 0000:2d:00.0, compute capability: 7.5\n"
     ]
    }
   ],
   "source": [
    "X_tensor = tf.convert_to_tensor(raw_images, dtype=tf.float32)\n",
    "X_tensor = tf.reshape(X_tensor,shape=(-1,28,28,1))\n",
    "y_tensor = tf.convert_to_tensor(raw_labels, dtype=tf.float32)\n",
    "\n",
    "\n",
    "raw_dataset = tf.data.Dataset.from_tensor_slices((X_tensor,y_tensor))\n",
    "\n",
    "processed_dataset = raw_dataset.map(lambda X,y: tf.numpy_function(data_generator.generate_training_example, inp=[X,y],Tout=(tf.float32,tf.float32)), num_parallel_calls=15);"
   ]
  },
  {
   "cell_type": "markdown",
   "id": "1dc65486",
   "metadata": {},
   "source": [
    "### Step 4: Initialize the Model"
   ]
  },
  {
   "cell_type": "code",
   "execution_count": 8,
   "id": "1ce7114c",
   "metadata": {},
   "outputs": [],
   "source": [
    "model = tf.keras.Sequential([\n",
    "\n",
    "    tf.keras.layers.Rescaling(scale=1./255),\n",
    "\n",
    "    ## starting with a larger filter since we are dealing with 100x100x1 image\n",
    "    tf.keras.layers.Conv2D(filters=8, kernel_size=5, padding='same', activation='relu'),\n",
    "    tf.keras.layers.Conv2D(filters=8, kernel_size=5, padding='same', activation='relu'),\n",
    "    tf.keras.layers.MaxPooling2D(),\n",
    "    ## rest of the layers are same as our original mnist classifier\n",
    "    tf.keras.layers.Conv2D(filters=8, kernel_size=3, padding='same', activation='relu'),\n",
    "    tf.keras.layers.Conv2D(filters=8, kernel_size=3, padding='same', activation='relu'),\n",
    "    tf.keras.layers.MaxPooling2D(),\n",
    "    tf.keras.layers.Conv2D(filters=16, kernel_size=3, padding='same', activation='relu'),\n",
    "    tf.keras.layers.Conv2D(filters=16, kernel_size=3, padding='same', activation='relu'),\n",
    "    tf.keras.layers.MaxPooling2D(),\n",
    "    tf.keras.layers.Conv2D(filters=32, kernel_size=3, padding='same', activation='relu'),\n",
    "    tf.keras.layers.Conv2D(filters=32, kernel_size=3, padding='same', activation='relu'),\n",
    "    tf.keras.layers.MaxPooling2D(),\n",
    "\n",
    "    ## finaly layers to output 6x6x45 grid of predictions\n",
    "    tf.keras.layers.Conv2D(filters=45, kernel_size=1, padding='same', activation='linear'),\n",
    "\n",
    "])"
   ]
  },
  {
   "cell_type": "code",
   "execution_count": 9,
   "id": "961fbeaf",
   "metadata": {},
   "outputs": [
    {
     "data": {
      "text/html": [
       "<pre style=\"white-space:pre;overflow-x:auto;line-height:normal;font-family:Menlo,'DejaVu Sans Mono',consolas,'Courier New',monospace\"><span style=\"font-weight: bold\">Model: \"sequential\"</span>\n",
       "</pre>\n"
      ],
      "text/plain": [
       "\u001b[1mModel: \"sequential\"\u001b[0m\n"
      ]
     },
     "metadata": {},
     "output_type": "display_data"
    },
    {
     "data": {
      "text/html": [
       "<pre style=\"white-space:pre;overflow-x:auto;line-height:normal;font-family:Menlo,'DejaVu Sans Mono',consolas,'Courier New',monospace\">┏━━━━━━━━━━━━━━━━━━━━━━━━━━━━━━━━━┳━━━━━━━━━━━━━━━━━━━━━━━━┳━━━━━━━━━━━━━━━┓\n",
       "┃<span style=\"font-weight: bold\"> Layer (type)                    </span>┃<span style=\"font-weight: bold\"> Output Shape           </span>┃<span style=\"font-weight: bold\">       Param # </span>┃\n",
       "┡━━━━━━━━━━━━━━━━━━━━━━━━━━━━━━━━━╇━━━━━━━━━━━━━━━━━━━━━━━━╇━━━━━━━━━━━━━━━┩\n",
       "│ rescaling (<span style=\"color: #0087ff; text-decoration-color: #0087ff\">Rescaling</span>)           │ ?                      │   <span style=\"color: #00af00; text-decoration-color: #00af00\">0</span> (unbuilt) │\n",
       "├─────────────────────────────────┼────────────────────────┼───────────────┤\n",
       "│ conv2d (<span style=\"color: #0087ff; text-decoration-color: #0087ff\">Conv2D</span>)                 │ ?                      │   <span style=\"color: #00af00; text-decoration-color: #00af00\">0</span> (unbuilt) │\n",
       "├─────────────────────────────────┼────────────────────────┼───────────────┤\n",
       "│ conv2d_1 (<span style=\"color: #0087ff; text-decoration-color: #0087ff\">Conv2D</span>)               │ ?                      │   <span style=\"color: #00af00; text-decoration-color: #00af00\">0</span> (unbuilt) │\n",
       "├─────────────────────────────────┼────────────────────────┼───────────────┤\n",
       "│ max_pooling2d (<span style=\"color: #0087ff; text-decoration-color: #0087ff\">MaxPooling2D</span>)    │ ?                      │             <span style=\"color: #00af00; text-decoration-color: #00af00\">0</span> │\n",
       "├─────────────────────────────────┼────────────────────────┼───────────────┤\n",
       "│ conv2d_2 (<span style=\"color: #0087ff; text-decoration-color: #0087ff\">Conv2D</span>)               │ ?                      │   <span style=\"color: #00af00; text-decoration-color: #00af00\">0</span> (unbuilt) │\n",
       "├─────────────────────────────────┼────────────────────────┼───────────────┤\n",
       "│ conv2d_3 (<span style=\"color: #0087ff; text-decoration-color: #0087ff\">Conv2D</span>)               │ ?                      │   <span style=\"color: #00af00; text-decoration-color: #00af00\">0</span> (unbuilt) │\n",
       "├─────────────────────────────────┼────────────────────────┼───────────────┤\n",
       "│ max_pooling2d_1 (<span style=\"color: #0087ff; text-decoration-color: #0087ff\">MaxPooling2D</span>)  │ ?                      │             <span style=\"color: #00af00; text-decoration-color: #00af00\">0</span> │\n",
       "├─────────────────────────────────┼────────────────────────┼───────────────┤\n",
       "│ conv2d_4 (<span style=\"color: #0087ff; text-decoration-color: #0087ff\">Conv2D</span>)               │ ?                      │   <span style=\"color: #00af00; text-decoration-color: #00af00\">0</span> (unbuilt) │\n",
       "├─────────────────────────────────┼────────────────────────┼───────────────┤\n",
       "│ conv2d_5 (<span style=\"color: #0087ff; text-decoration-color: #0087ff\">Conv2D</span>)               │ ?                      │   <span style=\"color: #00af00; text-decoration-color: #00af00\">0</span> (unbuilt) │\n",
       "├─────────────────────────────────┼────────────────────────┼───────────────┤\n",
       "│ max_pooling2d_2 (<span style=\"color: #0087ff; text-decoration-color: #0087ff\">MaxPooling2D</span>)  │ ?                      │             <span style=\"color: #00af00; text-decoration-color: #00af00\">0</span> │\n",
       "├─────────────────────────────────┼────────────────────────┼───────────────┤\n",
       "│ conv2d_6 (<span style=\"color: #0087ff; text-decoration-color: #0087ff\">Conv2D</span>)               │ ?                      │   <span style=\"color: #00af00; text-decoration-color: #00af00\">0</span> (unbuilt) │\n",
       "├─────────────────────────────────┼────────────────────────┼───────────────┤\n",
       "│ conv2d_7 (<span style=\"color: #0087ff; text-decoration-color: #0087ff\">Conv2D</span>)               │ ?                      │   <span style=\"color: #00af00; text-decoration-color: #00af00\">0</span> (unbuilt) │\n",
       "├─────────────────────────────────┼────────────────────────┼───────────────┤\n",
       "│ max_pooling2d_3 (<span style=\"color: #0087ff; text-decoration-color: #0087ff\">MaxPooling2D</span>)  │ ?                      │             <span style=\"color: #00af00; text-decoration-color: #00af00\">0</span> │\n",
       "├─────────────────────────────────┼────────────────────────┼───────────────┤\n",
       "│ conv2d_8 (<span style=\"color: #0087ff; text-decoration-color: #0087ff\">Conv2D</span>)               │ ?                      │   <span style=\"color: #00af00; text-decoration-color: #00af00\">0</span> (unbuilt) │\n",
       "└─────────────────────────────────┴────────────────────────┴───────────────┘\n",
       "</pre>\n"
      ],
      "text/plain": [
       "┏━━━━━━━━━━━━━━━━━━━━━━━━━━━━━━━━━┳━━━━━━━━━━━━━━━━━━━━━━━━┳━━━━━━━━━━━━━━━┓\n",
       "┃\u001b[1m \u001b[0m\u001b[1mLayer (type)                   \u001b[0m\u001b[1m \u001b[0m┃\u001b[1m \u001b[0m\u001b[1mOutput Shape          \u001b[0m\u001b[1m \u001b[0m┃\u001b[1m \u001b[0m\u001b[1m      Param #\u001b[0m\u001b[1m \u001b[0m┃\n",
       "┡━━━━━━━━━━━━━━━━━━━━━━━━━━━━━━━━━╇━━━━━━━━━━━━━━━━━━━━━━━━╇━━━━━━━━━━━━━━━┩\n",
       "│ rescaling (\u001b[38;5;33mRescaling\u001b[0m)           │ ?                      │   \u001b[38;5;34m0\u001b[0m (unbuilt) │\n",
       "├─────────────────────────────────┼────────────────────────┼───────────────┤\n",
       "│ conv2d (\u001b[38;5;33mConv2D\u001b[0m)                 │ ?                      │   \u001b[38;5;34m0\u001b[0m (unbuilt) │\n",
       "├─────────────────────────────────┼────────────────────────┼───────────────┤\n",
       "│ conv2d_1 (\u001b[38;5;33mConv2D\u001b[0m)               │ ?                      │   \u001b[38;5;34m0\u001b[0m (unbuilt) │\n",
       "├─────────────────────────────────┼────────────────────────┼───────────────┤\n",
       "│ max_pooling2d (\u001b[38;5;33mMaxPooling2D\u001b[0m)    │ ?                      │             \u001b[38;5;34m0\u001b[0m │\n",
       "├─────────────────────────────────┼────────────────────────┼───────────────┤\n",
       "│ conv2d_2 (\u001b[38;5;33mConv2D\u001b[0m)               │ ?                      │   \u001b[38;5;34m0\u001b[0m (unbuilt) │\n",
       "├─────────────────────────────────┼────────────────────────┼───────────────┤\n",
       "│ conv2d_3 (\u001b[38;5;33mConv2D\u001b[0m)               │ ?                      │   \u001b[38;5;34m0\u001b[0m (unbuilt) │\n",
       "├─────────────────────────────────┼────────────────────────┼───────────────┤\n",
       "│ max_pooling2d_1 (\u001b[38;5;33mMaxPooling2D\u001b[0m)  │ ?                      │             \u001b[38;5;34m0\u001b[0m │\n",
       "├─────────────────────────────────┼────────────────────────┼───────────────┤\n",
       "│ conv2d_4 (\u001b[38;5;33mConv2D\u001b[0m)               │ ?                      │   \u001b[38;5;34m0\u001b[0m (unbuilt) │\n",
       "├─────────────────────────────────┼────────────────────────┼───────────────┤\n",
       "│ conv2d_5 (\u001b[38;5;33mConv2D\u001b[0m)               │ ?                      │   \u001b[38;5;34m0\u001b[0m (unbuilt) │\n",
       "├─────────────────────────────────┼────────────────────────┼───────────────┤\n",
       "│ max_pooling2d_2 (\u001b[38;5;33mMaxPooling2D\u001b[0m)  │ ?                      │             \u001b[38;5;34m0\u001b[0m │\n",
       "├─────────────────────────────────┼────────────────────────┼───────────────┤\n",
       "│ conv2d_6 (\u001b[38;5;33mConv2D\u001b[0m)               │ ?                      │   \u001b[38;5;34m0\u001b[0m (unbuilt) │\n",
       "├─────────────────────────────────┼────────────────────────┼───────────────┤\n",
       "│ conv2d_7 (\u001b[38;5;33mConv2D\u001b[0m)               │ ?                      │   \u001b[38;5;34m0\u001b[0m (unbuilt) │\n",
       "├─────────────────────────────────┼────────────────────────┼───────────────┤\n",
       "│ max_pooling2d_3 (\u001b[38;5;33mMaxPooling2D\u001b[0m)  │ ?                      │             \u001b[38;5;34m0\u001b[0m │\n",
       "├─────────────────────────────────┼────────────────────────┼───────────────┤\n",
       "│ conv2d_8 (\u001b[38;5;33mConv2D\u001b[0m)               │ ?                      │   \u001b[38;5;34m0\u001b[0m (unbuilt) │\n",
       "└─────────────────────────────────┴────────────────────────┴───────────────┘\n"
      ]
     },
     "metadata": {},
     "output_type": "display_data"
    },
    {
     "data": {
      "text/html": [
       "<pre style=\"white-space:pre;overflow-x:auto;line-height:normal;font-family:Menlo,'DejaVu Sans Mono',consolas,'Courier New',monospace\"><span style=\"font-weight: bold\"> Total params: </span><span style=\"color: #00af00; text-decoration-color: #00af00\">0</span> (0.00 B)\n",
       "</pre>\n"
      ],
      "text/plain": [
       "\u001b[1m Total params: \u001b[0m\u001b[38;5;34m0\u001b[0m (0.00 B)\n"
      ]
     },
     "metadata": {},
     "output_type": "display_data"
    },
    {
     "data": {
      "text/html": [
       "<pre style=\"white-space:pre;overflow-x:auto;line-height:normal;font-family:Menlo,'DejaVu Sans Mono',consolas,'Courier New',monospace\"><span style=\"font-weight: bold\"> Trainable params: </span><span style=\"color: #00af00; text-decoration-color: #00af00\">0</span> (0.00 B)\n",
       "</pre>\n"
      ],
      "text/plain": [
       "\u001b[1m Trainable params: \u001b[0m\u001b[38;5;34m0\u001b[0m (0.00 B)\n"
      ]
     },
     "metadata": {},
     "output_type": "display_data"
    },
    {
     "data": {
      "text/html": [
       "<pre style=\"white-space:pre;overflow-x:auto;line-height:normal;font-family:Menlo,'DejaVu Sans Mono',consolas,'Courier New',monospace\"><span style=\"font-weight: bold\"> Non-trainable params: </span><span style=\"color: #00af00; text-decoration-color: #00af00\">0</span> (0.00 B)\n",
       "</pre>\n"
      ],
      "text/plain": [
       "\u001b[1m Non-trainable params: \u001b[0m\u001b[38;5;34m0\u001b[0m (0.00 B)\n"
      ]
     },
     "metadata": {},
     "output_type": "display_data"
    }
   ],
   "source": [
    "model.summary()"
   ]
  },
  {
   "cell_type": "markdown",
   "id": "7b42f731",
   "metadata": {},
   "source": [
    "### Step 4.1 Define Custom Loss Function\n",
    "Right now our model output has the shape of 6x6x45. Which means we have 36 grid cells, each with 3 possible bounding box and each bounding box is defined by 1 cell for objectness i.e. is a object present this this box, 4 cells for bounding box dimensions (2 for center coordinates and 2 for width and height), and finally 10 cells for one hot encoded classification of digits from 0 to 9.\n",
    "\n",
    "We can break down prediction of these slices into different machine learning problems, for e.g.\n",
    "\n",
    "- 0/1 for objectness score is a binary classification problem\n",
    "- 4 digit bounding box prediction is a regression problem\n",
    "- 10 digits number prediction is multi-class classification problem\n",
    "\n",
    "Since these are different ML problems we cannot have same activation function for them, so our final activation layer needs to be linear (i.e. no activation) and then we’ll apply specific activation to specific slice based on the prediction we want. So\n",
    "\n",
    "- 0/1 problem will be activated using `Sigmoid Activation` function\n",
    "- 4 digit bounding box will be same, a linear activation\n",
    "- 10 digit number problem will be activated using `Softmax Activation`\n",
    "\n",
    "Similarly we’ll use different loss functions for all 3, so\n",
    "\n",
    "- 0/1 problem will use LogLoss function\n",
    "- 4 digit bounding box will use RMSE or MSE loss function\n",
    "- 10 digit class prediction we’ll use `SparseCategoricalCrossEntropy`\n",
    "\n",
    "#### Match Making\n",
    "* We'll also need to find the right grid to calculate the loss function against. We do that by finding the grid cell in which center of ground truth might be present.\n",
    "* In our case we have a 6x6 grid, so 36 cells and lets say we just have 2 images in our ground truth and 3 anchor boxes.\n",
    "* In our first step out of 36 cells we find one or may be 2 cells where the center of these cells lie\n",
    "* For each of cell we'll have 3 anchor boxes and so we'll calculate the IOUs and the 2 with maximum IOUs will win\n",
    "* We take those 2 anchor box, slice the output, apply activation function for objectness and 10 digit classification. Keep coordinates as it is since output of final layer is already linear."
   ]
  },
  {
   "cell_type": "markdown",
   "id": "9707dc57",
   "metadata": {},
   "source": [
    "Quick Notes on how to Match make\n",
    "* Create a empty 100x100 grid (we can also create constant for grid cells)\n",
    "* For each cell check if "
   ]
  },
  {
   "cell_type": "markdown",
   "id": "b66c6938",
   "metadata": {},
   "source": [
    "##### Cutom Training Loop"
   ]
  },
  {
   "cell_type": "code",
   "execution_count": 10,
   "id": "d4e5bb06",
   "metadata": {},
   "outputs": [],
   "source": [
    "# This is temp code to test the loss function do not use this for training.\n",
    "X_tensor = tf.convert_to_tensor(raw_images.iloc[0:10], dtype=tf.float32)\n",
    "X_tensor = tf.reshape(X_tensor, shape=(-1, 28, 28, 1))\n",
    "y_tensor = tf.convert_to_tensor(raw_labels.iloc[0:10], dtype=tf.float32)\n",
    "\n",
    "\n",
    "raw_dataset = tf.data.Dataset.from_tensor_slices((X_tensor, y_tensor))\n",
    "\n",
    "\n",
    "def generative_py_function(func, inp, Tout, shape_out):\n",
    "    # This is the bridge that calls your NumPy code\n",
    "    y = tf.numpy_function(func, inp, Tout)\n",
    "    # This is the crucial step: re-apply the shape information\n",
    "    y[0].set_shape(shape_out[0]) # Set shape for the image\n",
    "    y[1].set_shape(shape_out[1]) # Set shape for the labels\n",
    "    return y\n",
    "\n",
    "# Define the exact output shapes you expect\n",
    "output_shapes = ([100, 100, 1], [5, 15]) \n",
    "# Define the exact output data types you expect\n",
    "output_types = (tf.float32, tf.float32)\n",
    "\n",
    "\n",
    "# processed_dataset = raw_dataset.map(lambda X, y: tf.numpy_function(data_generator.generate_training_example, inp=[X, y], Tout=(\n",
    "#     tf.float32, tf.float32)), num_parallel_calls=15);\n",
    "\n",
    "# Use the wrapper inside the map\n",
    "processed_dataset = raw_dataset.map(lambda X, y: generative_py_function(\n",
    "    data_generator.generate_training_example, \n",
    "    inp=[X, y], \n",
    "    Tout=output_types, # Pass the dtypes to Tout\n",
    "    shape_out=output_shapes # Pass the shapes to our new argument\n",
    ")).batch(batch_size=5)"
   ]
  },
  {
   "cell_type": "code",
   "execution_count": 19,
   "id": "d1383b52",
   "metadata": {},
   "outputs": [],
   "source": [
    "output_file_path = Path(\"./output.txt\")\n",
    "\n",
    "## helper function to convert box values to corner coordinates\n",
    "def convert_boxes_to_corners(box_center_format):\n",
    "    ## we'll use the following formulas\n",
    "    ## x_min = floor(x_center - (width/2))\n",
    "    ## x_max = floor(x_center + (width/2))\n",
    "    ## y_min = floor(y_center - (height/2))\n",
    "    ## y_max = floor(y_cetner + (height /2))\n",
    "    ## calculate true values. \n",
    "    x_min = tf.floor(box_center_format[:,:,:,0] - (box_center_format[:,:,:,2])/2)\n",
    "    x_max = tf.floor(box_center_format[:,:,:,0] + (box_center_format[:,:,:,2])/2)\n",
    "    y_min = tf.floor(box_center_format[:,:,:,1] - (box_center_format[:,:,:,3])/2)\n",
    "    y_max = tf.floor(box_center_format[:,:,:,1] + (box_center_format[:,:,:,3])/2)\n",
    "    \n",
    "    coordinates = tf.stack(values=[x_min,y_min,x_max,y_max],axis=3)\n",
    "    return coordinates\n",
    "\n",
    "## helper function to find the intersection box corners from given 2 boxes\n",
    "def calculate_intersection_corners(box_1_corners,box_2_corners):\n",
    "    x_min_for_intersection = tf.maximum(box_1_corners[:,:,:,0],box_2_corners[:,:,:,0])\n",
    "    y_min_for_intersection = tf.maximum(box_1_corners[:,:,:,1],box_2_corners[:,:,:,1])\n",
    "    x_max_for_intersection = tf.minimum(box_1_corners[:,:,:,2],box_2_corners[:,:,:,2])\n",
    "    y_max_for_intersection = tf.minimum(box_1_corners[:,:,:,3],box_2_corners[:,:,:,3])\n",
    "    intersection_box_corners = tf.stack(values=[x_min_for_intersection,y_min_for_intersection,x_max_for_intersection,y_max_for_intersection],axis=3)\n",
    "    return intersection_box_corners\n",
    "\n",
    "## helper function to calculate the area of intersection between two boxes\n",
    "def calculate_intersection_area(intersection_box_corners):\n",
    "    # find the width = x_max - x_min, if the boxes are not intersecting, this value could be negative or 0   \n",
    "    intersection_width = tf.maximum(0, intersection_box_corners[:,:,:,2] - intersection_box_corners[:,:,:,0])\n",
    "    # find the height = y_max - y_min, if the boxes are not intersecting, this value could be negative or 0\n",
    "    intersection_height = tf.maximum(0, intersection_box_corners[:,:,:,3] - intersection_box_corners[:,:,:,1])\n",
    "    # intersection area = width * height\n",
    "    intersection_area = intersection_width * intersection_height\n",
    "    return intersection_area\n",
    "\n",
    "## helper function to calcualte the area of union between two boxes\n",
    "def calculate_union_area(box_1_dimensions, box_2_dimensions, intersection_area):\n",
    "    box_1_area = box_1_dimensions[:,:,:,0] * box_1_dimensions[:,:,:,1]\n",
    "    box_2_area = box_2_dimensions[:,:,:,0] * box_2_dimensions[:,:,:,1]\n",
    "    union_area = box_1_area + box_2_area - intersection_area\n",
    "    return union_area\n",
    "\n",
    "## helper function to calculate the IOU ration between boxes\n",
    "def calculate_iou(intersection_area, union_area):\n",
    "    iou = intersection_area / (union_area + 1e-8)\n",
    "    return iou\n",
    "\n",
    "## helper function to calculate best anchor boxes\n",
    "def calculate_best_anchor_boxes(y_true,y_pred):\n",
    "    x_grid_size = y_pred.shape[1]\n",
    "    y_grid_size = y_pred.shape[2]\n",
    "    \n",
    "    print(\"----- True Values -----\")\n",
    "    print(f\"y_true.shape {y_true.shape}\")\n",
    "\n",
    "    print(\"----- Pred Values -----\")\n",
    "    print(f\"y_pred.shape {y_pred.shape}\")\n",
    "\n",
    "\n",
    "    # we have 6x6, each grid cell has 3 anchor box i.e 108 anchor boxes per insantance\n",
    "    anchor_boxes = tf.reshape(\n",
    "        y_pred, shape=(-1, x_grid_size, y_grid_size, 3, 15))\n",
    "    print(f\"anchor_boxes.shape {anchor_boxes.shape}\")\n",
    "\n",
    "    # Read the bounding box centers\n",
    "    # Each instance in the bach will have 5 bounding box centers\n",
    "    bounding_box_centers = y_true[:, :, 1:3]\n",
    "\n",
    "    # TODO:  here we are assuming number of rows and columns in grid is same. Confirm the assumption.\n",
    "    # The general formula is: grid_index = floor(pixel_coordinate * (grid_size / image_size))\n",
    "    # convert each 5 bounding box centers to 5 possible grids for each instance\n",
    "    grid_indices = tf.cast(\n",
    "        tf.floor(bounding_box_centers * (x_grid_size / 100)), dtype=tf.int32)\n",
    "    print(f\"grid indices shape {grid_indices.shape}\")\n",
    "\n",
    "    # out of 36 grid cells (per instance) select at most 5 grid cells that have ground truth bounding box\n",
    "    # so out of 108 anchor boxes (per instance) we only need to check 15 anchor boxes\n",
    "    selected_anchor_boxes = tf.gather_nd(\n",
    "        anchor_boxes, batch_dims=1, indices=grid_indices)\n",
    "    print(f\"selected_anchor_boxes.shape :{selected_anchor_boxes.shape}\")\n",
    "    \n",
    "    ## calcualte the IOU between anchor boxes and ground truth    \n",
    "    expanded_y_true = tf.expand_dims(y_true, axis=2)\n",
    "    \n",
    "    ## calculate min and max values for ground truth and anchor boxes\n",
    "    y_true_box_corners = convert_boxes_to_corners(expanded_y_true[:,:,:,1:5])\n",
    "    y_pred_box_corners = convert_boxes_to_corners(selected_anchor_boxes[:,:,:,1:5])\n",
    "    print(f\"y_true_boxes.shape {y_true_box_corners.shape}\")\n",
    "    print(f\"y_pred_boxes.shape {y_pred_box_corners.shape}\")\n",
    "\n",
    "    ## calculate the intersection coordinates between ground truth and anchor boxes\n",
    "    intersection_box_corners = calculate_intersection_corners(y_true_box_corners[:,:,:,0:4],y_pred_box_corners[:,:,:,0:4])\n",
    "    print(f\"intersection_box_corners.shape {intersection_box_corners.shape}\")\n",
    "    \n",
    "    ## calculate the IOU\n",
    "    ## calculate intersection area\n",
    "    intersection_area = calculate_intersection_area(intersection_box_corners)\n",
    "    print(f\"intersection_area.shape {intersection_area.shape}\")\n",
    "    \n",
    "    ## calculate union area\n",
    "    ## we just need the width and length for union area\n",
    "    union_area = calculate_union_area(expanded_y_true[:,:,:,3:5],selected_anchor_boxes[:,:,:,3:5], intersection_area)\n",
    "    print(f\"union_area.shape {union_area.shape}\")\n",
    "    \n",
    "    ## calculate IOU\n",
    "    iou = calculate_iou(intersection_area, union_area)\n",
    "    print(f\"iou.shape {iou.shape}\")\n",
    "    \n",
    "    ## select the anchor box based on best iou score\n",
    "    ## select the index with highest iou\n",
    "    highest_iou_index = tf.argmax(iou, axis=2)\n",
    "    highest_iou_index = tf.reshape(highest_iou_index, shape=(iou.shape[0],iou.shape[1],-1))\n",
    "    print(f\"highest_iou_index.shape {highest_iou_index.shape}\")\n",
    "    \n",
    "    ## select the anchor box based on the index\n",
    "    best_anchor_boxes = tf.gather(selected_anchor_boxes,indices=highest_iou_index, batch_dims=2)\n",
    "    print(f\"best_anchor_boxes.shape {best_anchor_boxes.shape}\")\n",
    "\n",
    "    return best_anchor_boxes\n",
    "\n",
    "## helper function to split and calculate loss\n",
    "def calculate_loss(predicted_values,true_values):\n",
    "    ## slice the 3 properties that we are tyring to calculate loss against\n",
    "    ## predicted values\n",
    "\n",
    "    y_pred_objectness = predicted_values[:,:,:,0]\n",
    "    print(f\"y_pred_objectness.shape : {y_pred_objectness.shape}\")\n",
    "    \n",
    "    y_pred_bounding_box = predicted_values[:,:,:,1:5]\n",
    "    print(f\"y_pred_bounding_box.shape : {y_pred_bounding_box.shape}\")\n",
    "    \n",
    "    y_pred_classification = predicted_values[:,:,:,5:]\n",
    "    print(f\"y_pred_classification.shape : {y_pred_classification.shape}\")\n",
    "    \n",
    "    ## True Values\n",
    "    y_true_objectness = true_values[:,:,:,0]\n",
    "    print(f\"y_true_objectness.shape : {y_true_objectness.shape}\")\n",
    "    \n",
    "    y_true_bounding_box = true_values[:,:,:,1:5]\n",
    "    print(f\"y_true_bounding_box.shape : {y_true_bounding_box.shape}\")\n",
    "    \n",
    "    y_true_classification = true_values[:,:,:,5:]\n",
    "    print(f\"y_true_classification.shape : {y_true_classification.shape}\")\n",
    "    \n",
    "    ## Apply activation functions to predicted values\n",
    "    y_pred_objectness = tf.keras.activations.sigmoid(y_pred_objectness)\n",
    "    print(f\"Post Activation y_pred_objectness.shape : {y_pred_objectness.shape}\")\n",
    "    \n",
    "    y_pred_classification = tf.keras.activations.softmax(y_pred_classification)\n",
    "    print(f\"Post Activation y_pred_classification.shape : {y_pred_classification.shape}\")\n",
    "\n",
    "    ## Calculate loss\n",
    "    objectness_loss = tf.keras.losses.BinaryCrossentropy(from_logits=False)(y_true_objectness,y_pred_objectness)\n",
    "    bounding_box_loss = tf.keras.losses.MeanSquaredError()(y_true_bounding_box,y_pred_bounding_box)\n",
    "    classification_loss = tf.keras.losses.CategoricalCrossentropy()(y_true_classification,y_pred_classification)\n",
    "\n",
    "    return objectness_loss,bounding_box_loss,classification_loss\n",
    "\n",
    "## loss function for the model\n",
    "def calculate_model_loss(y_true, y_pred):\n",
    "    ## Find best anchor box\n",
    "    expanded_y_true = tf.expand_dims(y_true, axis=2)\n",
    "    best_anchor_boxes = calculate_best_anchor_boxes(y_true,y_pred)\n",
    "    \n",
    "    ## Loss Calculation\n",
    "    objectness_loss, bounding_box_loss, classification_loss = calculate_loss(best_anchor_boxes,expanded_y_true)\n",
    "    \n",
    "    print(f\"objectness_loss : {objectness_loss}\")\n",
    "    print(f\"bounding_box_loss : {bounding_box_loss}\")\n",
    "    print(f\"classification_loss : {classification_loss}\")\n",
    "    \n",
    "    ## scale the losses\n",
    "    lambda_objectness = 1\n",
    "    lambda_bounding_box = 0.001\n",
    "    lambda_classification = 1\n",
    "\n",
    "    total_loss = (objectness_loss * lambda_objectness) + (bounding_box_loss * lambda_bounding_box) + (classification_loss * lambda_classification)\n",
    "    \n",
    "    print(f\"total loss : {total_loss}\")\n",
    "\n",
    "    return total_loss\n",
    "\n",
    "\n",
    "def calculate_model_metrics(y_true, y_pred):\n",
    "    return 0.9"
   ]
  },
  {
   "cell_type": "code",
   "execution_count": 20,
   "id": "b302aa9b",
   "metadata": {},
   "outputs": [
    {
     "name": "stdout",
     "output_type": "stream",
     "text": [
      "\n",
      "--- Inspecting Tensors Passed to Loss Function ---\n",
      "Shape of y_pred from model: (5, 6, 6, 45)\n",
      "----- True Values -----\n",
      "y_true.shape (5, 5, 15)\n",
      "----- Pred Values -----\n",
      "y_pred.shape (5, 6, 6, 45)\n",
      "anchor_boxes.shape (5, 6, 6, 3, 15)\n",
      "grid indices shape (5, 5, 2)\n",
      "selected_anchor_boxes.shape :(5, 5, 3, 15)\n",
      "y_true_boxes.shape (5, 5, 1, 4)\n",
      "y_pred_boxes.shape (5, 5, 3, 4)\n",
      "intersection_box_corners.shape (5, 5, 3, 4)\n",
      "intersection_area.shape (5, 5, 3)\n",
      "union_area.shape (5, 5, 3)\n",
      "iou.shape (5, 5, 3)\n",
      "highest_iou_index.shape (5, 5, 1)\n",
      "best_anchor_boxes.shape (5, 5, 1, 15)\n",
      "y_pred_objectness.shape : (5, 5, 1)\n",
      "y_pred_bounding_box.shape : (5, 5, 1, 4)\n",
      "y_pred_classification.shape : (5, 5, 1, 10)\n",
      "y_true_objectness.shape : (5, 5, 1)\n",
      "y_true_bounding_box.shape : (5, 5, 1, 4)\n",
      "y_true_classification.shape : (5, 5, 1, 10)\n",
      "Post Activation y_pred_objectness.shape : (5, 5, 1)\n",
      "Post Activation y_pred_classification.shape : (5, 5, 1, 10)\n",
      "objectness_loss : 0.691974401473999\n",
      "bounding_box_loss : 791.7240600585938\n",
      "classification_loss : 0.9213519096374512\n",
      "total loss : 2.405050277709961\n",
      "\n",
      "--- Final Calculated Loss ---\n",
      "Total Loss for the batch: 2.4050503\n",
      "\n",
      "--- Manual Step Complete ---\n"
     ]
    }
   ],
   "source": [
    "model.compile(optimizer='adam',\n",
    "              loss=calculate_model_loss,\n",
    "              metrics=[calculate_model_metrics])\n",
    "# Step 1: Get one batch of data from your dataset pipeline\n",
    "# The .take(1) method creates a new dataset with only the first element.\n",
    "one_batch = processed_dataset.take(1)\n",
    "\n",
    "# Step 2: Iterate over the single batch to get the tensors\n",
    "for images, labels in one_batch:\n",
    "    \n",
    "    # --- THIS IS YOUR DEBUGGING ZONE ---\n",
    "    # Now you have the concrete tensors for one batch.\n",
    "    # You can inspect them with regular print() and .numpy()\n",
    "    \n",
    "    # print(\"--- Inspecting Data Before Loss Calculation ---\")\n",
    "    # print(\"Shape of images (X_batch):\", images.shape)\n",
    "    # print(\"Shape of labels (y_true_batch):\", labels.shape)\n",
    "    # print(\"\\nSample y_true label tensor:\\n\", labels.numpy()[0]) # Print the first label in the batch\n",
    "    # ------------------------------------\n",
    "\n",
    "    # Step 3: Manually run the forward pass and gradient calculation\n",
    "    with tf.GradientTape() as tape:\n",
    "        \n",
    "        # Get the model's raw predictions for this batch\n",
    "        y_pred = model(images, training=True)  # Pass the images through the model\n",
    "        \n",
    "        # --- MORE DEBUGGING ---\n",
    "        print(\"\\n--- Inspecting Tensors Passed to Loss Function ---\")\n",
    "        print(\"Shape of y_pred from model:\", y_pred.shape)\n",
    "        # print(\"\\nSample y_pred tensor (first 5 values of first anchor):\\n\", y_pred.numpy()[0, 0, 0, :5])\n",
    "        # ----------------------\n",
    "\n",
    "        # Call your custom loss function\n",
    "        # You can now add print statements INSIDE your loss function too!\n",
    "        loss_value = calculate_model_loss(labels, y_pred)\n",
    "        \n",
    "        print(\"\\n--- Final Calculated Loss ---\")\n",
    "        print(\"Total Loss for the batch:\", loss_value.numpy())\n",
    "        # -----------------------------\n",
    "\n",
    "    # Step 4 (Optional): Calculate and apply gradients to see the full loop\n",
    "    # grads = tape.gradient(loss_value, model.trainable_variables)\n",
    "    # model.optimizer.apply_gradients(zip(grads, model.trainable_variables))\n",
    "    \n",
    "    print(\"\\n--- Manual Step Complete ---\")"
   ]
  },
  {
   "cell_type": "code",
   "execution_count": null,
   "id": "56deb57a",
   "metadata": {},
   "outputs": [],
   "source": []
  },
  {
   "cell_type": "code",
   "execution_count": null,
   "id": "c2109c6d",
   "metadata": {},
   "outputs": [],
   "source": []
  }
 ],
 "metadata": {
  "kernelspec": {
   "display_name": "venv",
   "language": "python",
   "name": "python3"
  },
  "language_info": {
   "codemirror_mode": {
    "name": "ipython",
    "version": 3
   },
   "file_extension": ".py",
   "mimetype": "text/x-python",
   "name": "python",
   "nbconvert_exporter": "python",
   "pygments_lexer": "ipython3",
   "version": "3.12.2"
  }
 },
 "nbformat": 4,
 "nbformat_minor": 5
}
