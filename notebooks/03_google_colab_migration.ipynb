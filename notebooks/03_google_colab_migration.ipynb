{
  "cells": [
    {
      "cell_type": "markdown",
      "id": "88d9b8e6",
      "metadata": {
        "id": "88d9b8e6"
      },
      "source": [
        "<a href=\"https://colab.research.google.com/github/gaurangdave/mnist_object_detection/blob/main/notebooks/03_google_colab_migration.ipynb\" target=\"_parent\"><img src=\"https://colab.research.google.com/assets/colab-badge.svg\" alt=\"Open In Colab\"/></a>"
      ]
    },
    {
      "cell_type": "markdown",
      "id": "d5547be1",
      "metadata": {
        "id": "d5547be1"
      },
      "source": [
        "# MNIST Object Detection"
      ]
    },
    {
      "cell_type": "markdown",
      "source": [
        "# Import Libraries"
      ],
      "metadata": {
        "id": "0tP3N0G6DNgp"
      },
      "id": "0tP3N0G6DNgp"
    },
    {
      "cell_type": "code",
      "source": [
        "import pandas as pd\n",
        "import numpy as np\n",
        "from pathlib import Path\n",
        "from sklearn.datasets import fetch_openml\n",
        "from keras.datasets import mnist\n",
        "\n",
        "\n",
        "import tensorflow as tf\n",
        "import matplotlib.pyplot as plt\n",
        "import PIL\n",
        "import PIL.Image\n",
        "from matplotlib import patches\n",
        "\n"
      ],
      "metadata": {
        "id": "C88hhW3fDQFO"
      },
      "id": "C88hhW3fDQFO",
      "execution_count": 1,
      "outputs": []
    },
    {
      "cell_type": "code",
      "source": [
        "print(\"Num GPUs Available: \", len(tf.config.list_physical_devices('GPU')))"
      ],
      "metadata": {
        "colab": {
          "base_uri": "https://localhost:8080/"
        },
        "id": "4dMCwJ7fDeN1",
        "outputId": "df1ee795-4791-43cc-a955-a5aeb9187234"
      },
      "id": "4dMCwJ7fDeN1",
      "execution_count": 2,
      "outputs": [
        {
          "output_type": "stream",
          "name": "stdout",
          "text": [
            "Num GPUs Available:  1\n"
          ]
        }
      ]
    },
    {
      "cell_type": "markdown",
      "source": [
        "# Data Access"
      ],
      "metadata": {
        "id": "VPEcmSCfCH8g"
      },
      "id": "VPEcmSCfCH8g"
    },
    {
      "cell_type": "markdown",
      "source": [
        "## Set Constants  "
      ],
      "metadata": {
        "id": "wa9FmTPCDbn1"
      },
      "id": "wa9FmTPCDbn1"
    },
    {
      "cell_type": "code",
      "source": [
        "data_dir = Path(\"data\")\n",
        "models_dir = Path(\"models\")"
      ],
      "metadata": {
        "id": "xIdEzErNEHs3"
      },
      "id": "xIdEzErNEHs3",
      "execution_count": 3,
      "outputs": []
    },
    {
      "cell_type": "code",
      "source": [
        "(x_train, y_train), (x_test, y_test) = mnist.load_data()\n"
      ],
      "metadata": {
        "id": "17DdP_OEEW9f",
        "outputId": "f051c559-fd4e-40fb-8b2d-3ba4e0262c4c",
        "colab": {
          "base_uri": "https://localhost:8080/"
        }
      },
      "id": "17DdP_OEEW9f",
      "execution_count": 4,
      "outputs": [
        {
          "output_type": "stream",
          "name": "stdout",
          "text": [
            "Downloading data from https://storage.googleapis.com/tensorflow/tf-keras-datasets/mnist.npz\n",
            "\u001b[1m11490434/11490434\u001b[0m \u001b[32m━━━━━━━━━━━━━━━━━━━━\u001b[0m\u001b[37m\u001b[0m \u001b[1m0s\u001b[0m 0us/step\n"
          ]
        }
      ]
    },
    {
      "cell_type": "code",
      "source": [
        "x_train.shape, y_train.shape, x_test.shape, y_test.shape"
      ],
      "metadata": {
        "colab": {
          "base_uri": "https://localhost:8080/"
        },
        "id": "WBYeASoEEXRF",
        "outputId": "1fb6b0bd-8c48-4336-ed79-c9b9d50ba56b"
      },
      "id": "WBYeASoEEXRF",
      "execution_count": 5,
      "outputs": [
        {
          "output_type": "execute_result",
          "data": {
            "text/plain": [
              "((60000, 28, 28), (60000,), (10000, 28, 28), (10000,))"
            ]
          },
          "metadata": {},
          "execution_count": 5
        }
      ]
    },
    {
      "cell_type": "code",
      "source": [],
      "metadata": {
        "id": "xe9omI65EXT6"
      },
      "id": "xe9omI65EXT6",
      "execution_count": 5,
      "outputs": []
    },
    {
      "cell_type": "code",
      "source": [],
      "metadata": {
        "id": "YL1_1CCfEXWQ"
      },
      "id": "YL1_1CCfEXWQ",
      "execution_count": 5,
      "outputs": []
    },
    {
      "cell_type": "markdown",
      "source": [
        "# Data Generation"
      ],
      "metadata": {
        "id": "52Wv6_QDCRi5"
      },
      "id": "52Wv6_QDCRi5"
    },
    {
      "cell_type": "code",
      "source": [
        "ALL_MNIST_DATA_PIXELS = x_train\n",
        "ALL_MNIST_DATA_CLASSES = y_train\n",
        "\n",
        "# number of digits to overlay on canvas\n",
        "num_of_digits = 2\n",
        "\n",
        "# max digits to define the shape of prediction output\n",
        "MAX_DIGITS = 5\n",
        "\n",
        "\n",
        "# Sample Base Digits\n",
        "def get_sample_indices(dataset, size=5):\n",
        "  random_indices = np.random.choice(len(dataset), size=size, replace=False)\n",
        "  return random_indices\n",
        "\n",
        "# helper function to sample number of digits from master dataset\n",
        "def sample_base_digits(num_of_digits):\n",
        "    \"\"\"\n",
        "    Sample a specified number of digit images and their class labels from the master MNIST dataset.\n",
        "\n",
        "    Args:\n",
        "        num_of_digits (int): Number of digit samples to retrieve.\n",
        "\n",
        "    Returns:\n",
        "        tuple: (sample_pixels, sample_values)\n",
        "            sample_pixels (np.ndarray): Array of digit images with shape (num_of_digits, 28, 28, 1).\n",
        "            sample_values (np.ndarray): Array of class labels with shape (num_of_digits, 1).\n",
        "    \"\"\"\n",
        "    sample_indices = get_sample_indices(ALL_MNIST_DATA_PIXELS, size=num_of_digits)\n",
        "    sample_pixels = ALL_MNIST_DATA_PIXELS[sample_indices]\n",
        "    sample_pixels = sample_pixels.reshape(-1,28,28,1)\n",
        "\n",
        "    sample_values = ALL_MNIST_DATA_CLASSES[sample_indices]\n",
        "    sample_values = sample_values.reshape(-1, 1)\n",
        "\n",
        "    # split the digits into pixels and class values\n",
        "    # reshape the data to expected values\n",
        "    # sample_pixels = sample.drop(\n",
        "    #     columns=[\"class\"]).to_numpy().reshape(-1, 28, 28, 1)\n",
        "    # sample_values = sample[\"class\"].values.reshape(-1, 1)\n",
        "    return sample_pixels, sample_values\n",
        "# Augment Digits\n",
        "\n",
        "\n",
        "def plot_before_after(before_image, after_image):\n",
        "    \"\"\"\n",
        "    Display two images side by side for visual comparison (e.g., before and after augmentation).\n",
        "\n",
        "    Args:\n",
        "        before_image (np.ndarray): The original image.\n",
        "        after_image (np.ndarray): The image after transformation or augmentation.\n",
        "    \"\"\"\n",
        "    fig, axs = plt.subplots(1, 2, figsize=(10, 3))\n",
        "    axs = axs.ravel()\n",
        "    axs[0].imshow(before_image)\n",
        "    axs[1].imshow(after_image)\n",
        "\n",
        "    plt.axis(\"off\")  # Remove axes for better visualization\n",
        "    plt.show()\n",
        "# helper function to apply random augmentation to digits\n",
        "\n",
        "\n",
        "def augment_digits(digits, debug=False):\n",
        "    \"\"\"\n",
        "    Apply random augmentations (translation, zoom, rotation) to a batch of digit images.\n",
        "\n",
        "    Args:\n",
        "        digits (np.ndarray): Array of digit images to augment.\n",
        "        debug (bool, optional): If True, displays before/after images for each digit. Defaults to False.\n",
        "\n",
        "    Returns:\n",
        "        np.ndarray: Augmented digit images as a numpy array.\n",
        "    \"\"\"\n",
        "    tensor_digits = tf.convert_to_tensor(digits)\n",
        "\n",
        "    # step 2: apply random augmentation\n",
        "    augmentation = tf.keras.Sequential([\n",
        "        tf.keras.layers.RandomTranslation(\n",
        "            height_factor=0.2, width_factor=0.2, fill_value=0.0, fill_mode=\"constant\", seed=42),\n",
        "\n",
        "        tf.keras.layers.RandomZoom(\n",
        "            height_factor=0.2, width_factor=0.2, fill_value=0.0, fill_mode=\"constant\", seed=42),\n",
        "\n",
        "        tf.keras.layers.RandomRotation(\n",
        "            factor=0.1, fill_value=0.0, fill_mode=\"constant\", seed=42),\n",
        "    ])\n",
        "    augmented_tensor_digits = augmentation(tensor_digits)\n",
        "\n",
        "    # if debug is true render before digits\n",
        "    if debug == True:\n",
        "        for translated_imgs in range(tensor_digits.shape[0]):\n",
        "            plot_before_after(\n",
        "                tensor_digits[translated_imgs], augmented_tensor_digits[translated_imgs])\n",
        "\n",
        "    # convert the tensor back to numpy to simplify use in map function\n",
        "    return augmented_tensor_digits.numpy()\n",
        "# Calculate Tight BBox\n",
        "# helper function to calculate bounding box for each instance and return it.\n",
        "# we are going to refactor the POC that we created ealier to use it with numpy arrays in the map function\n",
        "\n",
        "\n",
        "def calculate_bounding_box(pixels, class_value, padding=1):\n",
        "    \"\"\"\n",
        "    Calculate the tight bounding box for a digit image and return its coordinates and class value.\n",
        "\n",
        "    Args:\n",
        "        pixels (np.ndarray): 2D array representing the digit image.\n",
        "        class_value (int): The class label of the digit.\n",
        "        padding (int, optional): Padding to add around the bounding box. Defaults to 1.\n",
        "\n",
        "    Returns:\n",
        "        dict: Bounding box information including coordinates, center, width, height, and class value.\n",
        "    \"\"\"\n",
        "    # calculate active rows & columns\n",
        "    active_rows = np.sum(pixels, axis=1)\n",
        "    active_columns = np.sum(pixels, axis=0)\n",
        "\n",
        "    # calculate x_min and x_max coordinate\n",
        "    x_min = np.nonzero(active_columns)[0][0]\n",
        "    x_max = np.nonzero(active_columns)[0][-1]\n",
        "    y_min = np.nonzero(active_rows)[0][0]\n",
        "    y_max = np.nonzero(active_rows)[0][-1]\n",
        "\n",
        "    # add padding to pixels\n",
        "    x_min = x_min - (padding if (x_min != 0) else 0)\n",
        "    x_max = x_max + (padding if (x_max != 27) else 0)\n",
        "    y_min = y_min - (padding if (y_min != 0) else 0)\n",
        "    y_max = y_max + (padding if (y_max != 27) else 0)\n",
        "\n",
        "    # calcualte x_center and y_center\n",
        "    x_center = round((x_min + x_max) / 2)\n",
        "    y_center = round((y_min + y_max) / 2)\n",
        "\n",
        "    # calculate width and height\n",
        "    width = x_max - x_min + 1\n",
        "    height = y_max - y_min + 1\n",
        "\n",
        "    return {\n",
        "        \"x_min\": x_min,\n",
        "        \"x_max\": x_max,\n",
        "        \"y_min\": y_min,\n",
        "        \"y_max\": y_max,\n",
        "        \"x_center\": x_center,\n",
        "        \"y_center\": y_center,\n",
        "        \"width\": width,\n",
        "        \"height\": height,\n",
        "        \"class_value\": class_value\n",
        "    }\n",
        "\n",
        "\n",
        "# helper function to visualize the bounding box\n",
        "\n",
        "\n",
        "def visualize_bounding_box(pixel_data, bounding_boxes, num_of_columns=5):\n",
        "    \"\"\"\n",
        "    Visualize digit images with their corresponding bounding boxes.\n",
        "\n",
        "    Args:\n",
        "        pixel_data (np.ndarray): Array of digit images.\n",
        "        bounding_boxes (list): List of bounding box dictionaries for each digit.\n",
        "        num_of_columns (int, optional): Number of columns in the plot grid. Defaults to 5.\n",
        "    \"\"\"\n",
        "    num_of_columns = num_of_columns if num_of_columns <= 5 else 5\n",
        "    num_instances = pixel_data.shape[0]\n",
        "    num_of_rows = int(num_instances / num_of_columns) + \\\n",
        "        (1 if int(num_instances % num_of_columns) > 0 else 0)\n",
        "\n",
        "    fig, axs = plt.subplots(num_of_rows, num_of_columns, figsize=(10, 3))\n",
        "    axs = axs.ravel()\n",
        "\n",
        "    for idx in range(0, num_instances, 1):\n",
        "\n",
        "        original = tf.constant(pixel_data[idx].reshape(28, 28, 1))\n",
        "        converted = tf.image.grayscale_to_rgb(original)\n",
        "        target_data = bounding_boxes[idx]\n",
        "        x_center = target_data[\"x_center\"]\n",
        "        y_center = target_data[\"y_center\"]\n",
        "        width = target_data[\"width\"]\n",
        "        height = target_data[\"height\"]\n",
        "\n",
        "        x = target_data[\"x_min\"]\n",
        "        y = target_data[\"y_min\"]\n",
        "\n",
        "        rect = patches.Rectangle(\n",
        "            (x, y), width=width, height=height, linewidth=1, edgecolor='r', facecolor='none')\n",
        "        image_data = converted.numpy().astype(\"uint8\")\n",
        "        axs[idx].imshow(image_data)\n",
        "        axs[idx].add_patch(rect)\n",
        "\n",
        "        axs[idx].set_title(target_data[\"class_value\"])\n",
        "        axs[idx].axis(\"off\")\n",
        "    plt.show()\n",
        "# helper function to calculate bounding box for digits.\n",
        "\n",
        "\n",
        "def calculate_tight_bbox(pixels, class_values, debug=False):\n",
        "    \"\"\"\n",
        "    Calculate tight bounding boxes for a batch of digit images.\n",
        "\n",
        "    Args:\n",
        "        pixels (np.ndarray): Array of digit images.\n",
        "        class_values (np.ndarray): Array of class labels for each digit.\n",
        "        debug (bool, optional): If True, visualizes the bounding boxes. Defaults to False.\n",
        "\n",
        "    Returns:\n",
        "        list: List of bounding box dictionaries for each digit.\n",
        "    \"\"\"\n",
        "    class_with_bbox = []\n",
        "    for idx in range(pixels.shape[0]):\n",
        "        class_with_bbox.append(calculate_bounding_box(\n",
        "            pixels[idx], class_values[idx][0]))\n",
        "\n",
        "    # if debug true render digits with bbox\n",
        "    if debug == True:\n",
        "        visualize_bounding_box(pixels, class_with_bbox, pixels.shape[0])\n",
        "\n",
        "    return class_with_bbox\n",
        "# Create Blank Canvas\n",
        "# helper function to create  blank canvas\n",
        "\n",
        "\n",
        "def create_blank_canvas(shape=(100, 100, 1)):\n",
        "    \"\"\"\n",
        "    Create a blank canvas for placing digit images.\n",
        "\n",
        "    Args:\n",
        "        shape (tuple, optional): Shape of the canvas. Defaults to (100, 100, 1).\n",
        "\n",
        "    Returns:\n",
        "        np.ndarray: Blank canvas array.\n",
        "    \"\"\"\n",
        "    canvas = np.zeros(shape=(100, 100, 1), dtype=np.float32)\n",
        "    return canvas\n",
        "# Create Prediction Object\n",
        "# helper function to create empty predition structure based on MAX_DIGITS\n",
        "\n",
        "\n",
        "def create_prediction_object():\n",
        "    \"\"\"\n",
        "    Create an empty prediction object for storing digit detection results.\n",
        "\n",
        "    Returns:\n",
        "        np.ndarray: Prediction array of shape (MAX_DIGITS, 15).\n",
        "    \"\"\"\n",
        "    prediction = np.zeros(shape=(MAX_DIGITS, 15), dtype=np.float32)\n",
        "    return prediction\n",
        "# Place Digit On Canvas\n",
        "\n",
        "\n",
        "def is_valid_coordinates(top, left, class_bbox_value, existing_coordinates):\n",
        "    \"\"\"\n",
        "    Check if the proposed top-left coordinates for a digit's bounding box are valid (within canvas and non-overlapping).\n",
        "\n",
        "    Args:\n",
        "        top (int): Proposed top coordinate.\n",
        "        left (int): Proposed left coordinate.\n",
        "        class_bbox_value (dict): Bounding box info for the digit.\n",
        "        existing_coordinates (list): List of existing bounding boxes on the canvas.\n",
        "\n",
        "    Returns:\n",
        "        bool: True if coordinates are valid, False otherwise.\n",
        "    \"\"\"\n",
        "    # # make sure the top and left are withing the canvas\n",
        "    # if (top + 28 >= 100 or left + 28 >= 100):\n",
        "    #     return False\n",
        "    # read current class values\n",
        "    # curr_x_center = class_bbox_value[\"x_center\"]\n",
        "    # curr_y_center = class_bbox_value[\"y_center\"]\n",
        "    curr_width = class_bbox_value[\"width\"]\n",
        "    curr_height = class_bbox_value[\"height\"]\n",
        "    curr_x_min = left\n",
        "    curr_y_min = top\n",
        "    curr_x_max = left + curr_width\n",
        "    curr_y_max = top + curr_height\n",
        "\n",
        "    # recalculate center with proposed top and left values\n",
        "    # curr_x_center = curr_x_center + left\n",
        "    # curr_y_center = curr_y_center + top\n",
        "\n",
        "    # check 1: will the new bounding box go beyond the grid?\n",
        "    if ((curr_x_min + curr_width) >= 100) or ((curr_y_min + curr_height) >= 100):\n",
        "        return False\n",
        "\n",
        "    # check 2: do bounding boxes overlap\n",
        "    # check the current bounding box with every existing box\n",
        "    for coord_idx in range(len(existing_coordinates)):\n",
        "        existing_x_min = existing_coordinates[coord_idx][\"x_min\"]\n",
        "        existing_y_min = existing_coordinates[coord_idx][\"y_min\"]\n",
        "        existing_x_max = existing_coordinates[coord_idx][\"x_max\"]\n",
        "        existing_y_max = existing_coordinates[coord_idx][\"y_max\"]\n",
        "        if ((curr_x_min <= existing_x_max and curr_x_max >= existing_x_min) and (curr_y_min <= existing_y_max and curr_y_max >= existing_y_min)):\n",
        "            return False\n",
        "\n",
        "    return True\n",
        "\n",
        "\n",
        "def select_top_left(class_bbox_value, existing_coordinates):\n",
        "    \"\"\"\n",
        "    Randomly select valid top-left coordinates for placing a digit on the canvas.\n",
        "\n",
        "    Args:\n",
        "        class_bbox_value (dict): Bounding box info for the digit.\n",
        "        existing_coordinates (list): List of existing bounding boxes on the canvas.\n",
        "\n",
        "    Returns:\n",
        "        tuple: (top, left) coordinates if valid, otherwise (-1, -1).\n",
        "    \"\"\"\n",
        "    got_valid_coordinates = False\n",
        "    # limiting the loop to run only 20 times\n",
        "    retries = 0\n",
        "    while ((not got_valid_coordinates) and (retries < 50)):\n",
        "        top = np.random.randint(0, high=100)\n",
        "        left = np.random.randint(0, high=100)\n",
        "        got_valid_coordinates = is_valid_coordinates(\n",
        "            top, left, class_bbox_value, existing_coordinates)\n",
        "        retries = retries+1\n",
        "\n",
        "    if got_valid_coordinates:\n",
        "        return top, left\n",
        "    return -1, -1\n",
        "\n",
        "\n",
        "# helper function to render the canvas\n",
        "# update the original plotting function to plot canvas as well.\n",
        "\n",
        "\n",
        "def render_canvas(canvas, class_bbox):\n",
        "    \"\"\"\n",
        "    Render the canvas with all placed digits and their bounding boxes.\n",
        "\n",
        "    Args:\n",
        "        canvas (np.ndarray): The canvas image.\n",
        "        class_bbox (list): List of bounding box dictionaries for each digit.\n",
        "    \"\"\"\n",
        "    num_of_digits = len(class_bbox)\n",
        "    fig, axs = plt.subplots(1, 1, figsize=(10, 3))\n",
        "    axs.imshow(canvas)  # Use 'gray' colormap to render grayscale\n",
        "    axs.axis(\"off\")\n",
        "\n",
        "    for idx in range(0, num_of_digits, 1):\n",
        "        width = class_bbox[idx][\"width\"]\n",
        "        height = class_bbox[idx][\"height\"]\n",
        "\n",
        "        x = class_bbox[idx][\"x_min\"]\n",
        "        y = class_bbox[idx][\"y_min\"]\n",
        "\n",
        "        rect = patches.Rectangle(\n",
        "            (x, y), width=width, height=height, linewidth=1, edgecolor='r', facecolor='none')\n",
        "        axs.add_patch(rect)\n",
        "\n",
        "    plt.show()\n",
        "\n",
        "\n",
        "def place_digit_on_canvas(canvas, pixels, class_bbox, debug=False):\n",
        "    \"\"\"\n",
        "    Place digit images on the canvas at valid, non-overlapping locations.\n",
        "\n",
        "    Args:\n",
        "        canvas (np.ndarray): The blank canvas to place digits on.\n",
        "        pixels (np.ndarray): Array of digit images.\n",
        "        class_bbox (list): List of bounding box dictionaries for each digit.\n",
        "        debug (bool, optional): If True, renders the canvas after placement. Defaults to False.\n",
        "\n",
        "    Returns:\n",
        "        tuple: (canvas, class_bbox) with updated canvas and bounding boxes.\n",
        "    \"\"\"\n",
        "    # list to save all the valid existing coordinates\n",
        "    existing_coordinates = []\n",
        "\n",
        "    # in case if the algorithm cannot place a digit on canvas we'll drop that digit from pixel and class_bbox\n",
        "    digits_to_drop = []\n",
        "\n",
        "    total_digits = pixels.shape[0]\n",
        "    # loop thru all the pixel values\n",
        "    for idx in range(total_digits):\n",
        "        class_bbox_value = class_bbox[idx]\n",
        "        x_center = class_bbox_value[\"x_center\"]\n",
        "        y_center = class_bbox_value[\"y_center\"]\n",
        "        width = class_bbox_value[\"width\"]\n",
        "        height = class_bbox_value[\"height\"]\n",
        "        class_value = class_bbox_value[\"class_value\"]\n",
        "        x_min = class_bbox_value[\"x_min\"]\n",
        "        y_min = class_bbox_value[\"y_min\"]\n",
        "        x_max = class_bbox_value[\"x_max\"]\n",
        "        y_max = class_bbox_value[\"y_max\"]\n",
        "\n",
        "        # print(f\"Width {width} & {int(width)}, Height {height} & {int(height)}\")\n",
        "        # width = int(width)\n",
        "        # height = int(height)\n",
        "\n",
        "        # step 1: find the right coordinates to place the digit\n",
        "        top, left = select_top_left(class_bbox_value, existing_coordinates)\n",
        "        if top != -1 and left != -1:\n",
        "            # step 2: place the digit\n",
        "            # canvas[y_min + top:y_min + top+height, x_min + left:x_min +\n",
        "            #        left + width] = pixels[idx][y_min:y_min+height, x_min:x_min+width]\n",
        "\n",
        "            canvas[top:top+height, left:\n",
        "                   left + width] = pixels[idx][y_min:y_min+height, x_min:x_min+width]\n",
        "\n",
        "            # step 3: recalculate the center based on top,left and update the class values with new center\n",
        "            class_bbox_value[\"x_center\"] = x_center + left\n",
        "            class_bbox_value[\"x_min\"] = left\n",
        "            class_bbox_value[\"x_max\"] = left + width\n",
        "\n",
        "            class_bbox_value[\"y_center\"] = y_center + top\n",
        "            class_bbox_value[\"y_min\"] = top\n",
        "            class_bbox_value[\"y_max\"] = top + height\n",
        "\n",
        "            # update the array\n",
        "            class_bbox[idx] = class_bbox_value\n",
        "            # step 5: save the existing bounding box coordinates to help select the new one\n",
        "            existing_coordinates.append(\n",
        "                class_bbox_value\n",
        "            )\n",
        "        else:\n",
        "            print(\n",
        "                f\"Error placing digit {class_value} on canvas. Couldn't fild valid coordinates\")\n",
        "            digits_to_drop.append(idx)\n",
        "\n",
        "    # drop any bbox for which we couldn't find space in canvas\n",
        "    filtered_bbox = [bbox for idx, bbox in enumerate(\n",
        "        class_bbox) if idx not in digits_to_drop]\n",
        "\n",
        "    if debug == True:\n",
        "        render_canvas(canvas=canvas, class_bbox=filtered_bbox)\n",
        "\n",
        "    return canvas, class_bbox\n",
        "# Translate BBox To Prediction Object\n",
        "# helper function to convert bbox diction to prediction object\n",
        "\n",
        "\n",
        "def translate_bbox_to_prediction(current_bbox, prediction, debug=False):\n",
        "    \"\"\"\n",
        "    Convert bounding box dictionaries to a prediction object suitable for training.\n",
        "\n",
        "    Args:\n",
        "        current_bbox (list): List of bounding box dictionaries.\n",
        "        prediction (np.ndarray): Prediction array to update.\n",
        "        debug (bool, optional): If True, prints mapping details. Defaults to False.\n",
        "\n",
        "    Returns:\n",
        "        np.ndarray: Updated prediction array.\n",
        "    \"\"\"\n",
        "    # Sanity check - ideally prediction shape should be larger than or equal to number of elements in bbox\n",
        "    if (prediction.shape[0] < len(current_bbox)):\n",
        "        print(f\"Error shape mismatch between prediction and bbox\")\n",
        "        return prediction\n",
        "\n",
        "    for idx, bbox in enumerate(current_bbox):\n",
        "        # set the flag indicating the digit is present\n",
        "        prediction[idx][0] = 1\n",
        "        # set x_center\n",
        "        prediction[idx][1] = bbox[\"x_center\"]\n",
        "        # set y_center\n",
        "        prediction[idx][2] = bbox[\"y_center\"]\n",
        "        # set width\n",
        "        prediction[idx][3] = bbox[\"width\"]\n",
        "        # set height\n",
        "        prediction[idx][4] = bbox[\"height\"]\n",
        "        # set one hot encoded value of the class\n",
        "        # read the class value\n",
        "        class_value = int(bbox[\"class_value\"])\n",
        "        # set the cell corresponding to class value to 1\n",
        "        prediction[idx][5 + class_value] = 1\n",
        "        if debug == True:\n",
        "            print(f\"current bbox is {bbox}\")\n",
        "            print(f\"mapped prediction is {prediction[idx]}\")\n",
        "\n",
        "    return prediction\n",
        "# Generate Training Example\n",
        "# helper map function to map 28x28x1 image and its class to 100x100x1 canvas and prediction object\n",
        "\n",
        "\n",
        "def generate_training_example(x, y, debug=False):\n",
        "    \"\"\"\n",
        "    Generate a training example by placing digits on a canvas and creating the corresponding prediction object.\n",
        "\n",
        "    Args:\n",
        "        x (np.ndarray): Input digit image(s).\n",
        "        y (np.ndarray): Corresponding class label(s).\n",
        "\n",
        "    Returns:\n",
        "        tuple: (canvas, prediction) where canvas is the composed image and prediction is the label array.\n",
        "    \"\"\"\n",
        "    pixels = x.reshape(-1, 28, 28, 1)\n",
        "    class_values = y.reshape(-1, 1)\n",
        "    # step 1: sample additional digits\n",
        "    if num_of_digits - 1 > 0:\n",
        "        sample_pixels, sample_values = sample_base_digits(num_of_digits - 1)\n",
        "        pixels = np.concatenate((pixels, sample_pixels))\n",
        "        class_values = np.concatenate((class_values, sample_values), axis=0)\n",
        "\n",
        "    # step 2: augment digits\n",
        "    pixels = augment_digits(pixels, debug=debug)\n",
        "\n",
        "    # step 3: calculate bounding box\n",
        "    class_with_bbox = calculate_tight_bbox(pixels, class_values, debug=debug)\n",
        "\n",
        "    # step 4: create blank canvas and prediction\n",
        "    canvas = create_blank_canvas()\n",
        "    prediction = create_prediction_object()\n",
        "\n",
        "    # step 5: place digit on canvas\n",
        "    canvas, class_bbox = place_digit_on_canvas(\n",
        "        canvas, pixels, class_with_bbox, debug=debug)\n",
        "\n",
        "    # step 6: translate bbox to prediction object\n",
        "    prediction = translate_bbox_to_prediction(\n",
        "        class_bbox, prediction, debug=debug)\n",
        "\n",
        "    # print(f\"Final canvas shape {canvas.shape}, final prediction shape {prediction.shape}\")\n",
        "    return (canvas, prediction)\n"
      ],
      "metadata": {
        "id": "ZzOBbarPERb0"
      },
      "id": "ZzOBbarPERb0",
      "execution_count": 6,
      "outputs": []
    },
    {
      "cell_type": "code",
      "source": [
        "sample_indices = get_sample_indices(x_train, 1)\n",
        "test_x = x_train[sample_indices]\n",
        "test_y = y_train[sample_indices]\n",
        "canvas, prediction = generate_training_example(test_x,test_y,debug=True)"
      ],
      "metadata": {
        "id": "noLqDnfCEtSQ",
        "outputId": "03449efd-776e-4e9d-a58b-4caaa4531b0e",
        "colab": {
          "base_uri": "https://localhost:8080/",
          "height": 1000
        }
      },
      "id": "noLqDnfCEtSQ",
      "execution_count": 7,
      "outputs": [
        {
          "output_type": "display_data",
          "data": {
            "text/plain": [
              "<Figure size 1000x300 with 2 Axes>"
            ],
            "image/png": "[encoded data removed]"
          },
          "metadata": {}
        },
        {
          "output_type": "display_data",
          "data": {
            "text/plain": [
              "<Figure size 1000x300 with 2 Axes>"
            ],
            "image/png": "[encoded data removed]"
          },
          "metadata": {}
        },
        {
          "output_type": "display_data",
          "data": {
            "text/plain": [
              "<Figure size 1000x300 with 2 Axes>"
            ],
            "image/png": "[encoded data removed]"
          },
          "metadata": {}
        },
        {
          "output_type": "display_data",
          "data": {
            "text/plain": [
              "<Figure size 1000x300 with 1 Axes>"
            ],
            "image/png": "[encoded data removed]"
          },
          "metadata": {}
        },
        {
          "output_type": "stream",
          "name": "stdout",
          "text": [
            "current bbox is {'x_min': 7, 'x_max': np.int64(33), 'y_min': 36, 'y_max': np.int64(61), 'x_center': 21, 'y_center': 48, 'width': np.int64(26), 'height': np.int64(25), 'class_value': np.uint8(0)}\n",
            "mapped prediction is [ 1. 21. 48. 26. 25.  1.  0.  0.  0.  0.  0.  0.  0.  0.  0.]\n",
            "current bbox is {'x_min': 66, 'x_max': np.int64(80), 'y_min': 9, 'y_max': np.int64(36), 'x_center': 78, 'y_center': 22, 'width': np.int64(14), 'height': np.int64(27), 'class_value': np.uint8(1)}\n",
            "mapped prediction is [ 1. 78. 22. 14. 27.  0.  1.  0.  0.  0.  0.  0.  0.  0.  0.]\n"
          ]
        }
      ]
    },
    {
      "cell_type": "markdown",
      "source": [
        "# Training & Evaluation"
      ],
      "metadata": {
        "id": "bb6G8EUtCZqe"
      },
      "id": "bb6G8EUtCZqe"
    },
    {
      "cell_type": "markdown",
      "source": [
        "## Training Utils"
      ],
      "metadata": {
        "id": "zGOJZdF7TAJz"
      },
      "id": "zGOJZdF7TAJz"
    },
    {
      "cell_type": "code",
      "source": [
        "import tensorflow as tf\n",
        "\n",
        "# helper function to convert box values to corner coordinates\n",
        "\n",
        "\n",
        "def convert_boxes_to_corners(box_center_format):\n",
        "    # we'll use the following formulas\n",
        "    # x_min = floor(x_center - (width/2))\n",
        "    # x_max = floor(x_center + (width/2))\n",
        "    # y_min = floor(y_center - (height/2))\n",
        "    # y_max = floor(y_cetner + (height /2))\n",
        "    # calculate true values.\n",
        "    x_min = tf.floor(\n",
        "        box_center_format[:, :, :, 0] - (box_center_format[:, :, :, 2])/2)\n",
        "    x_max = tf.floor(\n",
        "        box_center_format[:, :, :, 0] + (box_center_format[:, :, :, 2])/2)\n",
        "    y_min = tf.floor(\n",
        "        box_center_format[:, :, :, 1] - (box_center_format[:, :, :, 3])/2)\n",
        "    y_max = tf.floor(\n",
        "        box_center_format[:, :, :, 1] + (box_center_format[:, :, :, 3])/2)\n",
        "\n",
        "    coordinates = tf.stack(values=[x_min, y_min, x_max, y_max], axis=3)\n",
        "    return coordinates\n",
        "\n",
        "# helper function to find the intersection box corners from given 2 boxes\n",
        "\n",
        "\n",
        "def calculate_intersection_corners(box_1_corners, box_2_corners):\n",
        "    x_min_for_intersection = tf.maximum(\n",
        "        box_1_corners[:, :, :, 0], box_2_corners[:, :, :, 0])\n",
        "    y_min_for_intersection = tf.maximum(\n",
        "        box_1_corners[:, :, :, 1], box_2_corners[:, :, :, 1])\n",
        "    x_max_for_intersection = tf.minimum(\n",
        "        box_1_corners[:, :, :, 2], box_2_corners[:, :, :, 2])\n",
        "    y_max_for_intersection = tf.minimum(\n",
        "        box_1_corners[:, :, :, 3], box_2_corners[:, :, :, 3])\n",
        "    intersection_box_corners = tf.stack(\n",
        "        values=[x_min_for_intersection, y_min_for_intersection, x_max_for_intersection, y_max_for_intersection], axis=3)\n",
        "    return intersection_box_corners\n",
        "\n",
        "# helper function to calculate the area of intersection between two boxes\n",
        "\n",
        "\n",
        "def calculate_intersection_area(intersection_box_corners):\n",
        "    # find the width = x_max - x_min, if the boxes are not intersecting, this value could be negative or 0\n",
        "    intersection_width = tf.maximum(\n",
        "        0.0, intersection_box_corners[:, :, :, 2] - intersection_box_corners[:, :, :, 0])\n",
        "    # find the height = y_max - y_min, if the boxes are not intersecting, this value could be negative or 0\n",
        "    intersection_height = tf.maximum(\n",
        "        0.0, intersection_box_corners[:, :, :, 3] - intersection_box_corners[:, :, :, 1])\n",
        "    # intersection area = width * height\n",
        "    intersection_area = intersection_width * intersection_height\n",
        "    return intersection_area\n",
        "\n",
        "# helper function to calcualte the area of union between two boxes\n",
        "\n",
        "\n",
        "def calculate_union_area(box_1_dimensions, box_2_dimensions, intersection_area):\n",
        "    box_1_area = box_1_dimensions[:, :, :, 0] * box_1_dimensions[:, :, :, 1]\n",
        "    box_2_area = box_2_dimensions[:, :, :, 0] * box_2_dimensions[:, :, :, 1]\n",
        "    union_area = box_1_area + box_2_area - intersection_area\n",
        "    return union_area\n",
        "\n",
        "# helper function to calculate the IOU ration between boxes\n",
        "\n",
        "\n",
        "def calculate_iou(intersection_area, union_area):\n",
        "    iou = intersection_area / (union_area + 1e-8)\n",
        "    return iou\n",
        "\n",
        "# helper function to calculate indices for the grid cells that contain the object\n",
        "\n",
        "\n",
        "def calculate_grid_cell_indices(y_true, y_pred):\n",
        "    x_grid_size = tf.shape(y_pred)[1]\n",
        "\n",
        "\n",
        "    # Read the bounding box centers\n",
        "    # Each instance in the bach will have 5 bounding box centers\n",
        "    # select boxes with objectness equal to 1\n",
        "    # objectness_mask = y_true[:, :, 0] == 1.0\n",
        "    # bounding_boxes_with_objects = tf.boolean_mask(y_true, mask=objectness_mask)\n",
        "    # print(f\"bounding_boxes_with_objects.shape : {bounding_boxes_with_objects.shape}\")\n",
        "    bounding_box_centers = y_true[:, :, 1:3]\n",
        "\n",
        "    # TODO:  here we are assuming number of rows and columns in grid is same. Confirm the assumption.\n",
        "    # The general formula is: grid_index = floor(pixel_coordinate * (grid_size / image_size))\n",
        "    # convert each 5 bounding box centers to 5 possible grids for each instance\n",
        "\n",
        "    grid_indices = tf.cast(\n",
        "        tf.floor(bounding_box_centers * tf.cast((x_grid_size / 100),tf.float32)), dtype=tf.int32)\n",
        "\n",
        "    ## grid_indices can be out of bounds if the box centers lie on coordinates that are in multiple of 100\n",
        "    ## so we need to clip them to be maximum of 5 and minimum of 0\n",
        "    grid_indices = tf.clip_by_value(grid_indices, clip_value_min=0, clip_value_max=x_grid_size - 1)\n",
        "\n",
        "    # grid_indices = tf.reshape(grid_indices,shape=(batch_size,-1,2))\n",
        "    # print(f\"grid indices shape {tf.shape(grid_indices)}\")\n",
        "    # print(f\"grid indices {grid_indices}\")\n",
        "\n",
        "\n",
        "    return grid_indices\n",
        "\n",
        "# Helper function to calculate anchor box indices.\n",
        "\n",
        "\n",
        "def calculate_anchorbox_indices(y_true, y_pred, grid_cell_indices):\n",
        "    x_grid_size = y_pred.shape[1]\n",
        "    y_grid_size = y_pred.shape[2]\n",
        "\n",
        "    anchor_boxes = tf.reshape(\n",
        "        y_pred, shape=(-1, x_grid_size, y_grid_size, 3, 15))\n",
        "    # print(f\"anchor_boxes.shape {anchor_boxes.shape}\")\n",
        "\n",
        "    selected_anchor_boxes = tf.gather_nd(\n",
        "        anchor_boxes, batch_dims=1, indices=grid_cell_indices)\n",
        "    # print(f\"selected_anchor_boxes.shape :{selected_anchor_boxes.shape}\")\n",
        "\n",
        "    # calcualte the IOU between anchor boxes and ground truth\n",
        "    expanded_y_true = tf.expand_dims(y_true, axis=2)\n",
        "\n",
        "    # calculate min and max values for ground truth and anchor boxes\n",
        "    y_true_box_corners = convert_boxes_to_corners(\n",
        "        expanded_y_true[:, :, :, 1:5])\n",
        "    y_pred_box_corners = convert_boxes_to_corners(\n",
        "        selected_anchor_boxes[:, :, :, 1:5])\n",
        "    # print(f\"y_true_boxes.shape {y_true_box_corners.shape}\")\n",
        "    # print(f\"y_pred_boxes.shape {y_pred_box_corners.shape}\")\n",
        "\n",
        "    # calculate the intersection coordinates between ground truth and anchor boxes\n",
        "    intersection_box_corners = calculate_intersection_corners(\n",
        "        y_true_box_corners[:, :, :, 0:], y_pred_box_corners[:, :, :, 0:])\n",
        "    # print(f\"intersection_box_corners.shape {intersection_box_corners.shape}\")\n",
        "\n",
        "    # calculate the IOU\n",
        "    # calculate intersection area\n",
        "    intersection_area = calculate_intersection_area(intersection_box_corners)\n",
        "    # print(f\"intersection_area.shape {intersection_area.shape}\")\n",
        "\n",
        "    # calculate union area\n",
        "    # we just need the width and length for union area\n",
        "    union_area = calculate_union_area(\n",
        "        expanded_y_true[:, :, :, 3:5], selected_anchor_boxes[:, :, :, 3:5], intersection_area)\n",
        "    # print(f\"union_area.shape {union_area.shape}\")\n",
        "\n",
        "    # calculate IOU\n",
        "    iou = calculate_iou(intersection_area, union_area)\n",
        "    # print(f\"iou.shape {iou.shape}\")\n",
        "\n",
        "    # select the anchor box based on best iou score\n",
        "    # select the index with highest iou\n",
        "    highest_iou_index = tf.argmax(iou, axis=2, output_type=tf.int32)\n",
        "    # print(f\"highest_iou_index.shape {highest_iou_index.shape}\")\n",
        "\n",
        "    highest_iou_index = tf.expand_dims(highest_iou_index, axis=2)\n",
        "    # highest_iou_index = tf.reshape(highest_iou_index, shape=(iou.shape[0],iou.shape[1],-1))\n",
        "    # print(f\"expanded highest_iou_index.shape {highest_iou_index.shape}\")\n",
        "    return highest_iou_index\n",
        "\n",
        "\n",
        "\n",
        "def calculate_best_anchor_boxes(y_true, y_pred):\n",
        "    # helper function to calculate best anchor boxes\n",
        "    x_grid_size = tf.shape(y_pred)[1]\n",
        "    y_grid_size = tf.shape(y_pred)[2]\n",
        "    batch_size = tf.shape(y_pred)[0]\n",
        "\n",
        "    # print(\"----- True Values -----\")\n",
        "    # print(f\"y_true.shape {tf.shape(y_true)}\")\n",
        "\n",
        "    # print(\"----- Pred Values -----\")\n",
        "    # print(f\"y_pred.shape {tf.shape(y_pred)}\")\n",
        "\n",
        "    # we have 6x6, each grid cell has 3 anchor box i.e 108 anchor boxes per insantance\n",
        "    anchor_boxes = tf.reshape(\n",
        "        y_pred, shape=(batch_size, x_grid_size, y_grid_size, 3, 15))\n",
        "    # print(f\"anchor_boxes.shape {tf.shape(anchor_boxes)}\")\n",
        "\n",
        "    grid_cell_indices = calculate_grid_cell_indices(\n",
        "        y_true=y_true, y_pred=y_pred)\n",
        "\n",
        "    # out of 36 grid cells (per instance) select at most 5 grid cells that have ground truth bounding box\n",
        "    # so out of 108 anchor boxes (per instance) we only need to check 15 anchor boxes\n",
        "    selected_anchor_boxes = tf.gather_nd(\n",
        "        params=anchor_boxes, batch_dims=1, indices=grid_cell_indices)\n",
        "    # print(f\"selected_anchor_boxes.shape :{selected_anchor_boxes.shape}\")\n",
        "\n",
        "    highest_iou_index = calculate_anchorbox_indices(\n",
        "        y_true=y_true, y_pred=y_pred, grid_cell_indices=grid_cell_indices)\n",
        "    # select the anchor box based on the index\n",
        "    best_anchor_boxes = tf.gather(\n",
        "        selected_anchor_boxes, indices=highest_iou_index, batch_dims=2)\n",
        "    # print(f\"best_anchor_boxes.shape {best_anchor_boxes.shape}\")\n",
        "\n",
        "    return best_anchor_boxes\n",
        "\n",
        "# helper function to split and calculate loss\n",
        "\n",
        "\n",
        "def calculate_loss(predicted_values, true_values):\n",
        "\n",
        "    objectness_mask = true_values[:, :, :, 0] == 1.0\n",
        "\n",
        "    true_values_with_objects = tf.boolean_mask(\n",
        "        true_values, mask=objectness_mask)\n",
        "    predicted_values_with_objects = tf.boolean_mask(\n",
        "        predicted_values, mask=objectness_mask)\n",
        "\n",
        "    # print(f\"true_values_with_objects.shape : {true_values_with_objects.shape}\")\n",
        "    # print(\n",
        "    #     f\"predicted_values_with_objects.shape : {predicted_values_with_objects.shape}\")\n",
        "    # slice the 3 properties that we are tyring to calculate loss against\n",
        "    # predicted values\n",
        "\n",
        "    y_pred_objectness = predicted_values_with_objects[:, 0]\n",
        "    # print(f\"y_pred_objectness.shape : {y_pred_objectness.shape}\")\n",
        "\n",
        "    y_pred_bounding_box = predicted_values_with_objects[:, 1:5]\n",
        "    # print(f\"y_pred_bounding_box.shape : {y_pred_bounding_box.shape}\")\n",
        "\n",
        "    y_pred_classification = predicted_values_with_objects[:, 5:]\n",
        "    # print(f\"y_pred_classification.shape : {y_pred_classification.shape}\")\n",
        "\n",
        "    # True Values\n",
        "    y_true_objectness = true_values_with_objects[:, 0]\n",
        "    # print(f\"y_true_objectness.shape : {y_true_objectness.shape}\")\n",
        "\n",
        "    y_true_bounding_box = true_values_with_objects[:, 1:5]\n",
        "    # print(f\"y_true_bounding_box.shape : {y_true_bounding_box.shape}\")\n",
        "\n",
        "    y_true_classification = true_values_with_objects[:, 5:]\n",
        "    # print(f\"y_true_classification.shape : {y_true_classification.shape}\")\n",
        "\n",
        "    # Apply activation functions to predicted values\n",
        "    y_pred_objectness = tf.keras.activations.sigmoid(y_pred_objectness)\n",
        "    # print(\n",
        "        # f\"Post Activation y_pred_objectness.shape : {y_pred_objectness.shape}\")\n",
        "\n",
        "    y_pred_classification = tf.keras.activations.softmax(y_pred_classification)\n",
        "    # print(\n",
        "    #     f\"Post Activation y_pred_classification.shape : {y_pred_classification.shape}\")\n",
        "\n",
        "    # Calculate loss\n",
        "    objectness_loss = tf.keras.losses.BinaryCrossentropy(\n",
        "        from_logits=False)(y_true_objectness, y_pred_objectness)\n",
        "    bounding_box_loss = tf.keras.losses.MeanSquaredError()(\n",
        "        y_true_bounding_box, y_pred_bounding_box)\n",
        "    classification_loss = tf.keras.losses.CategoricalCrossentropy()(\n",
        "        y_true_classification, y_pred_classification)\n",
        "\n",
        "    return objectness_loss, bounding_box_loss, classification_loss\n",
        "\n",
        "# helper function to calculate loss for object less cells\n",
        "\n",
        "\n",
        "def calculate_objectless_loss(y_true, y_pred):\n",
        "    # step 1: create placeholder y_true\n",
        "    batch_size = tf.shape(y_true)[0] # Get batch size dynamically\n",
        "\n",
        "    bounding_box_with_object_mask = y_true[:, :, 0] == 1.0\n",
        "\n",
        "    # step 2: prepare mask for positive values\n",
        "    # hard coding the grid size\n",
        "    positive_mask = tf.fill(dims=(batch_size, 6, 6, 3), value=False) # Adjust shape\n",
        "\n",
        "    # print(f\"positive_mask.shape {positive_mask.shape}\")\n",
        "\n",
        "    grid_cell_indices = calculate_grid_cell_indices(\n",
        "        y_true=y_true, y_pred=y_pred)\n",
        "\n",
        "    # grid cell indices will have shape (m, 5, 2)\n",
        "    # here 5 is max images and 2 is row and column index\n",
        "\n",
        "    highest_iou_index = calculate_anchorbox_indices(\n",
        "        y_true=y_true, y_pred=y_pred, grid_cell_indices=grid_cell_indices)\n",
        "\n",
        "    # highest_iou_index = tf.boolean_mask(\n",
        "    #     highest_iou_index, mask=bounding_box_with_object_mask)\n",
        "    # print(f\"highest_iou_index.shape {highest_iou_index.shape}\")\n",
        "    # highest iou index will have shpae (m,5,1)\n",
        "    # here 5 is max images and 1 represents best anchor box in the cell.\n",
        "\n",
        "    # we need to combine both the indices to create tensor of shape (m, row indices, column indices, box index)\n",
        "    combine_update_index = tf.range(batch_size)\n",
        "    # expand dims\n",
        "    combine_update_index = tf.reshape(\n",
        "        combine_update_index, shape=(batch_size, 1, 1))\n",
        "    # combine_update_index = tf.expand_dims(combine_update_index, axis=2)\n",
        "    combine_update_index = tf.tile(\n",
        "        combine_update_index, [1, 5, 1])\n",
        "    combine_update_index = tf.concat(\n",
        "        [combine_update_index, grid_cell_indices, highest_iou_index], axis=2)\n",
        "\n",
        "    combine_update_index = tf.boolean_mask(\n",
        "        combine_update_index, mask=bounding_box_with_object_mask)\n",
        "\n",
        "    # print(f\"combine_update_index.shape : {combine_update_index.shape}\")\n",
        "\n",
        "    positive_mask_shape = tf.shape(positive_mask)\n",
        "    positive_mask = tf.scatter_nd(\n",
        "        indices=combine_update_index,\n",
        "        shape=positive_mask_shape,\n",
        "        updates=tf.fill(dims=(tf.shape(combine_update_index)[0],), value=True))\n",
        "\n",
        "    # select predicted anchor boxes based on negative masked values\n",
        "    negative_mask = tf.logical_not(positive_mask)\n",
        "    # print(f\"negative_mask.shape : {negative_mask.shape}\")\n",
        "\n",
        "    objectless_anchorboxes = tf.boolean_mask(tf.reshape(\n",
        "        y_pred, shape=(batch_size, 6, 6, 3, -1)), mask=negative_mask)\n",
        "    # print(f\"masked_values.shape : {objectless_anchorboxes.shape}\")\n",
        "\n",
        "    y_true_objectless = tf.zeros(\n",
        "        shape=tf.shape(objectless_anchorboxes), dtype=tf.float32)\n",
        "    # print(f\"y_true_objectless.shape {y_true_objectless.shape}\")\n",
        "\n",
        "\n",
        "    y_pred_objectness = objectless_anchorboxes[:, 0]\n",
        "    # print(f\"y_pred_objectness.shape : {y_pred_objectness.shape}\")\n",
        "\n",
        "    # True Values\n",
        "    y_true_objectness = y_true_objectless[:, 0]\n",
        "    # print(f\"y_true_objectness.shape : {y_true_objectness.shape}\")\n",
        "\n",
        "\n",
        "    # Apply activation functions to predicted values\n",
        "    y_pred_objectness = tf.keras.activations.sigmoid(y_pred_objectness)\n",
        "    # print(\n",
        "    #     f\"Post Activation y_pred_objectness.shape : {y_pred_objectness.shape}\")\n",
        "\n",
        "    # Calculate loss\n",
        "    objectless_loss = tf.keras.losses.BinaryCrossentropy(\n",
        "        from_logits=False)(y_true_objectness, y_pred_objectness)\n",
        "\n",
        "    return objectless_loss\n",
        "\n",
        "# loss function for the model\n",
        "\n",
        "\n",
        "def calculate_model_loss(y_true, y_pred):\n",
        "    # Find best anchor box\n",
        "    expanded_y_true = tf.expand_dims(y_true, axis=2)\n",
        "    best_anchor_boxes = calculate_best_anchor_boxes(y_true, y_pred)\n",
        "\n",
        "    # Loss Calculation\n",
        "    objectness_loss, bounding_box_loss, classification_loss = calculate_loss(\n",
        "        best_anchor_boxes, expanded_y_true)\n",
        "\n",
        "    print(\"\\n\\n----- Localization Loss -----\")\n",
        "    print(f\"objectness_loss : {objectness_loss}\")\n",
        "    print(f\"bounding_box_loss : {bounding_box_loss}\")\n",
        "    print(f\"classification_loss : {classification_loss}\")\n",
        "\n",
        "    # objectless loss calculation\n",
        "    print(\"\\n\\n----- Calculation Object Less Loss -----\")\n",
        "    objectless_loss = calculate_objectless_loss(\n",
        "        y_true=y_true, y_pred=y_pred)\n",
        "\n",
        "    print(\"\\n\\n----- Object Less Loss -----\")\n",
        "    print(f\"objectless_loss : {objectless_loss}\")\n",
        "\n",
        "    # scale the losses\n",
        "    lambda_objectness = 1\n",
        "    lambda_bounding_box = 0.001\n",
        "    lambda_classification = 1\n",
        "    lambda_objectless = 1\n",
        "\n",
        "    total_loss = (objectness_loss * lambda_objectness) + (bounding_box_loss *\n",
        "                                                          lambda_bounding_box) + (classification_loss * lambda_classification) + (objectless_loss * lambda_objectless)\n",
        "\n",
        "    print(f\"\\n\\nTotal Loss : {total_loss}\")\n",
        "\n",
        "    return total_loss\n",
        "\n",
        "\n",
        "def objectness_metrics(y_true, y_pred):\n",
        "    expanded_y_true = tf.expand_dims(y_true, axis=2)\n",
        "    best_anchor_boxes = calculate_best_anchor_boxes(y_true, y_pred)\n",
        "\n",
        "    # Loss Calculation\n",
        "    objectness_loss, bounding_box_loss, classification_loss = calculate_loss(\n",
        "        best_anchor_boxes, expanded_y_true)\n",
        "    return objectness_loss\n",
        "\n",
        "\n",
        "def bounding_box_metrics(y_true, y_pred):\n",
        "    expanded_y_true = tf.expand_dims(y_true, axis=2)\n",
        "    best_anchor_boxes = calculate_best_anchor_boxes(y_true, y_pred)\n",
        "\n",
        "    # Loss Calculation\n",
        "    objectness_loss, bounding_box_loss, classification_loss = calculate_loss(\n",
        "        best_anchor_boxes, expanded_y_true)\n",
        "    return bounding_box_loss\n",
        "\n",
        "\n",
        "def classification_metrics(y_true, y_pred):\n",
        "    expanded_y_true = tf.expand_dims(y_true, axis=2)\n",
        "    best_anchor_boxes = calculate_best_anchor_boxes(y_true, y_pred)\n",
        "\n",
        "    # Loss Calculation\n",
        "    objectness_loss, bounding_box_loss, classification_loss = calculate_loss(\n",
        "        best_anchor_boxes, expanded_y_true)\n",
        "    return classification_loss"
      ],
      "metadata": {
        "id": "9N1MLKguS9Hh"
      },
      "id": "9N1MLKguS9Hh",
      "execution_count": 8,
      "outputs": []
    },
    {
      "cell_type": "markdown",
      "source": [
        "## Running The Model Manually"
      ],
      "metadata": {
        "id": "ErjI4ehgTVl0"
      },
      "id": "ErjI4ehgTVl0"
    },
    {
      "cell_type": "markdown",
      "source": [
        "### Initialize the Model"
      ],
      "metadata": {
        "id": "-Ci-WgQ3TKaC"
      },
      "id": "-Ci-WgQ3TKaC"
    },
    {
      "cell_type": "code",
      "source": [
        "model = tf.keras.Sequential([\n",
        "\n",
        "    tf.keras.layers.Rescaling(scale=1./255),\n",
        "\n",
        "    ## starting with a larger filter since we are dealing with 100x100x1 image\n",
        "    tf.keras.layers.Conv2D(filters=8, kernel_size=5, padding='same', activation='relu'),\n",
        "    tf.keras.layers.Conv2D(filters=8, kernel_size=5, padding='same', activation='relu'),\n",
        "    tf.keras.layers.MaxPooling2D(),\n",
        "    ## rest of the layers are same as our original mnist classifier\n",
        "    tf.keras.layers.Conv2D(filters=8, kernel_size=3, padding='same', activation='relu'),\n",
        "    tf.keras.layers.Conv2D(filters=8, kernel_size=3, padding='same', activation='relu'),\n",
        "    tf.keras.layers.MaxPooling2D(),\n",
        "    tf.keras.layers.Conv2D(filters=16, kernel_size=3, padding='same', activation='relu'),\n",
        "    tf.keras.layers.Conv2D(filters=16, kernel_size=3, padding='same', activation='relu'),\n",
        "    tf.keras.layers.MaxPooling2D(),\n",
        "    tf.keras.layers.Conv2D(filters=32, kernel_size=3, padding='same', activation='relu'),\n",
        "    tf.keras.layers.Conv2D(filters=32, kernel_size=3, padding='same', activation='relu'),\n",
        "    tf.keras.layers.MaxPooling2D(),\n",
        "\n",
        "    ## finaly layers to output 6x6x45 grid of predictions\n",
        "    tf.keras.layers.Conv2D(filters=45, kernel_size=1, padding='same', activation='linear'),\n",
        "\n",
        "])"
      ],
      "metadata": {
        "id": "GtSDiOxNTFtD"
      },
      "id": "GtSDiOxNTFtD",
      "execution_count": 9,
      "outputs": []
    },
    {
      "cell_type": "code",
      "source": [
        "model.summary()"
      ],
      "metadata": {
        "colab": {
          "base_uri": "https://localhost:8080/",
          "height": 595
        },
        "id": "aqzrwQnvTPSM",
        "outputId": "b6fc6331-ee4e-46e4-d74b-dcc3425d4327"
      },
      "id": "aqzrwQnvTPSM",
      "execution_count": 10,
      "outputs": [
        {
          "output_type": "display_data",
          "data": {
            "text/plain": [
              "\u001b[1mModel: \"sequential_1\"\u001b[0m\n"
            ],
            "text/html": [
              "<pre style=\"white-space:pre;overflow-x:auto;line-height:normal;font-family:Menlo,'DejaVu Sans Mono',consolas,'Courier New',monospace\"><span style=\"font-weight: bold\">Model: \"sequential_1\"</span>\n",
              "</pre>\n"
            ]
          },
          "metadata": {}
        },
        {
          "output_type": "display_data",
          "data": {
            "text/plain": [
              "┏━━━━━━━━━━━━━━━━━━━━━━━━━━━━━━━━━┳━━━━━━━━━━━━━━━━━━━━━━━━┳━━━━━━━━━━━━━━━┓\n",
              "┃\u001b[1m \u001b[0m\u001b[1mLayer (type)                   \u001b[0m\u001b[1m \u001b[0m┃\u001b[1m \u001b[0m\u001b[1mOutput Shape          \u001b[0m\u001b[1m \u001b[0m┃\u001b[1m \u001b[0m\u001b[1m      Param #\u001b[0m\u001b[1m \u001b[0m┃\n",
              "┡━━━━━━━━━━━━━━━━━━━━━━━━━━━━━━━━━╇━━━━━━━━━━━━━━━━━━━━━━━━╇━━━━━━━━━━━━━━━┩\n",
              "│ rescaling (\u001b[38;5;33mRescaling\u001b[0m)           │ ?                      │   \u001b[38;5;34m0\u001b[0m (unbuilt) │\n",
              "├─────────────────────────────────┼────────────────────────┼───────────────┤\n",
              "│ conv2d (\u001b[38;5;33mConv2D\u001b[0m)                 │ ?                      │   \u001b[38;5;34m0\u001b[0m (unbuilt) │\n",
              "├─────────────────────────────────┼────────────────────────┼───────────────┤\n",
              "│ conv2d_1 (\u001b[38;5;33mConv2D\u001b[0m)               │ ?                      │   \u001b[38;5;34m0\u001b[0m (unbuilt) │\n",
              "├─────────────────────────────────┼────────────────────────┼───────────────┤\n",
              "│ max_pooling2d (\u001b[38;5;33mMaxPooling2D\u001b[0m)    │ ?                      │             \u001b[38;5;34m0\u001b[0m │\n",
              "├─────────────────────────────────┼────────────────────────┼───────────────┤\n",
              "│ conv2d_2 (\u001b[38;5;33mConv2D\u001b[0m)               │ ?                      │   \u001b[38;5;34m0\u001b[0m (unbuilt) │\n",
              "├─────────────────────────────────┼────────────────────────┼───────────────┤\n",
              "│ conv2d_3 (\u001b[38;5;33mConv2D\u001b[0m)               │ ?                      │   \u001b[38;5;34m0\u001b[0m (unbuilt) │\n",
              "├─────────────────────────────────┼────────────────────────┼───────────────┤\n",
              "│ max_pooling2d_1 (\u001b[38;5;33mMaxPooling2D\u001b[0m)  │ ?                      │             \u001b[38;5;34m0\u001b[0m │\n",
              "├─────────────────────────────────┼────────────────────────┼───────────────┤\n",
              "│ conv2d_4 (\u001b[38;5;33mConv2D\u001b[0m)               │ ?                      │   \u001b[38;5;34m0\u001b[0m (unbuilt) │\n",
              "├─────────────────────────────────┼────────────────────────┼───────────────┤\n",
              "│ conv2d_5 (\u001b[38;5;33mConv2D\u001b[0m)               │ ?                      │   \u001b[38;5;34m0\u001b[0m (unbuilt) │\n",
              "├─────────────────────────────────┼────────────────────────┼───────────────┤\n",
              "│ max_pooling2d_2 (\u001b[38;5;33mMaxPooling2D\u001b[0m)  │ ?                      │             \u001b[38;5;34m0\u001b[0m │\n",
              "├─────────────────────────────────┼────────────────────────┼───────────────┤\n",
              "│ conv2d_6 (\u001b[38;5;33mConv2D\u001b[0m)               │ ?                      │   \u001b[38;5;34m0\u001b[0m (unbuilt) │\n",
              "├─────────────────────────────────┼────────────────────────┼───────────────┤\n",
              "│ conv2d_7 (\u001b[38;5;33mConv2D\u001b[0m)               │ ?                      │   \u001b[38;5;34m0\u001b[0m (unbuilt) │\n",
              "├─────────────────────────────────┼────────────────────────┼───────────────┤\n",
              "│ max_pooling2d_3 (\u001b[38;5;33mMaxPooling2D\u001b[0m)  │ ?                      │             \u001b[38;5;34m0\u001b[0m │\n",
              "├─────────────────────────────────┼────────────────────────┼───────────────┤\n",
              "│ conv2d_8 (\u001b[38;5;33mConv2D\u001b[0m)               │ ?                      │   \u001b[38;5;34m0\u001b[0m (unbuilt) │\n",
              "└─────────────────────────────────┴────────────────────────┴───────────────┘\n"
            ],
            "text/html": [
              "<pre style=\"white-space:pre;overflow-x:auto;line-height:normal;font-family:Menlo,'DejaVu Sans Mono',consolas,'Courier New',monospace\">┏━━━━━━━━━━━━━━━━━━━━━━━━━━━━━━━━━┳━━━━━━━━━━━━━━━━━━━━━━━━┳━━━━━━━━━━━━━━━┓\n",
              "┃<span style=\"font-weight: bold\"> Layer (type)                    </span>┃<span style=\"font-weight: bold\"> Output Shape           </span>┃<span style=\"font-weight: bold\">       Param # </span>┃\n",
              "┡━━━━━━━━━━━━━━━━━━━━━━━━━━━━━━━━━╇━━━━━━━━━━━━━━━━━━━━━━━━╇━━━━━━━━━━━━━━━┩\n",
              "│ rescaling (<span style=\"color: #0087ff; text-decoration-color: #0087ff\">Rescaling</span>)           │ ?                      │   <span style=\"color: #00af00; text-decoration-color: #00af00\">0</span> (unbuilt) │\n",
              "├─────────────────────────────────┼────────────────────────┼───────────────┤\n",
              "│ conv2d (<span style=\"color: #0087ff; text-decoration-color: #0087ff\">Conv2D</span>)                 │ ?                      │   <span style=\"color: #00af00; text-decoration-color: #00af00\">0</span> (unbuilt) │\n",
              "├─────────────────────────────────┼────────────────────────┼───────────────┤\n",
              "│ conv2d_1 (<span style=\"color: #0087ff; text-decoration-color: #0087ff\">Conv2D</span>)               │ ?                      │   <span style=\"color: #00af00; text-decoration-color: #00af00\">0</span> (unbuilt) │\n",
              "├─────────────────────────────────┼────────────────────────┼───────────────┤\n",
              "│ max_pooling2d (<span style=\"color: #0087ff; text-decoration-color: #0087ff\">MaxPooling2D</span>)    │ ?                      │             <span style=\"color: #00af00; text-decoration-color: #00af00\">0</span> │\n",
              "├─────────────────────────────────┼────────────────────────┼───────────────┤\n",
              "│ conv2d_2 (<span style=\"color: #0087ff; text-decoration-color: #0087ff\">Conv2D</span>)               │ ?                      │   <span style=\"color: #00af00; text-decoration-color: #00af00\">0</span> (unbuilt) │\n",
              "├─────────────────────────────────┼────────────────────────┼───────────────┤\n",
              "│ conv2d_3 (<span style=\"color: #0087ff; text-decoration-color: #0087ff\">Conv2D</span>)               │ ?                      │   <span style=\"color: #00af00; text-decoration-color: #00af00\">0</span> (unbuilt) │\n",
              "├─────────────────────────────────┼────────────────────────┼───────────────┤\n",
              "│ max_pooling2d_1 (<span style=\"color: #0087ff; text-decoration-color: #0087ff\">MaxPooling2D</span>)  │ ?                      │             <span style=\"color: #00af00; text-decoration-color: #00af00\">0</span> │\n",
              "├─────────────────────────────────┼────────────────────────┼───────────────┤\n",
              "│ conv2d_4 (<span style=\"color: #0087ff; text-decoration-color: #0087ff\">Conv2D</span>)               │ ?                      │   <span style=\"color: #00af00; text-decoration-color: #00af00\">0</span> (unbuilt) │\n",
              "├─────────────────────────────────┼────────────────────────┼───────────────┤\n",
              "│ conv2d_5 (<span style=\"color: #0087ff; text-decoration-color: #0087ff\">Conv2D</span>)               │ ?                      │   <span style=\"color: #00af00; text-decoration-color: #00af00\">0</span> (unbuilt) │\n",
              "├─────────────────────────────────┼────────────────────────┼───────────────┤\n",
              "│ max_pooling2d_2 (<span style=\"color: #0087ff; text-decoration-color: #0087ff\">MaxPooling2D</span>)  │ ?                      │             <span style=\"color: #00af00; text-decoration-color: #00af00\">0</span> │\n",
              "├─────────────────────────────────┼────────────────────────┼───────────────┤\n",
              "│ conv2d_6 (<span style=\"color: #0087ff; text-decoration-color: #0087ff\">Conv2D</span>)               │ ?                      │   <span style=\"color: #00af00; text-decoration-color: #00af00\">0</span> (unbuilt) │\n",
              "├─────────────────────────────────┼────────────────────────┼───────────────┤\n",
              "│ conv2d_7 (<span style=\"color: #0087ff; text-decoration-color: #0087ff\">Conv2D</span>)               │ ?                      │   <span style=\"color: #00af00; text-decoration-color: #00af00\">0</span> (unbuilt) │\n",
              "├─────────────────────────────────┼────────────────────────┼───────────────┤\n",
              "│ max_pooling2d_3 (<span style=\"color: #0087ff; text-decoration-color: #0087ff\">MaxPooling2D</span>)  │ ?                      │             <span style=\"color: #00af00; text-decoration-color: #00af00\">0</span> │\n",
              "├─────────────────────────────────┼────────────────────────┼───────────────┤\n",
              "│ conv2d_8 (<span style=\"color: #0087ff; text-decoration-color: #0087ff\">Conv2D</span>)               │ ?                      │   <span style=\"color: #00af00; text-decoration-color: #00af00\">0</span> (unbuilt) │\n",
              "└─────────────────────────────────┴────────────────────────┴───────────────┘\n",
              "</pre>\n"
            ]
          },
          "metadata": {}
        },
        {
          "output_type": "display_data",
          "data": {
            "text/plain": [
              "\u001b[1m Total params: \u001b[0m\u001b[38;5;34m0\u001b[0m (0.00 B)\n"
            ],
            "text/html": [
              "<pre style=\"white-space:pre;overflow-x:auto;line-height:normal;font-family:Menlo,'DejaVu Sans Mono',consolas,'Courier New',monospace\"><span style=\"font-weight: bold\"> Total params: </span><span style=\"color: #00af00; text-decoration-color: #00af00\">0</span> (0.00 B)\n",
              "</pre>\n"
            ]
          },
          "metadata": {}
        },
        {
          "output_type": "display_data",
          "data": {
            "text/plain": [
              "\u001b[1m Trainable params: \u001b[0m\u001b[38;5;34m0\u001b[0m (0.00 B)\n"
            ],
            "text/html": [
              "<pre style=\"white-space:pre;overflow-x:auto;line-height:normal;font-family:Menlo,'DejaVu Sans Mono',consolas,'Courier New',monospace\"><span style=\"font-weight: bold\"> Trainable params: </span><span style=\"color: #00af00; text-decoration-color: #00af00\">0</span> (0.00 B)\n",
              "</pre>\n"
            ]
          },
          "metadata": {}
        },
        {
          "output_type": "display_data",
          "data": {
            "text/plain": [
              "\u001b[1m Non-trainable params: \u001b[0m\u001b[38;5;34m0\u001b[0m (0.00 B)\n"
            ],
            "text/html": [
              "<pre style=\"white-space:pre;overflow-x:auto;line-height:normal;font-family:Menlo,'DejaVu Sans Mono',consolas,'Courier New',monospace\"><span style=\"font-weight: bold\"> Non-trainable params: </span><span style=\"color: #00af00; text-decoration-color: #00af00\">0</span> (0.00 B)\n",
              "</pre>\n"
            ]
          },
          "metadata": {}
        }
      ]
    },
    {
      "cell_type": "markdown",
      "source": [
        "### Run in Eager Mode"
      ],
      "metadata": {
        "id": "ZfPbA4gSg0Hp"
      },
      "id": "ZfPbA4gSg0Hp"
    },
    {
      "cell_type": "code",
      "source": [
        "# This is temp code to test the loss function do not use this for training.\n",
        "X_tensor = tf.convert_to_tensor(x_train[0:10], dtype=tf.float32)\n",
        "X_tensor = tf.reshape(X_tensor, shape=(-1, 28, 28, 1))\n",
        "y_tensor = tf.convert_to_tensor(y_train[0:10], dtype=tf.float32)\n",
        "\n",
        "\n",
        "raw_dataset = tf.data.Dataset.from_tensor_slices((X_tensor, y_tensor))\n",
        "\n",
        "\n",
        "def generative_py_function(func, inp, Tout, shape_out):\n",
        "    # This is the bridge that calls your NumPy code\n",
        "    y = tf.numpy_function(func, inp, Tout)\n",
        "    # This is the crucial step: re-apply the shape information\n",
        "    y[0].set_shape(shape_out[0]) # Set shape for the image\n",
        "    y[1].set_shape(shape_out[1]) # Set shape for the labels\n",
        "    return y\n",
        "\n",
        "# Define the exact output shapes you expect\n",
        "output_shapes = ([100, 100, 1], [5, 15])\n",
        "# Define the exact output data types you expect\n",
        "output_types = (tf.float32, tf.float32)\n",
        "\n",
        "\n",
        "processed_dataset = raw_dataset.map(lambda X, y: tf.numpy_function(generate_training_example, inp=[X, y], Tout=(\n",
        "    tf.float32, tf.float32)), num_parallel_calls=15);\n",
        "\n",
        "# Use the wrapper inside the map\n",
        "processed_dataset = raw_dataset.map(lambda X, y: generative_py_function(\n",
        "    generate_training_example,\n",
        "    inp=[X, y],\n",
        "    Tout=output_types, # Pass the dtypes to Tout\n",
        "    shape_out=output_shapes # Pass the shapes to our new argument\n",
        ")).batch(batch_size=8)\n",
        "\n",
        "model.compile(optimizer='adam',\n",
        "              loss=calculate_model_loss,\n",
        "              metrics=[objectness_metrics, bounding_box_metrics, classification_metrics])\n",
        "# Step 1: Get one batch of data from your dataset pipeline\n",
        "# The .take(1) method creates a new dataset with only the first element.\n",
        "one_batch = processed_dataset.take(10)\n",
        "\n",
        "# Step 2: Iterate over the single batch to get the tensors\n",
        "for images, labels in one_batch:\n",
        "\n",
        "    # --- THIS IS YOUR DEBUGGING ZONE ---\n",
        "    # Now you have the concrete tensors for one batch.\n",
        "    # You can inspect them with regular print() and .numpy()\n",
        "\n",
        "    # print(\"--- Inspecting Data Before Loss Calculation ---\")\n",
        "    # print(\"Shape of images (X_batch):\", images.shape)\n",
        "    # print(\"Shape of labels (y_true_batch):\", labels.shape)\n",
        "    # print(\"\\nSample y_true label tensor:\\n\", labels.numpy()[0]) # Print the first label in the batch\n",
        "    # ------------------------------------\n",
        "\n",
        "    # Step 3: Manually run the forward pass and gradient calculation\n",
        "    with tf.GradientTape() as tape:\n",
        "\n",
        "        # Get the model's raw predictions for this batch\n",
        "        y_pred = model(images, training=True)  # Pass the images through the model\n",
        "\n",
        "        # --- MORE DEBUGGING ---\n",
        "        print(\"\\n--- Inspecting Tensors Passed to Loss Function ---\")\n",
        "        print(\"Shape of y_pred from model:\", y_pred.shape)\n",
        "        # print(\"\\nSample y_pred tensor (first 5 values of first anchor):\\n\", y_pred.numpy()[0, 0, 0, :5])\n",
        "        # ----------------------\n",
        "\n",
        "        # Call your custom loss function\n",
        "        # You can now add print statements INSIDE your loss function too!\n",
        "        loss_value = calculate_model_loss(labels, y_pred)\n",
        "\n",
        "        print(\"\\n--- Final Calculated Loss ---\")\n",
        "\n",
        "        print(\"Total Loss for the batch:\", loss_value.numpy())\n",
        "        # -----------------------------\n",
        "\n",
        "    # Step 4 (Optional): Calculate and apply gradients to see the full loop\n",
        "    # grads = tape.gradient(loss_value, model.trainable_variables)\n",
        "    # model.optimizer.apply_gradients(zip(grads, model.trainable_variables))\n",
        "\n",
        "    print(\"\\n--- Manual Step Complete ---\")\n"
      ],
      "metadata": {
        "colab": {
          "base_uri": "https://localhost:8080/"
        },
        "id": "lJL4G8cVTYqo",
        "outputId": "de5ac742-e41c-4d31-9460-8b8eabebc38b"
      },
      "id": "lJL4G8cVTYqo",
      "execution_count": 11,
      "outputs": [
        {
          "output_type": "stream",
          "name": "stdout",
          "text": [
            "\n",
            "--- Inspecting Tensors Passed to Loss Function ---\n",
            "Shape of y_pred from model: (8, 6, 6, 45)\n",
            "\n",
            "\n",
            "----- Localization Loss -----\n",
            "objectness_loss : 0.6928489208221436\n",
            "bounding_box_loss : 1855.294677734375\n",
            "classification_loss : 2.300800323486328\n",
            "\n",
            "\n",
            "----- Calculation Object Less Loss -----\n",
            "\n",
            "\n",
            "----- Object Less Loss -----\n",
            "objectless_loss : 0.6927748918533325\n",
            "\n",
            "\n",
            "Total Loss : 5.54171895980835\n",
            "\n",
            "--- Final Calculated Loss ---\n",
            "Total Loss for the batch: 5.541719\n",
            "\n",
            "--- Manual Step Complete ---\n",
            "\n",
            "--- Inspecting Tensors Passed to Loss Function ---\n",
            "Shape of y_pred from model: (2, 6, 6, 45)\n",
            "\n",
            "\n",
            "----- Localization Loss -----\n",
            "objectness_loss : 0.6932034492492676\n",
            "bounding_box_loss : 1969.501953125\n",
            "classification_loss : 2.3024821281433105\n",
            "\n",
            "\n",
            "----- Calculation Object Less Loss -----\n",
            "\n",
            "\n",
            "----- Object Less Loss -----\n",
            "objectless_loss : 0.6928425431251526\n",
            "\n",
            "\n",
            "Total Loss : 5.658030033111572\n",
            "\n",
            "--- Final Calculated Loss ---\n",
            "Total Loss for the batch: 5.65803\n",
            "\n",
            "--- Manual Step Complete ---\n"
          ]
        }
      ]
    },
    {
      "cell_type": "markdown",
      "source": [
        "## Train the model for 20 Epochs\n",
        "\n",
        "* So far our loss functions work as expected in Eager mode.  \n",
        "* In this section we'll run the loss functions in optimized `Graph Mode` to see if it works as expected and also if the loss decreases as we progress.\n",
        "* Our experiments in other notebooks we know that we'll need to create the model using Functional API."
      ],
      "metadata": {
        "id": "p5Ky6tdhbwEr"
      },
      "id": "p5Ky6tdhbwEr"
    },
    {
      "cell_type": "markdown",
      "source": [
        "### Prepare Dataset"
      ],
      "metadata": {
        "id": "svkr5mXxfHNG"
      },
      "id": "svkr5mXxfHNG"
    },
    {
      "cell_type": "code",
      "source": [
        "X_tensor = tf.convert_to_tensor(x_train, dtype=tf.float32)\n",
        "X_tensor = tf.reshape(X_tensor,shape=(-1,28,28,1))\n",
        "y_tensor = tf.convert_to_tensor(y_train, dtype=tf.float32)\n",
        "batch_size = 32\n",
        "\n",
        "raw_dataset = tf.data.Dataset.from_tensor_slices((X_tensor, y_tensor))\n",
        "\n",
        "def generative_py_function(func, inp, Tout, shape_out):\n",
        "    # This is the bridge that calls your NumPy code\n",
        "    y = tf.numpy_function(func, inp, Tout)\n",
        "    # This is the crucial step: re-apply the shape information\n",
        "    y[0].set_shape(shape_out[0]) # Set shape for the image\n",
        "    y[1].set_shape(shape_out[1]) # Set shape for the labels\n",
        "    return y\n",
        "\n",
        "# Define the exact output shapes you expect\n",
        "output_shapes = ([100, 100, 1], [5,15])\n",
        "# Define the exact output data types you expect\n",
        "output_types = (tf.float32, tf.float32)\n",
        "\n",
        "# Use the wrapper inside the map\n",
        "processed_dataset = raw_dataset.map(lambda X, y: generative_py_function(\n",
        "    generate_training_example,\n",
        "    inp=[X, y],\n",
        "    Tout=output_types, # Pass the dtypes to Tout\n",
        "    shape_out=output_shapes # Pass the shapes to our new argument\n",
        ")).batch(batch_size=batch_size)"
      ],
      "metadata": {
        "id": "gkzQx-sBeYr_"
      },
      "id": "gkzQx-sBeYr_",
      "execution_count": 12,
      "outputs": []
    },
    {
      "cell_type": "markdown",
      "source": [
        "### Initialize Model"
      ],
      "metadata": {
        "id": "YgkYBImJfQbl"
      },
      "id": "YgkYBImJfQbl"
    },
    {
      "cell_type": "code",
      "source": [
        "inputs = tf.keras.Input(shape=(100,100,1),batch_size=batch_size ,name=\"input_layer\")\n",
        "\n",
        "x = tf.keras.layers.Rescaling(scale=1./255, name=\"rescaling\")(inputs)\n",
        "\n",
        "x = tf.keras.layers.Conv2D(filters=8, kernel_size=5, padding='same', activation='relu')(x)\n",
        "x = tf.keras.layers.Conv2D(filters=8, kernel_size=5, padding='same', activation='relu')(x)\n",
        "x = tf.keras.layers.MaxPooling2D()(x)\n",
        "\n",
        "x = tf.keras.layers.Conv2D(filters=8, kernel_size=3, padding='same', activation='relu')(x)\n",
        "x = tf.keras.layers.Conv2D(filters=8, kernel_size=3, padding='same', activation='relu')(x)\n",
        "x = tf.keras.layers.MaxPooling2D()(x)\n",
        "\n",
        "x = tf.keras.layers.Conv2D(filters=16, kernel_size=3, padding='same', activation='relu')(x)\n",
        "x = tf.keras.layers.Conv2D(filters=16, kernel_size=3, padding='same', activation='relu')(x)\n",
        "x = tf.keras.layers.MaxPooling2D()(x)\n",
        "\n",
        "x = tf.keras.layers.Conv2D(filters=32, kernel_size=3, padding='same', activation='relu')(x)\n",
        "x = tf.keras.layers.Conv2D(filters=32, kernel_size=3, padding='same', activation='relu')(x)\n",
        "x = tf.keras.layers.MaxPooling2D()(x)\n",
        "\n",
        "outputs = tf.keras.layers.Conv2D(filters=45, kernel_size=1, padding='same', activation='linear')(x)\n",
        "\n",
        "# Define the final model by specifying its inputs and outputs\n",
        "model = tf.keras.Model(inputs=inputs, outputs=outputs)\n",
        "\n",
        "model.summary()"
      ],
      "metadata": {
        "colab": {
          "base_uri": "https://localhost:8080/",
          "height": 0
        },
        "id": "XOoSfkYEfNyj",
        "outputId": "a7cbca5a-64f5-4f5a-ed24-4247d14f77b3"
      },
      "id": "XOoSfkYEfNyj",
      "execution_count": 13,
      "outputs": [
        {
          "output_type": "display_data",
          "data": {
            "text/plain": [
              "\u001b[1mModel: \"functional_2\"\u001b[0m\n"
            ],
            "text/html": [
              "<pre style=\"white-space:pre;overflow-x:auto;line-height:normal;font-family:Menlo,'DejaVu Sans Mono',consolas,'Courier New',monospace\"><span style=\"font-weight: bold\">Model: \"functional_2\"</span>\n",
              "</pre>\n"
            ]
          },
          "metadata": {}
        },
        {
          "output_type": "display_data",
          "data": {
            "text/plain": [
              "┏━━━━━━━━━━━━━━━━━━━━━━━━━━━━━━━━━┳━━━━━━━━━━━━━━━━━━━━━━━━┳━━━━━━━━━━━━━━━┓\n",
              "┃\u001b[1m \u001b[0m\u001b[1mLayer (type)                   \u001b[0m\u001b[1m \u001b[0m┃\u001b[1m \u001b[0m\u001b[1mOutput Shape          \u001b[0m\u001b[1m \u001b[0m┃\u001b[1m \u001b[0m\u001b[1m      Param #\u001b[0m\u001b[1m \u001b[0m┃\n",
              "┡━━━━━━━━━━━━━━━━━━━━━━━━━━━━━━━━━╇━━━━━━━━━━━━━━━━━━━━━━━━╇━━━━━━━━━━━━━━━┩\n",
              "│ input_layer (\u001b[38;5;33mInputLayer\u001b[0m)        │ (\u001b[38;5;34m32\u001b[0m, \u001b[38;5;34m100\u001b[0m, \u001b[38;5;34m100\u001b[0m, \u001b[38;5;34m1\u001b[0m)      │             \u001b[38;5;34m0\u001b[0m │\n",
              "├─────────────────────────────────┼────────────────────────┼───────────────┤\n",
              "│ rescaling (\u001b[38;5;33mRescaling\u001b[0m)           │ (\u001b[38;5;34m32\u001b[0m, \u001b[38;5;34m100\u001b[0m, \u001b[38;5;34m100\u001b[0m, \u001b[38;5;34m1\u001b[0m)      │             \u001b[38;5;34m0\u001b[0m │\n",
              "├─────────────────────────────────┼────────────────────────┼───────────────┤\n",
              "│ conv2d_9 (\u001b[38;5;33mConv2D\u001b[0m)               │ (\u001b[38;5;34m32\u001b[0m, \u001b[38;5;34m100\u001b[0m, \u001b[38;5;34m100\u001b[0m, \u001b[38;5;34m8\u001b[0m)      │           \u001b[38;5;34m208\u001b[0m │\n",
              "├─────────────────────────────────┼────────────────────────┼───────────────┤\n",
              "│ conv2d_10 (\u001b[38;5;33mConv2D\u001b[0m)              │ (\u001b[38;5;34m32\u001b[0m, \u001b[38;5;34m100\u001b[0m, \u001b[38;5;34m100\u001b[0m, \u001b[38;5;34m8\u001b[0m)      │         \u001b[38;5;34m1,608\u001b[0m │\n",
              "├─────────────────────────────────┼────────────────────────┼───────────────┤\n",
              "│ max_pooling2d_4 (\u001b[38;5;33mMaxPooling2D\u001b[0m)  │ (\u001b[38;5;34m32\u001b[0m, \u001b[38;5;34m50\u001b[0m, \u001b[38;5;34m50\u001b[0m, \u001b[38;5;34m8\u001b[0m)        │             \u001b[38;5;34m0\u001b[0m │\n",
              "├─────────────────────────────────┼────────────────────────┼───────────────┤\n",
              "│ conv2d_11 (\u001b[38;5;33mConv2D\u001b[0m)              │ (\u001b[38;5;34m32\u001b[0m, \u001b[38;5;34m50\u001b[0m, \u001b[38;5;34m50\u001b[0m, \u001b[38;5;34m8\u001b[0m)        │           \u001b[38;5;34m584\u001b[0m │\n",
              "├─────────────────────────────────┼────────────────────────┼───────────────┤\n",
              "│ conv2d_12 (\u001b[38;5;33mConv2D\u001b[0m)              │ (\u001b[38;5;34m32\u001b[0m, \u001b[38;5;34m50\u001b[0m, \u001b[38;5;34m50\u001b[0m, \u001b[38;5;34m8\u001b[0m)        │           \u001b[38;5;34m584\u001b[0m │\n",
              "├─────────────────────────────────┼────────────────────────┼───────────────┤\n",
              "│ max_pooling2d_5 (\u001b[38;5;33mMaxPooling2D\u001b[0m)  │ (\u001b[38;5;34m32\u001b[0m, \u001b[38;5;34m25\u001b[0m, \u001b[38;5;34m25\u001b[0m, \u001b[38;5;34m8\u001b[0m)        │             \u001b[38;5;34m0\u001b[0m │\n",
              "├─────────────────────────────────┼────────────────────────┼───────────────┤\n",
              "│ conv2d_13 (\u001b[38;5;33mConv2D\u001b[0m)              │ (\u001b[38;5;34m32\u001b[0m, \u001b[38;5;34m25\u001b[0m, \u001b[38;5;34m25\u001b[0m, \u001b[38;5;34m16\u001b[0m)       │         \u001b[38;5;34m1,168\u001b[0m │\n",
              "├─────────────────────────────────┼────────────────────────┼───────────────┤\n",
              "│ conv2d_14 (\u001b[38;5;33mConv2D\u001b[0m)              │ (\u001b[38;5;34m32\u001b[0m, \u001b[38;5;34m25\u001b[0m, \u001b[38;5;34m25\u001b[0m, \u001b[38;5;34m16\u001b[0m)       │         \u001b[38;5;34m2,320\u001b[0m │\n",
              "├─────────────────────────────────┼────────────────────────┼───────────────┤\n",
              "│ max_pooling2d_6 (\u001b[38;5;33mMaxPooling2D\u001b[0m)  │ (\u001b[38;5;34m32\u001b[0m, \u001b[38;5;34m12\u001b[0m, \u001b[38;5;34m12\u001b[0m, \u001b[38;5;34m16\u001b[0m)       │             \u001b[38;5;34m0\u001b[0m │\n",
              "├─────────────────────────────────┼────────────────────────┼───────────────┤\n",
              "│ conv2d_15 (\u001b[38;5;33mConv2D\u001b[0m)              │ (\u001b[38;5;34m32\u001b[0m, \u001b[38;5;34m12\u001b[0m, \u001b[38;5;34m12\u001b[0m, \u001b[38;5;34m32\u001b[0m)       │         \u001b[38;5;34m4,640\u001b[0m │\n",
              "├─────────────────────────────────┼────────────────────────┼───────────────┤\n",
              "│ conv2d_16 (\u001b[38;5;33mConv2D\u001b[0m)              │ (\u001b[38;5;34m32\u001b[0m, \u001b[38;5;34m12\u001b[0m, \u001b[38;5;34m12\u001b[0m, \u001b[38;5;34m32\u001b[0m)       │         \u001b[38;5;34m9,248\u001b[0m │\n",
              "├─────────────────────────────────┼────────────────────────┼───────────────┤\n",
              "│ max_pooling2d_7 (\u001b[38;5;33mMaxPooling2D\u001b[0m)  │ (\u001b[38;5;34m32\u001b[0m, \u001b[38;5;34m6\u001b[0m, \u001b[38;5;34m6\u001b[0m, \u001b[38;5;34m32\u001b[0m)         │             \u001b[38;5;34m0\u001b[0m │\n",
              "├─────────────────────────────────┼────────────────────────┼───────────────┤\n",
              "│ conv2d_17 (\u001b[38;5;33mConv2D\u001b[0m)              │ (\u001b[38;5;34m32\u001b[0m, \u001b[38;5;34m6\u001b[0m, \u001b[38;5;34m6\u001b[0m, \u001b[38;5;34m45\u001b[0m)         │         \u001b[38;5;34m1,485\u001b[0m │\n",
              "└─────────────────────────────────┴────────────────────────┴───────────────┘\n"
            ],
            "text/html": [
              "<pre style=\"white-space:pre;overflow-x:auto;line-height:normal;font-family:Menlo,'DejaVu Sans Mono',consolas,'Courier New',monospace\">┏━━━━━━━━━━━━━━━━━━━━━━━━━━━━━━━━━┳━━━━━━━━━━━━━━━━━━━━━━━━┳━━━━━━━━━━━━━━━┓\n",
              "┃<span style=\"font-weight: bold\"> Layer (type)                    </span>┃<span style=\"font-weight: bold\"> Output Shape           </span>┃<span style=\"font-weight: bold\">       Param # </span>┃\n",
              "┡━━━━━━━━━━━━━━━━━━━━━━━━━━━━━━━━━╇━━━━━━━━━━━━━━━━━━━━━━━━╇━━━━━━━━━━━━━━━┩\n",
              "│ input_layer (<span style=\"color: #0087ff; text-decoration-color: #0087ff\">InputLayer</span>)        │ (<span style=\"color: #00af00; text-decoration-color: #00af00\">32</span>, <span style=\"color: #00af00; text-decoration-color: #00af00\">100</span>, <span style=\"color: #00af00; text-decoration-color: #00af00\">100</span>, <span style=\"color: #00af00; text-decoration-color: #00af00\">1</span>)      │             <span style=\"color: #00af00; text-decoration-color: #00af00\">0</span> │\n",
              "├─────────────────────────────────┼────────────────────────┼───────────────┤\n",
              "│ rescaling (<span style=\"color: #0087ff; text-decoration-color: #0087ff\">Rescaling</span>)           │ (<span style=\"color: #00af00; text-decoration-color: #00af00\">32</span>, <span style=\"color: #00af00; text-decoration-color: #00af00\">100</span>, <span style=\"color: #00af00; text-decoration-color: #00af00\">100</span>, <span style=\"color: #00af00; text-decoration-color: #00af00\">1</span>)      │             <span style=\"color: #00af00; text-decoration-color: #00af00\">0</span> │\n",
              "├─────────────────────────────────┼────────────────────────┼───────────────┤\n",
              "│ conv2d_9 (<span style=\"color: #0087ff; text-decoration-color: #0087ff\">Conv2D</span>)               │ (<span style=\"color: #00af00; text-decoration-color: #00af00\">32</span>, <span style=\"color: #00af00; text-decoration-color: #00af00\">100</span>, <span style=\"color: #00af00; text-decoration-color: #00af00\">100</span>, <span style=\"color: #00af00; text-decoration-color: #00af00\">8</span>)      │           <span style=\"color: #00af00; text-decoration-color: #00af00\">208</span> │\n",
              "├─────────────────────────────────┼────────────────────────┼───────────────┤\n",
              "│ conv2d_10 (<span style=\"color: #0087ff; text-decoration-color: #0087ff\">Conv2D</span>)              │ (<span style=\"color: #00af00; text-decoration-color: #00af00\">32</span>, <span style=\"color: #00af00; text-decoration-color: #00af00\">100</span>, <span style=\"color: #00af00; text-decoration-color: #00af00\">100</span>, <span style=\"color: #00af00; text-decoration-color: #00af00\">8</span>)      │         <span style=\"color: #00af00; text-decoration-color: #00af00\">1,608</span> │\n",
              "├─────────────────────────────────┼────────────────────────┼───────────────┤\n",
              "│ max_pooling2d_4 (<span style=\"color: #0087ff; text-decoration-color: #0087ff\">MaxPooling2D</span>)  │ (<span style=\"color: #00af00; text-decoration-color: #00af00\">32</span>, <span style=\"color: #00af00; text-decoration-color: #00af00\">50</span>, <span style=\"color: #00af00; text-decoration-color: #00af00\">50</span>, <span style=\"color: #00af00; text-decoration-color: #00af00\">8</span>)        │             <span style=\"color: #00af00; text-decoration-color: #00af00\">0</span> │\n",
              "├─────────────────────────────────┼────────────────────────┼───────────────┤\n",
              "│ conv2d_11 (<span style=\"color: #0087ff; text-decoration-color: #0087ff\">Conv2D</span>)              │ (<span style=\"color: #00af00; text-decoration-color: #00af00\">32</span>, <span style=\"color: #00af00; text-decoration-color: #00af00\">50</span>, <span style=\"color: #00af00; text-decoration-color: #00af00\">50</span>, <span style=\"color: #00af00; text-decoration-color: #00af00\">8</span>)        │           <span style=\"color: #00af00; text-decoration-color: #00af00\">584</span> │\n",
              "├─────────────────────────────────┼────────────────────────┼───────────────┤\n",
              "│ conv2d_12 (<span style=\"color: #0087ff; text-decoration-color: #0087ff\">Conv2D</span>)              │ (<span style=\"color: #00af00; text-decoration-color: #00af00\">32</span>, <span style=\"color: #00af00; text-decoration-color: #00af00\">50</span>, <span style=\"color: #00af00; text-decoration-color: #00af00\">50</span>, <span style=\"color: #00af00; text-decoration-color: #00af00\">8</span>)        │           <span style=\"color: #00af00; text-decoration-color: #00af00\">584</span> │\n",
              "├─────────────────────────────────┼────────────────────────┼───────────────┤\n",
              "│ max_pooling2d_5 (<span style=\"color: #0087ff; text-decoration-color: #0087ff\">MaxPooling2D</span>)  │ (<span style=\"color: #00af00; text-decoration-color: #00af00\">32</span>, <span style=\"color: #00af00; text-decoration-color: #00af00\">25</span>, <span style=\"color: #00af00; text-decoration-color: #00af00\">25</span>, <span style=\"color: #00af00; text-decoration-color: #00af00\">8</span>)        │             <span style=\"color: #00af00; text-decoration-color: #00af00\">0</span> │\n",
              "├─────────────────────────────────┼────────────────────────┼───────────────┤\n",
              "│ conv2d_13 (<span style=\"color: #0087ff; text-decoration-color: #0087ff\">Conv2D</span>)              │ (<span style=\"color: #00af00; text-decoration-color: #00af00\">32</span>, <span style=\"color: #00af00; text-decoration-color: #00af00\">25</span>, <span style=\"color: #00af00; text-decoration-color: #00af00\">25</span>, <span style=\"color: #00af00; text-decoration-color: #00af00\">16</span>)       │         <span style=\"color: #00af00; text-decoration-color: #00af00\">1,168</span> │\n",
              "├─────────────────────────────────┼────────────────────────┼───────────────┤\n",
              "│ conv2d_14 (<span style=\"color: #0087ff; text-decoration-color: #0087ff\">Conv2D</span>)              │ (<span style=\"color: #00af00; text-decoration-color: #00af00\">32</span>, <span style=\"color: #00af00; text-decoration-color: #00af00\">25</span>, <span style=\"color: #00af00; text-decoration-color: #00af00\">25</span>, <span style=\"color: #00af00; text-decoration-color: #00af00\">16</span>)       │         <span style=\"color: #00af00; text-decoration-color: #00af00\">2,320</span> │\n",
              "├─────────────────────────────────┼────────────────────────┼───────────────┤\n",
              "│ max_pooling2d_6 (<span style=\"color: #0087ff; text-decoration-color: #0087ff\">MaxPooling2D</span>)  │ (<span style=\"color: #00af00; text-decoration-color: #00af00\">32</span>, <span style=\"color: #00af00; text-decoration-color: #00af00\">12</span>, <span style=\"color: #00af00; text-decoration-color: #00af00\">12</span>, <span style=\"color: #00af00; text-decoration-color: #00af00\">16</span>)       │             <span style=\"color: #00af00; text-decoration-color: #00af00\">0</span> │\n",
              "├─────────────────────────────────┼────────────────────────┼───────────────┤\n",
              "│ conv2d_15 (<span style=\"color: #0087ff; text-decoration-color: #0087ff\">Conv2D</span>)              │ (<span style=\"color: #00af00; text-decoration-color: #00af00\">32</span>, <span style=\"color: #00af00; text-decoration-color: #00af00\">12</span>, <span style=\"color: #00af00; text-decoration-color: #00af00\">12</span>, <span style=\"color: #00af00; text-decoration-color: #00af00\">32</span>)       │         <span style=\"color: #00af00; text-decoration-color: #00af00\">4,640</span> │\n",
              "├─────────────────────────────────┼────────────────────────┼───────────────┤\n",
              "│ conv2d_16 (<span style=\"color: #0087ff; text-decoration-color: #0087ff\">Conv2D</span>)              │ (<span style=\"color: #00af00; text-decoration-color: #00af00\">32</span>, <span style=\"color: #00af00; text-decoration-color: #00af00\">12</span>, <span style=\"color: #00af00; text-decoration-color: #00af00\">12</span>, <span style=\"color: #00af00; text-decoration-color: #00af00\">32</span>)       │         <span style=\"color: #00af00; text-decoration-color: #00af00\">9,248</span> │\n",
              "├─────────────────────────────────┼────────────────────────┼───────────────┤\n",
              "│ max_pooling2d_7 (<span style=\"color: #0087ff; text-decoration-color: #0087ff\">MaxPooling2D</span>)  │ (<span style=\"color: #00af00; text-decoration-color: #00af00\">32</span>, <span style=\"color: #00af00; text-decoration-color: #00af00\">6</span>, <span style=\"color: #00af00; text-decoration-color: #00af00\">6</span>, <span style=\"color: #00af00; text-decoration-color: #00af00\">32</span>)         │             <span style=\"color: #00af00; text-decoration-color: #00af00\">0</span> │\n",
              "├─────────────────────────────────┼────────────────────────┼───────────────┤\n",
              "│ conv2d_17 (<span style=\"color: #0087ff; text-decoration-color: #0087ff\">Conv2D</span>)              │ (<span style=\"color: #00af00; text-decoration-color: #00af00\">32</span>, <span style=\"color: #00af00; text-decoration-color: #00af00\">6</span>, <span style=\"color: #00af00; text-decoration-color: #00af00\">6</span>, <span style=\"color: #00af00; text-decoration-color: #00af00\">45</span>)         │         <span style=\"color: #00af00; text-decoration-color: #00af00\">1,485</span> │\n",
              "└─────────────────────────────────┴────────────────────────┴───────────────┘\n",
              "</pre>\n"
            ]
          },
          "metadata": {}
        },
        {
          "output_type": "display_data",
          "data": {
            "text/plain": [
              "\u001b[1m Total params: \u001b[0m\u001b[38;5;34m21,845\u001b[0m (85.33 KB)\n"
            ],
            "text/html": [
              "<pre style=\"white-space:pre;overflow-x:auto;line-height:normal;font-family:Menlo,'DejaVu Sans Mono',consolas,'Courier New',monospace\"><span style=\"font-weight: bold\"> Total params: </span><span style=\"color: #00af00; text-decoration-color: #00af00\">21,845</span> (85.33 KB)\n",
              "</pre>\n"
            ]
          },
          "metadata": {}
        },
        {
          "output_type": "display_data",
          "data": {
            "text/plain": [
              "\u001b[1m Trainable params: \u001b[0m\u001b[38;5;34m21,845\u001b[0m (85.33 KB)\n"
            ],
            "text/html": [
              "<pre style=\"white-space:pre;overflow-x:auto;line-height:normal;font-family:Menlo,'DejaVu Sans Mono',consolas,'Courier New',monospace\"><span style=\"font-weight: bold\"> Trainable params: </span><span style=\"color: #00af00; text-decoration-color: #00af00\">21,845</span> (85.33 KB)\n",
              "</pre>\n"
            ]
          },
          "metadata": {}
        },
        {
          "output_type": "display_data",
          "data": {
            "text/plain": [
              "\u001b[1m Non-trainable params: \u001b[0m\u001b[38;5;34m0\u001b[0m (0.00 B)\n"
            ],
            "text/html": [
              "<pre style=\"white-space:pre;overflow-x:auto;line-height:normal;font-family:Menlo,'DejaVu Sans Mono',consolas,'Courier New',monospace\"><span style=\"font-weight: bold\"> Non-trainable params: </span><span style=\"color: #00af00; text-decoration-color: #00af00\">0</span> (0.00 B)\n",
              "</pre>\n"
            ]
          },
          "metadata": {}
        }
      ]
    },
    {
      "cell_type": "markdown",
      "source": [
        "### Define Callbacks"
      ],
      "metadata": {
        "id": "oYkmsyYFfVG_"
      },
      "id": "oYkmsyYFfVG_"
    },
    {
      "cell_type": "code",
      "source": [
        "# step 4: Define the callbacks\n",
        "checkpoint_filepath = './models/experiment_1_{epoch:02d}.keras'\n",
        "model_checkpoint_callback = tf.keras.callbacks.ModelCheckpoint(\n",
        "    filepath=checkpoint_filepath,\n",
        "    monitor='loss',\n",
        "    mode='min',\n",
        "    save_best_only=True,\n",
        "    save_freq=\"epoch\",\n",
        "    verbose=1,\n",
        "    )"
      ],
      "metadata": {
        "id": "j-30sp7AfSYt"
      },
      "id": "j-30sp7AfSYt",
      "execution_count": 14,
      "outputs": []
    },
    {
      "cell_type": "markdown",
      "source": [
        "### Compile & Fit"
      ],
      "metadata": {
        "id": "Yzyrwlo6fZR1"
      },
      "id": "Yzyrwlo6fZR1"
    },
    {
      "cell_type": "code",
      "source": [
        "model.compile(optimizer=tf.keras.optimizers.Adam(),\n",
        "              loss=calculate_model_loss,\n",
        "              metrics=[objectness_metrics, bounding_box_metrics, classification_metrics])\n",
        "## step 5: Fit the model\n",
        "epochs=20\n",
        "\n",
        "## commenting this out to avoid long running fit method\n",
        "# history = model.fit(\n",
        "#   processed_dataset,\n",
        "#   epochs=epochs,\n",
        "#   callbacks=[model_checkpoint_callback]\n",
        "# )"
      ],
      "metadata": {
        "id": "gAB0cfrqfW3s"
      },
      "id": "gAB0cfrqfW3s",
      "execution_count": 15,
      "outputs": []
    },
    {
      "cell_type": "markdown",
      "source": [
        "## Optimizing Training\n",
        "* Right now a single epoch takes ~30 mins to fit, which means to train the model for 20 epochs we'll need ~10 hours, which is too slow for this model.\n",
        "* We have 2 potential reasons for this slowness,\n",
        "  * Numpy based data generation code. Since our data generation implementation uses Numpy APIs which is CPU bound process it might not be able to keep up with GPU based TF Training process.\n",
        "  * Batch size - with current batch size of 32 we have 1875 batches in single epoch which adds to the CPU bound data generation overhead.\n",
        "* Our first step is to profile the data generation scripts to see how long does it take to generate data for a CPU bound script."
      ],
      "metadata": {
        "id": "namrr1vJfbEV"
      },
      "id": "namrr1vJfbEV"
    },
    {
      "cell_type": "markdown",
      "source": [
        "### Performance Profiling\n",
        "\n",
        "* We'll use a simple benchmark function to measure the time taken to generate the data per epoch.\n"
      ],
      "metadata": {
        "id": "CafkXvAx6d9g"
      },
      "id": "CafkXvAx6d9g"
    },
    {
      "cell_type": "code",
      "source": [
        "import time\n",
        "\n",
        "def benchmark(dataset, num_epochs=2):\n",
        "    start_time = time.perf_counter()\n",
        "    for epoch_num in range(num_epochs):\n",
        "        print(f\"---- Epoch {epoch_num} ----\")\n",
        "        for sample in dataset:\n",
        "            # Performing a training step\n",
        "            time.sleep(0.01)\n",
        "        print(f\"Execution time for epoch {epoch_num} : {time.perf_counter() - start_time}\")\n",
        "    print(\"Total Execution time:\", time.perf_counter() - start_time)"
      ],
      "metadata": {
        "id": "wsBgobMa6hRT"
      },
      "id": "wsBgobMa6hRT",
      "execution_count": 16,
      "outputs": []
    },
    {
      "cell_type": "code",
      "source": [
        "benchmark(processed_dataset.prefetch(tf.data.AUTOTUNE))"
      ],
      "metadata": {
        "id": "6t7pgNGY62ib",
        "outputId": "cb294217-c6be-43e3-9e55-fd6f509e41a2",
        "colab": {
          "base_uri": "https://localhost:8080/"
        }
      },
      "id": "6t7pgNGY62ib",
      "execution_count": 17,
      "outputs": [
        {
          "output_type": "stream",
          "name": "stdout",
          "text": [
            "---- Epoch 0 ----\n",
            "Execution time for epoch 0 : 2485.765105039\n",
            "---- Epoch 1 ----\n",
            "Execution time for epoch 1 : 4950.8231753479995\n",
            "Total Execution time: 4950.82328547\n"
          ]
        }
      ]
    },
    {
      "cell_type": "markdown",
      "source": [
        "Observations\n",
        "* We made a mistake in above calculations, the time for `epoch 1` is total time of both the epochs.\n",
        "* Still on average each epoch took ~2475 seconds\n",
        "* If we subtract sleep time which is 0.01s per batch, total \"training\" time would be 0.01 * 1875 = 18.75 seconds per epoch.\n",
        "* Which means ~2456s or 40 mins per epoch goes into data generation.\n",
        "* This proves that the data generation pipeline is the bottle neck in our training. We'll need to convert the script into TF and see if we can speed up this step"
      ],
      "metadata": {
        "id": "L0c2TXqvqFG5"
      },
      "id": "L0c2TXqvqFG5"
    },
    {
      "cell_type": "markdown",
      "source": [
        "### Converting Numpy Funtions to TF"
      ],
      "metadata": {
        "id": "VwpRGNnz-F7a"
      },
      "id": "VwpRGNnz-F7a"
    },
    {
      "cell_type": "code",
      "source": [],
      "metadata": {
        "id": "wxHNsEFottIb"
      },
      "id": "wxHNsEFottIb",
      "execution_count": null,
      "outputs": []
    }
  ],
  "metadata": {
    "language_info": {
      "name": "python"
    },
    "colab": {
      "provenance": [],
      "gpuType": "T4",
      "toc_visible": true
    },
    "kernelspec": {
      "name": "python3",
      "display_name": "Python 3"
    },
    "accelerator": "GPU"
  },
  "nbformat": 4,
  "nbformat_minor": 5
}