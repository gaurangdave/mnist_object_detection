{
  "cells": [
    {
      "cell_type": "markdown",
      "id": "88d9b8e6",
      "metadata": {
        "id": "88d9b8e6"
      },
      "source": [
        "<a href=\"https://colab.research.google.com/github/gaurangdave/mnist_object_detection/blob/main/notebooks/03_google_colab_migration.ipynb\" target=\"_parent\"><img src=\"https://colab.research.google.com/assets/colab-badge.svg\" alt=\"Open In Colab\"/></a>"
      ]
    },
    {
      "cell_type": "markdown",
      "id": "d5547be1",
      "metadata": {
        "id": "d5547be1"
      },
      "source": [
        "# MNIST Object Detection"
      ]
    },
    {
      "cell_type": "markdown",
      "source": [
        "# Import Libraries"
      ],
      "metadata": {
        "id": "0tP3N0G6DNgp"
      },
      "id": "0tP3N0G6DNgp"
    },
    {
      "cell_type": "code",
      "source": [
        "import pandas as pd\n",
        "import numpy as np\n",
        "from pathlib import Path\n",
        "from sklearn.datasets import fetch_openml\n",
        "from keras.datasets import mnist\n",
        "\n",
        "\n",
        "import tensorflow as tf\n",
        "import matplotlib.pyplot as plt\n",
        "import PIL\n",
        "import PIL.Image\n"
      ],
      "metadata": {
        "id": "C88hhW3fDQFO"
      },
      "id": "C88hhW3fDQFO",
      "execution_count": 12,
      "outputs": []
    },
    {
      "cell_type": "code",
      "source": [
        "print(\"Num GPUs Available: \", len(tf.config.list_physical_devices('GPU')))"
      ],
      "metadata": {
        "colab": {
          "base_uri": "https://localhost:8080/"
        },
        "id": "4dMCwJ7fDeN1",
        "outputId": "bda52326-62e7-4776-d702-46d7e726df26"
      },
      "id": "4dMCwJ7fDeN1",
      "execution_count": 13,
      "outputs": [
        {
          "output_type": "stream",
          "name": "stdout",
          "text": [
            "Num GPUs Available:  0\n"
          ]
        }
      ]
    },
    {
      "cell_type": "markdown",
      "source": [
        "# Data Access"
      ],
      "metadata": {
        "id": "VPEcmSCfCH8g"
      },
      "id": "VPEcmSCfCH8g"
    },
    {
      "cell_type": "markdown",
      "source": [
        "## Set Constants  "
      ],
      "metadata": {
        "id": "wa9FmTPCDbn1"
      },
      "id": "wa9FmTPCDbn1"
    },
    {
      "cell_type": "code",
      "source": [
        "data_dir = Path(\"data\")\n",
        "models_dir = Path(\"models\")"
      ],
      "metadata": {
        "id": "xIdEzErNEHs3"
      },
      "id": "xIdEzErNEHs3",
      "execution_count": 14,
      "outputs": []
    },
    {
      "cell_type": "code",
      "source": [
        "(x_train, y_train), (x_test, y_test) = mnist.load_data()\n"
      ],
      "metadata": {
        "id": "17DdP_OEEW9f"
      },
      "id": "17DdP_OEEW9f",
      "execution_count": 15,
      "outputs": []
    },
    {
      "cell_type": "code",
      "source": [
        "x_train.shape, y_train.shape, x_test.shape, y_test.shape"
      ],
      "metadata": {
        "colab": {
          "base_uri": "https://localhost:8080/"
        },
        "id": "WBYeASoEEXRF",
        "outputId": "e3cc42fd-a717-4ef8-b00a-fd52f460df3c"
      },
      "id": "WBYeASoEEXRF",
      "execution_count": 16,
      "outputs": [
        {
          "output_type": "execute_result",
          "data": {
            "text/plain": [
              "((60000, 28, 28), (60000,), (10000, 28, 28), (10000,))"
            ]
          },
          "metadata": {},
          "execution_count": 16
        }
      ]
    },
    {
      "cell_type": "code",
      "source": [],
      "metadata": {
        "id": "xe9omI65EXT6"
      },
      "id": "xe9omI65EXT6",
      "execution_count": 16,
      "outputs": []
    },
    {
      "cell_type": "code",
      "source": [],
      "metadata": {
        "id": "YL1_1CCfEXWQ"
      },
      "id": "YL1_1CCfEXWQ",
      "execution_count": 16,
      "outputs": []
    },
    {
      "cell_type": "markdown",
      "source": [
        "# Data Generation"
      ],
      "metadata": {
        "id": "52Wv6_QDCRi5"
      },
      "id": "52Wv6_QDCRi5"
    },
    {
      "cell_type": "markdown",
      "source": [
        "## Bounding Box Generation"
      ],
      "metadata": {
        "id": "0uxEYAaprtGf"
      },
      "id": "0uxEYAaprtGf"
    },
    {
      "cell_type": "code",
      "source": [
        "## helper function to plot the mnist data instances\n",
        "def plot_numbers(image_df, num_of_columns = 5):\n",
        "    ## lets render each image to do a quick visual inspection\n",
        "    num_instances = image_df.shape[0]\n",
        "    num_of_rows = int(num_instances / num_of_columns) + (1 if int(num_instances % num_of_columns) > 0 else 0)\n",
        "    fig,axs = plt.subplots(num_of_rows,num_of_columns,figsize=(10,3))\n",
        "    axs = axs.ravel()\n",
        "    for idx in range(0,num_instances,1):\n",
        "        if(type(image_df) == np.ndarray):\n",
        "            image_data = image_df[idx]\n",
        "        else:\n",
        "            image_data = image_df.iloc[idx].values  # MNIST images are 28x28 pixels\n",
        "        # Render the image using Matplotlib\n",
        "        axs[idx].imshow(image_data)  # Use 'gray' colormap to render grayscale\n",
        "\n",
        "\n",
        "    plt.axis(\"off\") # Remove axes for better visualization\n",
        "    plt.show()"
      ],
      "metadata": {
        "id": "a8Ga1Zn7yTXx"
      },
      "id": "a8Ga1Zn7yTXx",
      "execution_count": 17,
      "outputs": []
    },
    {
      "cell_type": "code",
      "source": [
        "def get_random_images(dataset, size=5):\n",
        "  random_indices = np.random.choice(len(dataset), size=size, replace=False)\n",
        "  sample_images = dataset[random_indices]\n",
        "  return sample_images\n"
      ],
      "metadata": {
        "id": "oRThbYqryCR1"
      },
      "id": "oRThbYqryCR1",
      "execution_count": 18,
      "outputs": []
    },
    {
      "cell_type": "code",
      "source": [
        "sample_images = get_random_images(x_train, 5)\n",
        "\n",
        "plot_numbers(sample_images)"
      ],
      "metadata": {
        "colab": {
          "base_uri": "https://localhost:8080/",
          "height": 197
        },
        "id": "jgnAzz8DyZj3",
        "outputId": "c6dd0d08-630e-4def-d8c2-ef57ccfc5bb1"
      },
      "id": "jgnAzz8DyZj3",
      "execution_count": 22,
      "outputs": [
        {
          "output_type": "display_data",
          "data": {
            "text/plain": [
              "<Figure size 1000x300 with 5 Axes>"
            ],
            "image/png": "[encoded data removed]"
          },
          "metadata": {}
        }
      ]
    },
    {
      "cell_type": "code",
      "source": [
        "## helper function to calculate bounding box for each instance and return it.\n",
        "def map_bounding_box(mnist_intance):\n",
        "    padding = 1\n",
        "    ## save the current class for later\n",
        "    curr_class = mnist_intance[\"class\"]\n",
        "\n",
        "    ## extract pixel information\n",
        "    pixels = mnist_intance.drop(labels=[\"class\"])\n",
        "    ## reshape the pixels\n",
        "    pixels = pixels.values.reshape(28,28)\n",
        "\n",
        "    ## calculate active rows & columns\n",
        "    active_rows = np.sum(pixels,axis=1)\n",
        "    active_columns = np.sum(pixels, axis=0)\n",
        "\n",
        "    ## calculate x_min and x_max coordinate\n",
        "    x_min = np.nonzero(active_columns)[0][0]\n",
        "    x_max = np.nonzero(active_columns)[0][-1]\n",
        "    y_min = np.nonzero(active_rows)[0][0]\n",
        "    y_max = np.nonzero(active_rows)[0][-1]\n",
        "\n",
        "    ## add padding to pixels\n",
        "    x_min = x_min - (padding if (x_min != 0) else 0)\n",
        "    x_max = x_max + (padding if (x_max != 27) else 0)\n",
        "    y_min = y_min - (padding if (y_min != 0) else 0)\n",
        "    y_max = y_max + (padding if (y_max != 27) else 0)\n",
        "\n",
        "    ## calcualte x_center and y_center\n",
        "    x_center = round((x_min + x_max) / 2)\n",
        "    y_center = round((y_min + y_max) / 2)\n",
        "\n",
        "    ## calculate width and height\n",
        "    width = x_max - x_min + 1\n",
        "    height = y_max - y_min + 1\n",
        "\n",
        "    return pd.Series({\n",
        "        \"class\": curr_class,\n",
        "        \"x_center\": x_center,\n",
        "        \"y_center\": y_center,\n",
        "        \"width\": width,\n",
        "        \"height\": height\n",
        "    })"
      ],
      "metadata": {
        "id": "RZEaN7cc15Sr"
      },
      "id": "RZEaN7cc15Sr",
      "execution_count": 23,
      "outputs": []
    },
    {
      "cell_type": "markdown",
      "source": [
        "## Bounding Box Visualization"
      ],
      "metadata": {
        "id": "Gr0EVPZZ17vQ"
      },
      "id": "Gr0EVPZZ17vQ"
    },
    {
      "cell_type": "code",
      "source": [
        "## right now we don't know how would we uses this function, for now assumption is we'll pass in 2 dataframes\n",
        "## we'll revisit the function signature as we proceed with the project\n",
        "from matplotlib import patches\n",
        "\n",
        "def visualize_bounding_box(pixel_data, target_data,num_of_columns = 5):\n",
        "    num_of_columns = num_of_columns if num_of_columns <= 5 else 5\n",
        "    num_instances = pixel_data.shape[0]\n",
        "    num_of_rows = int(num_instances / num_of_columns) + (1 if int(num_instances % num_of_columns) > 0 else 0)\n",
        "\n",
        "    fig,axs = plt.subplots(num_of_rows,num_of_columns,figsize=(10,3))\n",
        "    axs = axs.ravel()\n",
        "\n",
        "    for idx in range(0,num_instances,1):\n",
        "\n",
        "        original = tf.constant(pixel_data.iloc[idx].values.reshape(28,28,1))\n",
        "        converted = tf.image.grayscale_to_rgb(original)\n",
        "\n",
        "        x_center = target_data.iloc[idx][\"x_center\"]\n",
        "        y_center = target_data.iloc[idx][\"y_center\"]\n",
        "        width = target_data.iloc[idx][\"width\"]\n",
        "        height = target_data.iloc[idx][\"height\"]\n",
        "\n",
        "        x = round(x_center - (width) / 2)\n",
        "        y = round(y_center - (height) / 2)\n",
        "\n",
        "        rect = patches.Rectangle((x,y),width=width,height=height, linewidth=1, edgecolor='r', facecolor='none')\n",
        "        image_data = converted.numpy().astype(\"uint8\")\n",
        "        axs[idx].imshow(image_data)\n",
        "        axs[idx].add_patch(rect)\n",
        "\n",
        "        axs[idx].set_title(target_data.iloc[idx][\"class\"])\n",
        "        axs[idx].axis(\"off\")\n",
        "    plt.show()"
      ],
      "metadata": {
        "id": "uI0wDoEG2BwL"
      },
      "id": "uI0wDoEG2BwL",
      "execution_count": 24,
      "outputs": []
    },
    {
      "cell_type": "markdown",
      "source": [
        "# Training & Evaluation"
      ],
      "metadata": {
        "id": "bb6G8EUtCZqe"
      },
      "id": "bb6G8EUtCZqe"
    },
    {
      "cell_type": "markdown",
      "source": [
        "# Test Data Validation"
      ],
      "metadata": {
        "id": "Unex0sh3Ceud"
      },
      "id": "Unex0sh3Ceud"
    },
    {
      "cell_type": "markdown",
      "source": [],
      "metadata": {
        "id": "I3NWLAVFCgz0"
      },
      "id": "I3NWLAVFCgz0"
    },
    {
      "cell_type": "markdown",
      "source": [],
      "metadata": {
        "id": "MK38al0nDFBT"
      },
      "id": "MK38al0nDFBT"
    },
    {
      "cell_type": "markdown",
      "source": [],
      "metadata": {
        "id": "49refJFDDFiw"
      },
      "id": "49refJFDDFiw"
    }
  ],
  "metadata": {
    "language_info": {
      "name": "python"
    },
    "colab": {
      "provenance": []
    },
    "kernelspec": {
      "name": "python3",
      "display_name": "Python 3"
    }
  },
  "nbformat": 4,
  "nbformat_minor": 5
}