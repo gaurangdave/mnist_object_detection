{
  "cells": [
    {
      "cell_type": "markdown",
      "id": "88d9b8e6",
      "metadata": {
        "id": "88d9b8e6"
      },
      "source": [
        "<a href=\"https://colab.research.google.com/github/gaurangdave/mnist_object_detection/blob/main/notebooks/03_google_colab_migration.ipynb\" target=\"_parent\"><img src=\"https://colab.research.google.com/assets/colab-badge.svg\" alt=\"Open In Colab\"/></a>"
      ]
    },
    {
      "cell_type": "markdown",
      "id": "d5547be1",
      "metadata": {
        "id": "d5547be1"
      },
      "source": [
        "# MNIST Object Detection"
      ]
    },
    {
      "cell_type": "markdown",
      "source": [
        "# Import Libraries"
      ],
      "metadata": {
        "id": "0tP3N0G6DNgp"
      },
      "id": "0tP3N0G6DNgp"
    },
    {
      "cell_type": "code",
      "source": [
        "import pandas as pd\n",
        "import numpy as np\n",
        "from pathlib import Path\n",
        "from sklearn.datasets import fetch_openml\n",
        "from keras.datasets import mnist\n",
        "\n",
        "\n",
        "import tensorflow as tf\n",
        "import matplotlib.pyplot as plt\n",
        "import PIL\n",
        "import PIL.Image\n"
      ],
      "metadata": {
        "id": "C88hhW3fDQFO"
      },
      "id": "C88hhW3fDQFO",
      "execution_count": 1,
      "outputs": []
    },
    {
      "cell_type": "code",
      "source": [
        "print(\"Num GPUs Available: \", len(tf.config.list_physical_devices('GPU')))"
      ],
      "metadata": {
        "colab": {
          "base_uri": "https://localhost:8080/"
        },
        "id": "4dMCwJ7fDeN1",
        "outputId": "22a88125-f160-4dec-fb1d-f1af7085e096"
      },
      "id": "4dMCwJ7fDeN1",
      "execution_count": 2,
      "outputs": [
        {
          "output_type": "stream",
          "name": "stdout",
          "text": [
            "Num GPUs Available:  0\n"
          ]
        }
      ]
    },
    {
      "cell_type": "markdown",
      "source": [
        "# Data Access"
      ],
      "metadata": {
        "id": "VPEcmSCfCH8g"
      },
      "id": "VPEcmSCfCH8g"
    },
    {
      "cell_type": "markdown",
      "source": [
        "## Set Constants  "
      ],
      "metadata": {
        "id": "wa9FmTPCDbn1"
      },
      "id": "wa9FmTPCDbn1"
    },
    {
      "cell_type": "code",
      "source": [
        "data_dir = Path(\"data\")\n",
        "models_dir = Path(\"models\")"
      ],
      "metadata": {
        "id": "xIdEzErNEHs3"
      },
      "id": "xIdEzErNEHs3",
      "execution_count": 3,
      "outputs": []
    },
    {
      "cell_type": "code",
      "source": [
        "(x_train, y_train), (x_test, y_test) = mnist.load_data()\n"
      ],
      "metadata": {
        "id": "17DdP_OEEW9f",
        "outputId": "23666e0a-13c7-4038-991f-1e637d28b661",
        "colab": {
          "base_uri": "https://localhost:8080/"
        }
      },
      "id": "17DdP_OEEW9f",
      "execution_count": 4,
      "outputs": [
        {
          "output_type": "stream",
          "name": "stdout",
          "text": [
            "Downloading data from https://storage.googleapis.com/tensorflow/tf-keras-datasets/mnist.npz\n",
            "\u001b[1m11490434/11490434\u001b[0m \u001b[32m━━━━━━━━━━━━━━━━━━━━\u001b[0m\u001b[37m\u001b[0m \u001b[1m0s\u001b[0m 0us/step\n"
          ]
        }
      ]
    },
    {
      "cell_type": "code",
      "source": [
        "x_train.shape, y_train.shape, x_test.shape, y_test.shape"
      ],
      "metadata": {
        "id": "WBYeASoEEXRF",
        "outputId": "7d6d699e-fa95-4d26-acb9-cbd96b9e97a9",
        "colab": {
          "base_uri": "https://localhost:8080/"
        }
      },
      "id": "WBYeASoEEXRF",
      "execution_count": 6,
      "outputs": [
        {
          "output_type": "execute_result",
          "data": {
            "text/plain": [
              "((60000, 28, 28), (60000,), (10000, 28, 28), (10000,))"
            ]
          },
          "metadata": {},
          "execution_count": 6
        }
      ]
    },
    {
      "cell_type": "code",
      "source": [],
      "metadata": {
        "id": "xe9omI65EXT6"
      },
      "id": "xe9omI65EXT6",
      "execution_count": null,
      "outputs": []
    },
    {
      "cell_type": "code",
      "source": [],
      "metadata": {
        "id": "YL1_1CCfEXWQ"
      },
      "id": "YL1_1CCfEXWQ",
      "execution_count": null,
      "outputs": []
    },
    {
      "cell_type": "markdown",
      "source": [
        "# Data Generation"
      ],
      "metadata": {
        "id": "52Wv6_QDCRi5"
      },
      "id": "52Wv6_QDCRi5"
    },
    {
      "cell_type": "markdown",
      "source": [
        "## Bounding Box Generation"
      ],
      "metadata": {
        "id": "0uxEYAaprtGf"
      },
      "id": "0uxEYAaprtGf"
    },
    {
      "cell_type": "code",
      "source": [
        "## helper function to plot the mnist data instances\n",
        "def plot_numbers(image_df, num_of_columns = 5):\n",
        "    ## lets render each image to do a quick visual inspection\n",
        "    num_instances = image_df.shape[0]\n",
        "    num_of_rows = int(num_instances / num_of_columns) + (1 if int(num_instances % num_of_columns) > 0 else 0)\n",
        "    fig,axs = plt.subplots(num_of_rows,num_of_columns,figsize=(10,3))\n",
        "    axs = axs.ravel()\n",
        "    for idx in range(0,num_instances,1):\n",
        "        if(type(image_df) == np.ndarray):\n",
        "            image_data = image_df[idx]\n",
        "        else:\n",
        "            image_data = image_df.iloc[idx].values  # MNIST images are 28x28 pixels\n",
        "        # Render the image using Matplotlib\n",
        "        axs[idx].imshow(image_data)  # Use 'gray' colormap to render grayscale\n",
        "\n",
        "\n",
        "    plt.axis(\"off\") # Remove axes for better visualization\n",
        "    plt.show()"
      ],
      "metadata": {
        "id": "a8Ga1Zn7yTXx"
      },
      "id": "a8Ga1Zn7yTXx",
      "execution_count": 7,
      "outputs": []
    },
    {
      "cell_type": "code",
      "source": [
        "random_indices = np.random.choice(len(x_train), size=5, replace=False)\n",
        "sample_images = x_train[random_indices]\n",
        "\n",
        "plot_numbers(sample_images)"
      ],
      "metadata": {
        "id": "jgnAzz8DyZj3",
        "outputId": "b03c0150-6228-4b24-9809-9fb73e126a71",
        "colab": {
          "base_uri": "https://localhost:8080/",
          "height": 197
        }
      },
      "id": "jgnAzz8DyZj3",
      "execution_count": 11,
      "outputs": [
        {
          "output_type": "display_data",
          "data": {
            "text/plain": [
              "<Figure size 1000x300 with 5 Axes>"
            ],
            "image/png": "[encoded data removed]"
          },
          "metadata": {}
        }
      ]
    },
    {
      "cell_type": "markdown",
      "source": [
        "# Training & Evaluation"
      ],
      "metadata": {
        "id": "bb6G8EUtCZqe"
      },
      "id": "bb6G8EUtCZqe"
    },
    {
      "cell_type": "markdown",
      "source": [
        "# Test Data Validation"
      ],
      "metadata": {
        "id": "Unex0sh3Ceud"
      },
      "id": "Unex0sh3Ceud"
    },
    {
      "cell_type": "markdown",
      "source": [],
      "metadata": {
        "id": "I3NWLAVFCgz0"
      },
      "id": "I3NWLAVFCgz0"
    },
    {
      "cell_type": "markdown",
      "source": [],
      "metadata": {
        "id": "MK38al0nDFBT"
      },
      "id": "MK38al0nDFBT"
    },
    {
      "cell_type": "markdown",
      "source": [],
      "metadata": {
        "id": "49refJFDDFiw"
      },
      "id": "49refJFDDFiw"
    }
  ],
  "metadata": {
    "language_info": {
      "name": "python"
    },
    "colab": {
      "provenance": []
    },
    "kernelspec": {
      "name": "python3",
      "display_name": "Python 3"
    }
  },
  "nbformat": 4,
  "nbformat_minor": 5
}