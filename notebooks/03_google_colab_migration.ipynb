{
  "cells": [
    {
      "cell_type": "markdown",
      "metadata": {
        "id": "view-in-github",
        "colab_type": "text"
      },
      "source": [
        "<a href=\"https://colab.research.google.com/github/gaurangdave/mnist_object_detection/blob/main/notebooks/03_google_colab_migration.ipynb\" target=\"_parent\"><img src=\"https://colab.research.google.com/assets/colab-badge.svg\" alt=\"Open In Colab\"/></a>"
      ]
    },
    {
      "cell_type": "markdown",
      "id": "88d9b8e6",
      "metadata": {
        "id": "88d9b8e6"
      },
      "source": [
        "<a href=\"https://colab.research.google.com/github/gaurangdave/mnist_object_detection/blob/main/notebooks/03_google_colab_migration.ipynb\" target=\"_parent\"><img src=\"https://colab.research.google.com/assets/colab-badge.svg\" alt=\"Open In Colab\"/></a>"
      ]
    },
    {
      "cell_type": "markdown",
      "id": "d5547be1",
      "metadata": {
        "id": "d5547be1"
      },
      "source": [
        "# MNIST Object Detection"
      ]
    },
    {
      "cell_type": "markdown",
      "source": [
        "# Import Libraries"
      ],
      "metadata": {
        "id": "0tP3N0G6DNgp"
      },
      "id": "0tP3N0G6DNgp"
    },
    {
      "cell_type": "code",
      "source": [
        "import pandas as pd\n",
        "import numpy as np\n",
        "from pathlib import Path\n",
        "from sklearn.datasets import fetch_openml\n",
        "from keras.datasets import mnist\n",
        "\n",
        "\n",
        "import tensorflow as tf\n",
        "import matplotlib.pyplot as plt\n",
        "import PIL\n",
        "import PIL.Image\n",
        "from matplotlib import patches\n",
        "\n"
      ],
      "metadata": {
        "id": "C88hhW3fDQFO"
      },
      "id": "C88hhW3fDQFO",
      "execution_count": 1,
      "outputs": []
    },
    {
      "cell_type": "code",
      "source": [
        "print(\"Num GPUs Available: \", len(tf.config.list_physical_devices('GPU')))"
      ],
      "metadata": {
        "colab": {
          "base_uri": "https://localhost:8080/"
        },
        "id": "4dMCwJ7fDeN1",
        "outputId": "8f52a4ec-dac5-4378-a154-9b795bc6f0b0"
      },
      "id": "4dMCwJ7fDeN1",
      "execution_count": 2,
      "outputs": [
        {
          "output_type": "stream",
          "name": "stdout",
          "text": [
            "Num GPUs Available:  0\n"
          ]
        }
      ]
    },
    {
      "cell_type": "markdown",
      "source": [
        "# Data Access"
      ],
      "metadata": {
        "id": "VPEcmSCfCH8g"
      },
      "id": "VPEcmSCfCH8g"
    },
    {
      "cell_type": "markdown",
      "source": [
        "## Set Constants  "
      ],
      "metadata": {
        "id": "wa9FmTPCDbn1"
      },
      "id": "wa9FmTPCDbn1"
    },
    {
      "cell_type": "code",
      "source": [
        "data_dir = Path(\"data\")\n",
        "models_dir = Path(\"models\")"
      ],
      "metadata": {
        "id": "xIdEzErNEHs3"
      },
      "id": "xIdEzErNEHs3",
      "execution_count": 3,
      "outputs": []
    },
    {
      "cell_type": "code",
      "source": [
        "(x_train, y_train), (x_test, y_test) = mnist.load_data()\n"
      ],
      "metadata": {
        "colab": {
          "base_uri": "https://localhost:8080/"
        },
        "id": "17DdP_OEEW9f",
        "outputId": "70b94d62-5d83-47f1-cdfa-e75cf91a87e7"
      },
      "id": "17DdP_OEEW9f",
      "execution_count": 4,
      "outputs": [
        {
          "output_type": "stream",
          "name": "stdout",
          "text": [
            "Downloading data from https://storage.googleapis.com/tensorflow/tf-keras-datasets/mnist.npz\n",
            "\u001b[1m11490434/11490434\u001b[0m \u001b[32m━━━━━━━━━━━━━━━━━━━━\u001b[0m\u001b[37m\u001b[0m \u001b[1m0s\u001b[0m 0us/step\n"
          ]
        }
      ]
    },
    {
      "cell_type": "code",
      "source": [
        "x_train.shape, y_train.shape, x_test.shape, y_test.shape"
      ],
      "metadata": {
        "colab": {
          "base_uri": "https://localhost:8080/"
        },
        "id": "WBYeASoEEXRF",
        "outputId": "cd02139e-8390-41ce-cc02-56597f1fdb90"
      },
      "id": "WBYeASoEEXRF",
      "execution_count": 5,
      "outputs": [
        {
          "output_type": "execute_result",
          "data": {
            "text/plain": [
              "((60000, 28, 28), (60000,), (10000, 28, 28), (10000,))"
            ]
          },
          "metadata": {},
          "execution_count": 5
        }
      ]
    },
    {
      "cell_type": "code",
      "source": [],
      "metadata": {
        "id": "xe9omI65EXT6"
      },
      "id": "xe9omI65EXT6",
      "execution_count": 5,
      "outputs": []
    },
    {
      "cell_type": "code",
      "source": [],
      "metadata": {
        "id": "YL1_1CCfEXWQ"
      },
      "id": "YL1_1CCfEXWQ",
      "execution_count": 5,
      "outputs": []
    },
    {
      "cell_type": "markdown",
      "source": [
        "# Data Generation"
      ],
      "metadata": {
        "id": "52Wv6_QDCRi5"
      },
      "id": "52Wv6_QDCRi5"
    },
    {
      "cell_type": "code",
      "source": [
        "ALL_MNIST_DATA_PIXELS = x_train\n",
        "ALL_MNIST_DATA_CLASSES = y_train\n",
        "\n",
        "# number of digits to overlay on canvas\n",
        "num_of_digits = 2\n",
        "\n",
        "# max digits to define the shape of prediction output\n",
        "MAX_DIGITS = 5\n",
        "\n",
        "\n",
        "# Sample Base Digits\n",
        "def get_sample_indices(dataset, size=5):\n",
        "  random_indices = np.random.choice(len(dataset), size=size, replace=False)\n",
        "  return random_indices\n",
        "\n",
        "# helper function to sample number of digits from master dataset\n",
        "def sample_base_digits(num_of_digits):\n",
        "    \"\"\"\n",
        "    Sample a specified number of digit images and their class labels from the master MNIST dataset.\n",
        "\n",
        "    Args:\n",
        "        num_of_digits (int): Number of digit samples to retrieve.\n",
        "\n",
        "    Returns:\n",
        "        tuple: (sample_pixels, sample_values)\n",
        "            sample_pixels (np.ndarray): Array of digit images with shape (num_of_digits, 28, 28, 1).\n",
        "            sample_values (np.ndarray): Array of class labels with shape (num_of_digits, 1).\n",
        "    \"\"\"\n",
        "    sample_indices = get_sample_indices(ALL_MNIST_DATA_PIXELS, size=num_of_digits)\n",
        "    sample_pixels = ALL_MNIST_DATA_PIXELS[sample_indices]\n",
        "    sample_pixels = sample_pixels.reshape(-1,28,28,1)\n",
        "\n",
        "    sample_values = ALL_MNIST_DATA_CLASSES[sample_indices]\n",
        "    sample_values = sample_values.reshape(-1, 1)\n",
        "\n",
        "    # split the digits into pixels and class values\n",
        "    # reshape the data to expected values\n",
        "    # sample_pixels = sample.drop(\n",
        "    #     columns=[\"class\"]).to_numpy().reshape(-1, 28, 28, 1)\n",
        "    # sample_values = sample[\"class\"].values.reshape(-1, 1)\n",
        "    return sample_pixels, sample_values\n",
        "# Augment Digits\n",
        "\n",
        "\n",
        "def plot_before_after(before_image, after_image):\n",
        "    \"\"\"\n",
        "    Display two images side by side for visual comparison (e.g., before and after augmentation).\n",
        "\n",
        "    Args:\n",
        "        before_image (np.ndarray): The original image.\n",
        "        after_image (np.ndarray): The image after transformation or augmentation.\n",
        "    \"\"\"\n",
        "    fig, axs = plt.subplots(1, 2, figsize=(10, 3))\n",
        "    axs = axs.ravel()\n",
        "    axs[0].imshow(before_image)\n",
        "    axs[1].imshow(after_image)\n",
        "\n",
        "    plt.axis(\"off\")  # Remove axes for better visualization\n",
        "    plt.show()\n",
        "# helper function to apply random augmentation to digits\n",
        "\n",
        "\n",
        "def augment_digits(digits, debug=False):\n",
        "    \"\"\"\n",
        "    Apply random augmentations (translation, zoom, rotation) to a batch of digit images.\n",
        "\n",
        "    Args:\n",
        "        digits (np.ndarray): Array of digit images to augment.\n",
        "        debug (bool, optional): If True, displays before/after images for each digit. Defaults to False.\n",
        "\n",
        "    Returns:\n",
        "        np.ndarray: Augmented digit images as a numpy array.\n",
        "    \"\"\"\n",
        "    tensor_digits = tf.convert_to_tensor(digits)\n",
        "\n",
        "    # step 2: apply random augmentation\n",
        "    augmentation = tf.keras.Sequential([\n",
        "        tf.keras.layers.RandomTranslation(\n",
        "            height_factor=0.2, width_factor=0.2, fill_value=0.0, fill_mode=\"constant\", seed=42),\n",
        "\n",
        "        tf.keras.layers.RandomZoom(\n",
        "            height_factor=0.2, width_factor=0.2, fill_value=0.0, fill_mode=\"constant\", seed=42),\n",
        "\n",
        "        tf.keras.layers.RandomRotation(\n",
        "            factor=0.1, fill_value=0.0, fill_mode=\"constant\", seed=42),\n",
        "    ])\n",
        "    augmented_tensor_digits = augmentation(tensor_digits)\n",
        "\n",
        "    # if debug is true render before digits\n",
        "    if debug == True:\n",
        "        for translated_imgs in range(tensor_digits.shape[0]):\n",
        "            plot_before_after(\n",
        "                tensor_digits[translated_imgs], augmented_tensor_digits[translated_imgs])\n",
        "\n",
        "    # convert the tensor back to numpy to simplify use in map function\n",
        "    return augmented_tensor_digits.numpy()\n",
        "# Calculate Tight BBox\n",
        "# helper function to calculate bounding box for each instance and return it.\n",
        "# we are going to refactor the POC that we created ealier to use it with numpy arrays in the map function\n",
        "\n",
        "\n",
        "def calculate_bounding_box(pixels, class_value, padding=1):\n",
        "    \"\"\"\n",
        "    Calculate the tight bounding box for a digit image and return its coordinates and class value.\n",
        "\n",
        "    Args:\n",
        "        pixels (np.ndarray): 2D array representing the digit image.\n",
        "        class_value (int): The class label of the digit.\n",
        "        padding (int, optional): Padding to add around the bounding box. Defaults to 1.\n",
        "\n",
        "    Returns:\n",
        "        dict: Bounding box information including coordinates, center, width, height, and class value.\n",
        "    \"\"\"\n",
        "    # calculate active rows & columns\n",
        "    active_rows = np.sum(pixels, axis=1)\n",
        "    active_columns = np.sum(pixels, axis=0)\n",
        "\n",
        "    # calculate x_min and x_max coordinate\n",
        "    x_min = np.nonzero(active_columns)[0][0]\n",
        "    x_max = np.nonzero(active_columns)[0][-1]\n",
        "    y_min = np.nonzero(active_rows)[0][0]\n",
        "    y_max = np.nonzero(active_rows)[0][-1]\n",
        "\n",
        "    # add padding to pixels\n",
        "    x_min = x_min - (padding if (x_min != 0) else 0)\n",
        "    x_max = x_max + (padding if (x_max != 27) else 0)\n",
        "    y_min = y_min - (padding if (y_min != 0) else 0)\n",
        "    y_max = y_max + (padding if (y_max != 27) else 0)\n",
        "\n",
        "    # calcualte x_center and y_center\n",
        "    x_center = round((x_min + x_max) / 2)\n",
        "    y_center = round((y_min + y_max) / 2)\n",
        "\n",
        "    # calculate width and height\n",
        "    width = x_max - x_min + 1\n",
        "    height = y_max - y_min + 1\n",
        "\n",
        "    return {\n",
        "        \"x_min\": x_min,\n",
        "        \"x_max\": x_max,\n",
        "        \"y_min\": y_min,\n",
        "        \"y_max\": y_max,\n",
        "        \"x_center\": x_center,\n",
        "        \"y_center\": y_center,\n",
        "        \"width\": width,\n",
        "        \"height\": height,\n",
        "        \"class_value\": class_value\n",
        "    }\n",
        "\n",
        "\n",
        "# helper function to visualize the bounding box\n",
        "\n",
        "\n",
        "def visualize_bounding_box(pixel_data, bounding_boxes, num_of_columns=5):\n",
        "    \"\"\"\n",
        "    Visualize digit images with their corresponding bounding boxes.\n",
        "\n",
        "    Args:\n",
        "        pixel_data (np.ndarray): Array of digit images.\n",
        "        bounding_boxes (list): List of bounding box dictionaries for each digit.\n",
        "        num_of_columns (int, optional): Number of columns in the plot grid. Defaults to 5.\n",
        "    \"\"\"\n",
        "    num_of_columns = num_of_columns if num_of_columns <= 5 else 5\n",
        "    num_instances = pixel_data.shape[0]\n",
        "    num_of_rows = int(num_instances / num_of_columns) + \\\n",
        "        (1 if int(num_instances % num_of_columns) > 0 else 0)\n",
        "\n",
        "    fig, axs = plt.subplots(num_of_rows, num_of_columns, figsize=(10, 3))\n",
        "    axs = axs.ravel()\n",
        "\n",
        "    for idx in range(0, num_instances, 1):\n",
        "\n",
        "        original = tf.constant(pixel_data[idx].reshape(28, 28, 1))\n",
        "        converted = tf.image.grayscale_to_rgb(original)\n",
        "        target_data = bounding_boxes[idx]\n",
        "        x_center = target_data[\"x_center\"]\n",
        "        y_center = target_data[\"y_center\"]\n",
        "        width = target_data[\"width\"]\n",
        "        height = target_data[\"height\"]\n",
        "\n",
        "        x = target_data[\"x_min\"]\n",
        "        y = target_data[\"y_min\"]\n",
        "\n",
        "        rect = patches.Rectangle(\n",
        "            (x, y), width=width, height=height, linewidth=1, edgecolor='r', facecolor='none')\n",
        "        image_data = converted.numpy().astype(\"uint8\")\n",
        "        axs[idx].imshow(image_data)\n",
        "        axs[idx].add_patch(rect)\n",
        "\n",
        "        axs[idx].set_title(target_data[\"class_value\"])\n",
        "        axs[idx].axis(\"off\")\n",
        "    plt.show()\n",
        "# helper function to calculate bounding box for digits.\n",
        "\n",
        "\n",
        "def calculate_tight_bbox(pixels, class_values, debug=False):\n",
        "    \"\"\"\n",
        "    Calculate tight bounding boxes for a batch of digit images.\n",
        "\n",
        "    Args:\n",
        "        pixels (np.ndarray): Array of digit images.\n",
        "        class_values (np.ndarray): Array of class labels for each digit.\n",
        "        debug (bool, optional): If True, visualizes the bounding boxes. Defaults to False.\n",
        "\n",
        "    Returns:\n",
        "        list: List of bounding box dictionaries for each digit.\n",
        "    \"\"\"\n",
        "    class_with_bbox = []\n",
        "    for idx in range(pixels.shape[0]):\n",
        "        class_with_bbox.append(calculate_bounding_box(\n",
        "            pixels[idx], class_values[idx][0]))\n",
        "\n",
        "    # if debug true render digits with bbox\n",
        "    if debug == True:\n",
        "        visualize_bounding_box(pixels, class_with_bbox, pixels.shape[0])\n",
        "\n",
        "    return class_with_bbox\n",
        "# Create Blank Canvas\n",
        "# helper function to create  blank canvas\n",
        "\n",
        "\n",
        "def create_blank_canvas(shape=(100, 100, 1)):\n",
        "    \"\"\"\n",
        "    Create a blank canvas for placing digit images.\n",
        "\n",
        "    Args:\n",
        "        shape (tuple, optional): Shape of the canvas. Defaults to (100, 100, 1).\n",
        "\n",
        "    Returns:\n",
        "        np.ndarray: Blank canvas array.\n",
        "    \"\"\"\n",
        "    canvas = np.zeros(shape=(100, 100, 1), dtype=np.float32)\n",
        "    return canvas\n",
        "# Create Prediction Object\n",
        "# helper function to create empty predition structure based on MAX_DIGITS\n",
        "\n",
        "\n",
        "def create_prediction_object():\n",
        "    \"\"\"\n",
        "    Create an empty prediction object for storing digit detection results.\n",
        "\n",
        "    Returns:\n",
        "        np.ndarray: Prediction array of shape (MAX_DIGITS, 15).\n",
        "    \"\"\"\n",
        "    prediction = np.zeros(shape=(MAX_DIGITS, 15), dtype=np.float32)\n",
        "    return prediction\n",
        "# Place Digit On Canvas\n",
        "\n",
        "\n",
        "def is_valid_coordinates(top, left, class_bbox_value, existing_coordinates):\n",
        "    \"\"\"\n",
        "    Check if the proposed top-left coordinates for a digit's bounding box are valid (within canvas and non-overlapping).\n",
        "\n",
        "    Args:\n",
        "        top (int): Proposed top coordinate.\n",
        "        left (int): Proposed left coordinate.\n",
        "        class_bbox_value (dict): Bounding box info for the digit.\n",
        "        existing_coordinates (list): List of existing bounding boxes on the canvas.\n",
        "\n",
        "    Returns:\n",
        "        bool: True if coordinates are valid, False otherwise.\n",
        "    \"\"\"\n",
        "    # # make sure the top and left are withing the canvas\n",
        "    # if (top + 28 >= 100 or left + 28 >= 100):\n",
        "    #     return False\n",
        "    # read current class values\n",
        "    # curr_x_center = class_bbox_value[\"x_center\"]\n",
        "    # curr_y_center = class_bbox_value[\"y_center\"]\n",
        "    curr_width = class_bbox_value[\"width\"]\n",
        "    curr_height = class_bbox_value[\"height\"]\n",
        "    curr_x_min = left\n",
        "    curr_y_min = top\n",
        "    curr_x_max = left + curr_width\n",
        "    curr_y_max = top + curr_height\n",
        "\n",
        "    # recalculate center with proposed top and left values\n",
        "    # curr_x_center = curr_x_center + left\n",
        "    # curr_y_center = curr_y_center + top\n",
        "\n",
        "    # check 1: will the new bounding box go beyond the grid?\n",
        "    if ((curr_x_min + curr_width) >= 100) or ((curr_y_min + curr_height) >= 100):\n",
        "        return False\n",
        "\n",
        "    # check 2: do bounding boxes overlap\n",
        "    # check the current bounding box with every existing box\n",
        "    for coord_idx in range(len(existing_coordinates)):\n",
        "        existing_x_min = existing_coordinates[coord_idx][\"x_min\"]\n",
        "        existing_y_min = existing_coordinates[coord_idx][\"y_min\"]\n",
        "        existing_x_max = existing_coordinates[coord_idx][\"x_max\"]\n",
        "        existing_y_max = existing_coordinates[coord_idx][\"y_max\"]\n",
        "        if ((curr_x_min <= existing_x_max and curr_x_max >= existing_x_min) and (curr_y_min <= existing_y_max and curr_y_max >= existing_y_min)):\n",
        "            return False\n",
        "\n",
        "    return True\n",
        "\n",
        "\n",
        "def select_top_left(class_bbox_value, existing_coordinates):\n",
        "    \"\"\"\n",
        "    Randomly select valid top-left coordinates for placing a digit on the canvas.\n",
        "\n",
        "    Args:\n",
        "        class_bbox_value (dict): Bounding box info for the digit.\n",
        "        existing_coordinates (list): List of existing bounding boxes on the canvas.\n",
        "\n",
        "    Returns:\n",
        "        tuple: (top, left) coordinates if valid, otherwise (-1, -1).\n",
        "    \"\"\"\n",
        "    got_valid_coordinates = False\n",
        "    # limiting the loop to run only 20 times\n",
        "    retries = 0\n",
        "    while ((not got_valid_coordinates) and (retries < 50)):\n",
        "        top = np.random.randint(0, high=100)\n",
        "        left = np.random.randint(0, high=100)\n",
        "        got_valid_coordinates = is_valid_coordinates(\n",
        "            top, left, class_bbox_value, existing_coordinates)\n",
        "        retries = retries+1\n",
        "\n",
        "    if got_valid_coordinates:\n",
        "        return top, left\n",
        "    return -1, -1\n",
        "\n",
        "\n",
        "# helper function to render the canvas\n",
        "# update the original plotting function to plot canvas as well.\n",
        "\n",
        "\n",
        "def render_canvas(canvas, class_bbox):\n",
        "    \"\"\"\n",
        "    Render the canvas with all placed digits and their bounding boxes.\n",
        "\n",
        "    Args:\n",
        "        canvas (np.ndarray): The canvas image.\n",
        "        class_bbox (list): List of bounding box dictionaries for each digit.\n",
        "    \"\"\"\n",
        "    num_of_digits = len(class_bbox)\n",
        "    fig, axs = plt.subplots(1, 1, figsize=(10, 3))\n",
        "    axs.imshow(canvas)  # Use 'gray' colormap to render grayscale\n",
        "    axs.axis(\"off\")\n",
        "\n",
        "    for idx in range(0, num_of_digits, 1):\n",
        "        width = class_bbox[idx][\"width\"]\n",
        "        height = class_bbox[idx][\"height\"]\n",
        "\n",
        "        x = class_bbox[idx][\"x_min\"]\n",
        "        y = class_bbox[idx][\"y_min\"]\n",
        "\n",
        "        rect = patches.Rectangle(\n",
        "            (x, y), width=width, height=height, linewidth=1, edgecolor='r', facecolor='none')\n",
        "        axs.add_patch(rect)\n",
        "\n",
        "    plt.show()\n",
        "\n",
        "\n",
        "def place_digit_on_canvas(canvas, pixels, class_bbox, debug=False):\n",
        "    \"\"\"\n",
        "    Place digit images on the canvas at valid, non-overlapping locations.\n",
        "\n",
        "    Args:\n",
        "        canvas (np.ndarray): The blank canvas to place digits on.\n",
        "        pixels (np.ndarray): Array of digit images.\n",
        "        class_bbox (list): List of bounding box dictionaries for each digit.\n",
        "        debug (bool, optional): If True, renders the canvas after placement. Defaults to False.\n",
        "\n",
        "    Returns:\n",
        "        tuple: (canvas, class_bbox) with updated canvas and bounding boxes.\n",
        "    \"\"\"\n",
        "    # list to save all the valid existing coordinates\n",
        "    existing_coordinates = []\n",
        "\n",
        "    # in case if the algorithm cannot place a digit on canvas we'll drop that digit from pixel and class_bbox\n",
        "    digits_to_drop = []\n",
        "\n",
        "    total_digits = pixels.shape[0]\n",
        "    # loop thru all the pixel values\n",
        "    for idx in range(total_digits):\n",
        "        class_bbox_value = class_bbox[idx]\n",
        "        x_center = class_bbox_value[\"x_center\"]\n",
        "        y_center = class_bbox_value[\"y_center\"]\n",
        "        width = class_bbox_value[\"width\"]\n",
        "        height = class_bbox_value[\"height\"]\n",
        "        class_value = class_bbox_value[\"class_value\"]\n",
        "        x_min = class_bbox_value[\"x_min\"]\n",
        "        y_min = class_bbox_value[\"y_min\"]\n",
        "        x_max = class_bbox_value[\"x_max\"]\n",
        "        y_max = class_bbox_value[\"y_max\"]\n",
        "\n",
        "        # print(f\"Width {width} & {int(width)}, Height {height} & {int(height)}\")\n",
        "        # width = int(width)\n",
        "        # height = int(height)\n",
        "\n",
        "        # step 1: find the right coordinates to place the digit\n",
        "        top, left = select_top_left(class_bbox_value, existing_coordinates)\n",
        "        if top != -1 and left != -1:\n",
        "            # step 2: place the digit\n",
        "            # canvas[y_min + top:y_min + top+height, x_min + left:x_min +\n",
        "            #        left + width] = pixels[idx][y_min:y_min+height, x_min:x_min+width]\n",
        "\n",
        "            canvas[top:top+height, left:\n",
        "                   left + width] = pixels[idx][y_min:y_min+height, x_min:x_min+width]\n",
        "\n",
        "            # step 3: recalculate the center based on top,left and update the class values with new center\n",
        "            class_bbox_value[\"x_center\"] = x_center + left\n",
        "            class_bbox_value[\"x_min\"] = left\n",
        "            class_bbox_value[\"x_max\"] = left + width\n",
        "\n",
        "            class_bbox_value[\"y_center\"] = y_center + top\n",
        "            class_bbox_value[\"y_min\"] = top\n",
        "            class_bbox_value[\"y_max\"] = top + height\n",
        "\n",
        "            # update the array\n",
        "            class_bbox[idx] = class_bbox_value\n",
        "            # step 5: save the existing bounding box coordinates to help select the new one\n",
        "            existing_coordinates.append(\n",
        "                class_bbox_value\n",
        "            )\n",
        "        else:\n",
        "            print(\n",
        "                f\"Error placing digit {class_value} on canvas. Couldn't fild valid coordinates\")\n",
        "            digits_to_drop.append(idx)\n",
        "\n",
        "    # drop any bbox for which we couldn't find space in canvas\n",
        "    filtered_bbox = [bbox for idx, bbox in enumerate(\n",
        "        class_bbox) if idx not in digits_to_drop]\n",
        "\n",
        "    if debug == True:\n",
        "        render_canvas(canvas=canvas, class_bbox=filtered_bbox)\n",
        "\n",
        "    return canvas, class_bbox\n",
        "# Translate BBox To Prediction Object\n",
        "# helper function to convert bbox diction to prediction object\n",
        "\n",
        "\n",
        "def translate_bbox_to_prediction(current_bbox, prediction, debug=False):\n",
        "    \"\"\"\n",
        "    Convert bounding box dictionaries to a prediction object suitable for training.\n",
        "\n",
        "    Args:\n",
        "        current_bbox (list): List of bounding box dictionaries.\n",
        "        prediction (np.ndarray): Prediction array to update.\n",
        "        debug (bool, optional): If True, prints mapping details. Defaults to False.\n",
        "\n",
        "    Returns:\n",
        "        np.ndarray: Updated prediction array.\n",
        "    \"\"\"\n",
        "    # Sanity check - ideally prediction shape should be larger than or equal to number of elements in bbox\n",
        "    if (prediction.shape[0] < len(current_bbox)):\n",
        "        print(f\"Error shape mismatch between prediction and bbox\")\n",
        "        return prediction\n",
        "\n",
        "    for idx, bbox in enumerate(current_bbox):\n",
        "        # set the flag indicating the digit is present\n",
        "        prediction[idx][0] = 1\n",
        "        # set x_center\n",
        "        prediction[idx][1] = bbox[\"x_center\"]\n",
        "        # set y_center\n",
        "        prediction[idx][2] = bbox[\"y_center\"]\n",
        "        # set width\n",
        "        prediction[idx][3] = bbox[\"width\"]\n",
        "        # set height\n",
        "        prediction[idx][4] = bbox[\"height\"]\n",
        "        # set one hot encoded value of the class\n",
        "        # read the class value\n",
        "        class_value = int(bbox[\"class_value\"])\n",
        "        # set the cell corresponding to class value to 1\n",
        "        prediction[idx][5 + class_value] = 1\n",
        "        if debug == True:\n",
        "            print(f\"current bbox is {bbox}\")\n",
        "            print(f\"mapped prediction is {prediction[idx]}\")\n",
        "\n",
        "    return prediction\n",
        "# Generate Training Example\n",
        "# helper map function to map 28x28x1 image and its class to 100x100x1 canvas and prediction object\n",
        "\n",
        "\n",
        "def generate_training_example(x, y, debug=False):\n",
        "    \"\"\"\n",
        "    Generate a training example by placing digits on a canvas and creating the corresponding prediction object.\n",
        "\n",
        "    Args:\n",
        "        x (np.ndarray): Input digit image(s).\n",
        "        y (np.ndarray): Corresponding class label(s).\n",
        "\n",
        "    Returns:\n",
        "        tuple: (canvas, prediction) where canvas is the composed image and prediction is the label array.\n",
        "    \"\"\"\n",
        "    pixels = x.reshape(-1, 28, 28, 1)\n",
        "    class_values = y.reshape(-1, 1)\n",
        "    # step 1: sample additional digits\n",
        "    if num_of_digits - 1 > 0:\n",
        "        sample_pixels, sample_values = sample_base_digits(num_of_digits - 1)\n",
        "        pixels = np.concatenate((pixels, sample_pixels))\n",
        "        class_values = np.concatenate((class_values, sample_values), axis=0)\n",
        "\n",
        "    # step 2: augment digits\n",
        "    pixels = augment_digits(pixels, debug=debug)\n",
        "\n",
        "    # step 3: calculate bounding box\n",
        "    class_with_bbox = calculate_tight_bbox(pixels, class_values, debug=debug)\n",
        "\n",
        "    # step 4: create blank canvas and prediction\n",
        "    canvas = create_blank_canvas()\n",
        "    prediction = create_prediction_object()\n",
        "\n",
        "    # step 5: place digit on canvas\n",
        "    canvas, class_bbox = place_digit_on_canvas(\n",
        "        canvas, pixels, class_with_bbox, debug=debug)\n",
        "\n",
        "    # step 6: translate bbox to prediction object\n",
        "    prediction = translate_bbox_to_prediction(\n",
        "        class_bbox, prediction, debug=debug)\n",
        "\n",
        "    # print(f\"Final canvas shape {canvas.shape}, final prediction shape {prediction.shape}\")\n",
        "    return (canvas, prediction)\n"
      ],
      "metadata": {
        "id": "ZzOBbarPERb0"
      },
      "id": "ZzOBbarPERb0",
      "execution_count": 6,
      "outputs": []
    },
    {
      "cell_type": "code",
      "source": [
        "sample_indices = get_sample_indices(x_train, 1)\n",
        "test_x = x_train[sample_indices]\n",
        "test_y = y_train[sample_indices]\n",
        "canvas, prediction = generate_training_example(test_x,test_y,debug=True)"
      ],
      "metadata": {
        "colab": {
          "base_uri": "https://localhost:8080/",
          "height": 1000
        },
        "id": "noLqDnfCEtSQ",
        "outputId": "903e8039-5fa7-4f60-d050-29c9532854c1"
      },
      "id": "noLqDnfCEtSQ",
      "execution_count": 7,
      "outputs": [
        {
          "output_type": "display_data",
          "data": {
            "text/plain": [
              "<Figure size 1000x300 with 2 Axes>"
            ],
            "image/png": "[encoded data removed]"
          },
          "metadata": {}
        },
        {
          "output_type": "display_data",
          "data": {
            "text/plain": [
              "<Figure size 1000x300 with 2 Axes>"
            ],
            "image/png": "[encoded data removed]"
          },
          "metadata": {}
        },
        {
          "output_type": "display_data",
          "data": {
            "text/plain": [
              "<Figure size 1000x300 with 2 Axes>"
            ],
            "image/png": "[encoded data removed]"
          },
          "metadata": {}
        },
        {
          "output_type": "display_data",
          "data": {
            "text/plain": [
              "<Figure size 1000x300 with 1 Axes>"
            ],
            "image/png": "[encoded data removed]"
          },
          "metadata": {}
        },
        {
          "output_type": "stream",
          "name": "stdout",
          "text": [
            "current bbox is {'x_min': 13, 'x_max': np.int64(40), 'y_min': 63, 'y_max': np.int64(90), 'x_center': 27, 'y_center': 76, 'width': np.int64(27), 'height': np.int64(27), 'class_value': np.uint8(2)}\n",
            "mapped prediction is [ 1. 27. 76. 27. 27.  0.  0.  1.  0.  0.  0.  0.  0.  0.  0.]\n",
            "current bbox is {'x_min': 62, 'x_max': np.int64(80), 'y_min': 55, 'y_max': np.int64(82), 'x_center': 74, 'y_center': 68, 'width': np.int64(18), 'height': np.int64(27), 'class_value': np.uint8(5)}\n",
            "mapped prediction is [ 1. 74. 68. 18. 27.  0.  0.  0.  0.  0.  1.  0.  0.  0.  0.]\n"
          ]
        }
      ]
    },
    {
      "cell_type": "markdown",
      "source": [
        "# Training & Evaluation"
      ],
      "metadata": {
        "id": "bb6G8EUtCZqe"
      },
      "id": "bb6G8EUtCZqe"
    },
    {
      "cell_type": "code",
      "source": [],
      "metadata": {
        "id": "Wm1NTA6AGYyx"
      },
      "id": "Wm1NTA6AGYyx",
      "execution_count": null,
      "outputs": []
    },
    {
      "cell_type": "markdown",
      "source": [
        "# Test Data Validation"
      ],
      "metadata": {
        "id": "Unex0sh3Ceud"
      },
      "id": "Unex0sh3Ceud"
    },
    {
      "cell_type": "markdown",
      "source": [],
      "metadata": {
        "id": "I3NWLAVFCgz0"
      },
      "id": "I3NWLAVFCgz0"
    },
    {
      "cell_type": "markdown",
      "source": [],
      "metadata": {
        "id": "MK38al0nDFBT"
      },
      "id": "MK38al0nDFBT"
    },
    {
      "cell_type": "markdown",
      "source": [],
      "metadata": {
        "id": "49refJFDDFiw"
      },
      "id": "49refJFDDFiw"
    }
  ],
  "metadata": {
    "language_info": {
      "name": "python"
    },
    "colab": {
      "provenance": [],
      "include_colab_link": true
    },
    "kernelspec": {
      "name": "python3",
      "display_name": "Python 3"
    }
  },
  "nbformat": 4,
  "nbformat_minor": 5
}